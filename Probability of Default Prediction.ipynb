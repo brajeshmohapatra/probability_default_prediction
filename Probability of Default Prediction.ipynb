{
 "cells": [
  {
   "cell_type": "markdown",
   "metadata": {},
   "source": [
    "### Importing Libraries"
   ]
  },
  {
   "cell_type": "code",
   "execution_count": 1,
   "metadata": {},
   "outputs": [],
   "source": [
    "import pandas as pd\n",
    "import numpy as np\n",
    "import seaborn as sns\n",
    "import matplotlib.pyplot as plt\n",
    "import warnings\n",
    "import random\n",
    "import pickle\n",
    "from sklearn.impute import SimpleImputer\n",
    "from sklearn.model_selection import train_test_split, RandomizedSearchCV\n",
    "from sklearn.ensemble import ExtraTreesClassifier\n",
    "from sklearn.metrics import accuracy_score, f1_score\n",
    "from sklearn.linear_model import LogisticRegression\n",
    "from sklearn.tree import DecisionTreeClassifier\n",
    "from sklearn.ensemble import RandomForestClassifier, AdaBoostClassifier, GradientBoostingClassifier\n",
    "from sklearn.neighbors import KNeighborsClassifier\n",
    "from sklearn.svm import SVC\n",
    "from sklearn.cluster import KMeans\n",
    "from xgboost import XGBClassifier\n",
    "%matplotlib inline\n",
    "warnings.filterwarnings(\"ignore\")\n",
    "pd.pandas.set_option('display.max_columns', None)\n",
    "pd.pandas.set_option('display.max_rows', None)"
   ]
  },
  {
   "cell_type": "markdown",
   "metadata": {},
   "source": [
    "### Reading Data Set"
   ]
  },
  {
   "cell_type": "code",
   "execution_count": 2,
   "metadata": {},
   "outputs": [
    {
     "data": {
      "text/html": [
       "<div>\n",
       "<style scoped>\n",
       "    .dataframe tbody tr th:only-of-type {\n",
       "        vertical-align: middle;\n",
       "    }\n",
       "\n",
       "    .dataframe tbody tr th {\n",
       "        vertical-align: top;\n",
       "    }\n",
       "\n",
       "    .dataframe thead th {\n",
       "        text-align: right;\n",
       "    }\n",
       "</style>\n",
       "<table border=\"1\" class=\"dataframe\">\n",
       "  <thead>\n",
       "    <tr style=\"text-align: right;\">\n",
       "      <th></th>\n",
       "      <th>person_age</th>\n",
       "      <th>person_income</th>\n",
       "      <th>person_home_ownership</th>\n",
       "      <th>person_emp_length</th>\n",
       "      <th>loan_intent</th>\n",
       "      <th>loan_grade</th>\n",
       "      <th>loan_amnt</th>\n",
       "      <th>loan_int_rate</th>\n",
       "      <th>loan_status</th>\n",
       "      <th>loan_percent_income</th>\n",
       "      <th>cb_person_default_on_file</th>\n",
       "      <th>cb_person_cred_hist_length</th>\n",
       "    </tr>\n",
       "  </thead>\n",
       "  <tbody>\n",
       "    <tr>\n",
       "      <th>0</th>\n",
       "      <td>22</td>\n",
       "      <td>59000</td>\n",
       "      <td>RENT</td>\n",
       "      <td>123.0</td>\n",
       "      <td>PERSONAL</td>\n",
       "      <td>D</td>\n",
       "      <td>35000</td>\n",
       "      <td>16.02</td>\n",
       "      <td>1</td>\n",
       "      <td>0.59</td>\n",
       "      <td>Y</td>\n",
       "      <td>3</td>\n",
       "    </tr>\n",
       "    <tr>\n",
       "      <th>1</th>\n",
       "      <td>21</td>\n",
       "      <td>9600</td>\n",
       "      <td>OWN</td>\n",
       "      <td>5.0</td>\n",
       "      <td>EDUCATION</td>\n",
       "      <td>B</td>\n",
       "      <td>1000</td>\n",
       "      <td>11.14</td>\n",
       "      <td>0</td>\n",
       "      <td>0.10</td>\n",
       "      <td>N</td>\n",
       "      <td>2</td>\n",
       "    </tr>\n",
       "    <tr>\n",
       "      <th>2</th>\n",
       "      <td>25</td>\n",
       "      <td>9600</td>\n",
       "      <td>MORTGAGE</td>\n",
       "      <td>1.0</td>\n",
       "      <td>MEDICAL</td>\n",
       "      <td>C</td>\n",
       "      <td>5500</td>\n",
       "      <td>12.87</td>\n",
       "      <td>1</td>\n",
       "      <td>0.57</td>\n",
       "      <td>N</td>\n",
       "      <td>3</td>\n",
       "    </tr>\n",
       "    <tr>\n",
       "      <th>3</th>\n",
       "      <td>23</td>\n",
       "      <td>65500</td>\n",
       "      <td>RENT</td>\n",
       "      <td>4.0</td>\n",
       "      <td>MEDICAL</td>\n",
       "      <td>C</td>\n",
       "      <td>35000</td>\n",
       "      <td>15.23</td>\n",
       "      <td>1</td>\n",
       "      <td>0.53</td>\n",
       "      <td>N</td>\n",
       "      <td>2</td>\n",
       "    </tr>\n",
       "    <tr>\n",
       "      <th>4</th>\n",
       "      <td>24</td>\n",
       "      <td>54400</td>\n",
       "      <td>RENT</td>\n",
       "      <td>8.0</td>\n",
       "      <td>MEDICAL</td>\n",
       "      <td>C</td>\n",
       "      <td>35000</td>\n",
       "      <td>14.27</td>\n",
       "      <td>1</td>\n",
       "      <td>0.55</td>\n",
       "      <td>Y</td>\n",
       "      <td>4</td>\n",
       "    </tr>\n",
       "  </tbody>\n",
       "</table>\n",
       "</div>"
      ],
      "text/plain": [
       "   person_age  person_income person_home_ownership  person_emp_length  \\\n",
       "0          22          59000                  RENT              123.0   \n",
       "1          21           9600                   OWN                5.0   \n",
       "2          25           9600              MORTGAGE                1.0   \n",
       "3          23          65500                  RENT                4.0   \n",
       "4          24          54400                  RENT                8.0   \n",
       "\n",
       "  loan_intent loan_grade  loan_amnt  loan_int_rate  loan_status  \\\n",
       "0    PERSONAL          D      35000          16.02            1   \n",
       "1   EDUCATION          B       1000          11.14            0   \n",
       "2     MEDICAL          C       5500          12.87            1   \n",
       "3     MEDICAL          C      35000          15.23            1   \n",
       "4     MEDICAL          C      35000          14.27            1   \n",
       "\n",
       "   loan_percent_income cb_person_default_on_file  cb_person_cred_hist_length  \n",
       "0                 0.59                         Y                           3  \n",
       "1                 0.10                         N                           2  \n",
       "2                 0.57                         N                           3  \n",
       "3                 0.53                         N                           2  \n",
       "4                 0.55                         Y                           4  "
      ]
     },
     "execution_count": 2,
     "metadata": {},
     "output_type": "execute_result"
    }
   ],
   "source": [
    "df = pd.read_csv('credit_risk_dataset.csv')\n",
    "df.head()"
   ]
  },
  {
   "cell_type": "markdown",
   "metadata": {},
   "source": [
    "### Shape of Data"
   ]
  },
  {
   "cell_type": "code",
   "execution_count": 3,
   "metadata": {},
   "outputs": [
    {
     "data": {
      "text/plain": [
       "(32581, 12)"
      ]
     },
     "execution_count": 3,
     "metadata": {},
     "output_type": "execute_result"
    }
   ],
   "source": [
    "df.shape"
   ]
  },
  {
   "cell_type": "markdown",
   "metadata": {},
   "source": [
    "### Columns and Data Types"
   ]
  },
  {
   "cell_type": "code",
   "execution_count": 4,
   "metadata": {},
   "outputs": [
    {
     "data": {
      "text/html": [
       "<div>\n",
       "<style scoped>\n",
       "    .dataframe tbody tr th:only-of-type {\n",
       "        vertical-align: middle;\n",
       "    }\n",
       "\n",
       "    .dataframe tbody tr th {\n",
       "        vertical-align: top;\n",
       "    }\n",
       "\n",
       "    .dataframe thead th {\n",
       "        text-align: right;\n",
       "    }\n",
       "</style>\n",
       "<table border=\"1\" class=\"dataframe\">\n",
       "  <thead>\n",
       "    <tr style=\"text-align: right;\">\n",
       "      <th></th>\n",
       "      <th>Data Type</th>\n",
       "    </tr>\n",
       "  </thead>\n",
       "  <tbody>\n",
       "    <tr>\n",
       "      <th>person_age</th>\n",
       "      <td>int64</td>\n",
       "    </tr>\n",
       "    <tr>\n",
       "      <th>person_income</th>\n",
       "      <td>int64</td>\n",
       "    </tr>\n",
       "    <tr>\n",
       "      <th>person_home_ownership</th>\n",
       "      <td>object</td>\n",
       "    </tr>\n",
       "    <tr>\n",
       "      <th>person_emp_length</th>\n",
       "      <td>float64</td>\n",
       "    </tr>\n",
       "    <tr>\n",
       "      <th>loan_intent</th>\n",
       "      <td>object</td>\n",
       "    </tr>\n",
       "    <tr>\n",
       "      <th>loan_grade</th>\n",
       "      <td>object</td>\n",
       "    </tr>\n",
       "    <tr>\n",
       "      <th>loan_amnt</th>\n",
       "      <td>int64</td>\n",
       "    </tr>\n",
       "    <tr>\n",
       "      <th>loan_int_rate</th>\n",
       "      <td>float64</td>\n",
       "    </tr>\n",
       "    <tr>\n",
       "      <th>loan_status</th>\n",
       "      <td>int64</td>\n",
       "    </tr>\n",
       "    <tr>\n",
       "      <th>loan_percent_income</th>\n",
       "      <td>float64</td>\n",
       "    </tr>\n",
       "    <tr>\n",
       "      <th>cb_person_default_on_file</th>\n",
       "      <td>object</td>\n",
       "    </tr>\n",
       "    <tr>\n",
       "      <th>cb_person_cred_hist_length</th>\n",
       "      <td>int64</td>\n",
       "    </tr>\n",
       "  </tbody>\n",
       "</table>\n",
       "</div>"
      ],
      "text/plain": [
       "                           Data Type\n",
       "person_age                     int64\n",
       "person_income                  int64\n",
       "person_home_ownership         object\n",
       "person_emp_length            float64\n",
       "loan_intent                   object\n",
       "loan_grade                    object\n",
       "loan_amnt                      int64\n",
       "loan_int_rate                float64\n",
       "loan_status                    int64\n",
       "loan_percent_income          float64\n",
       "cb_person_default_on_file     object\n",
       "cb_person_cred_hist_length     int64"
      ]
     },
     "execution_count": 4,
     "metadata": {},
     "output_type": "execute_result"
    }
   ],
   "source": [
    "data_types = pd.DataFrame(df.dtypes, columns = ['Data Type'])\n",
    "data_types"
   ]
  },
  {
   "cell_type": "markdown",
   "metadata": {},
   "source": [
    "### Missing Values"
   ]
  },
  {
   "cell_type": "code",
   "execution_count": 5,
   "metadata": {},
   "outputs": [
    {
     "data": {
      "text/html": [
       "<div>\n",
       "<style scoped>\n",
       "    .dataframe tbody tr th:only-of-type {\n",
       "        vertical-align: middle;\n",
       "    }\n",
       "\n",
       "    .dataframe tbody tr th {\n",
       "        vertical-align: top;\n",
       "    }\n",
       "\n",
       "    .dataframe thead th {\n",
       "        text-align: right;\n",
       "    }\n",
       "</style>\n",
       "<table border=\"1\" class=\"dataframe\">\n",
       "  <thead>\n",
       "    <tr style=\"text-align: right;\">\n",
       "      <th></th>\n",
       "      <th>Missing Values</th>\n",
       "      <th>Percentage</th>\n",
       "    </tr>\n",
       "  </thead>\n",
       "  <tbody>\n",
       "    <tr>\n",
       "      <th>person_age</th>\n",
       "      <td>0</td>\n",
       "      <td>0.00</td>\n",
       "    </tr>\n",
       "    <tr>\n",
       "      <th>person_income</th>\n",
       "      <td>0</td>\n",
       "      <td>0.00</td>\n",
       "    </tr>\n",
       "    <tr>\n",
       "      <th>person_home_ownership</th>\n",
       "      <td>0</td>\n",
       "      <td>0.00</td>\n",
       "    </tr>\n",
       "    <tr>\n",
       "      <th>person_emp_length</th>\n",
       "      <td>895</td>\n",
       "      <td>2.75</td>\n",
       "    </tr>\n",
       "    <tr>\n",
       "      <th>loan_intent</th>\n",
       "      <td>0</td>\n",
       "      <td>0.00</td>\n",
       "    </tr>\n",
       "    <tr>\n",
       "      <th>loan_grade</th>\n",
       "      <td>0</td>\n",
       "      <td>0.00</td>\n",
       "    </tr>\n",
       "    <tr>\n",
       "      <th>loan_amnt</th>\n",
       "      <td>0</td>\n",
       "      <td>0.00</td>\n",
       "    </tr>\n",
       "    <tr>\n",
       "      <th>loan_int_rate</th>\n",
       "      <td>3116</td>\n",
       "      <td>9.56</td>\n",
       "    </tr>\n",
       "    <tr>\n",
       "      <th>loan_status</th>\n",
       "      <td>0</td>\n",
       "      <td>0.00</td>\n",
       "    </tr>\n",
       "    <tr>\n",
       "      <th>loan_percent_income</th>\n",
       "      <td>0</td>\n",
       "      <td>0.00</td>\n",
       "    </tr>\n",
       "    <tr>\n",
       "      <th>cb_person_default_on_file</th>\n",
       "      <td>0</td>\n",
       "      <td>0.00</td>\n",
       "    </tr>\n",
       "    <tr>\n",
       "      <th>cb_person_cred_hist_length</th>\n",
       "      <td>0</td>\n",
       "      <td>0.00</td>\n",
       "    </tr>\n",
       "  </tbody>\n",
       "</table>\n",
       "</div>"
      ],
      "text/plain": [
       "                            Missing Values  Percentage\n",
       "person_age                               0        0.00\n",
       "person_income                            0        0.00\n",
       "person_home_ownership                    0        0.00\n",
       "person_emp_length                      895        2.75\n",
       "loan_intent                              0        0.00\n",
       "loan_grade                               0        0.00\n",
       "loan_amnt                                0        0.00\n",
       "loan_int_rate                         3116        9.56\n",
       "loan_status                              0        0.00\n",
       "loan_percent_income                      0        0.00\n",
       "cb_person_default_on_file                0        0.00\n",
       "cb_person_cred_hist_length               0        0.00"
      ]
     },
     "execution_count": 5,
     "metadata": {},
     "output_type": "execute_result"
    }
   ],
   "source": [
    "missing_values = pd.DataFrame(df.isna().sum(), columns = ['Missing Values'])\n",
    "missing_values['Percentage'] = round(df.isna().mean() * 100, 2)\n",
    "missing_values"
   ]
  },
  {
   "cell_type": "markdown",
   "metadata": {},
   "source": [
    "### Details of Defaulters"
   ]
  },
  {
   "cell_type": "code",
   "execution_count": 6,
   "metadata": {},
   "outputs": [
    {
     "data": {
      "text/html": [
       "<div>\n",
       "<style scoped>\n",
       "    .dataframe tbody tr th:only-of-type {\n",
       "        vertical-align: middle;\n",
       "    }\n",
       "\n",
       "    .dataframe tbody tr th {\n",
       "        vertical-align: top;\n",
       "    }\n",
       "\n",
       "    .dataframe thead th {\n",
       "        text-align: right;\n",
       "    }\n",
       "</style>\n",
       "<table border=\"1\" class=\"dataframe\">\n",
       "  <thead>\n",
       "    <tr style=\"text-align: right;\">\n",
       "      <th></th>\n",
       "      <th>person_age</th>\n",
       "      <th>person_income</th>\n",
       "      <th>person_home_ownership</th>\n",
       "      <th>person_emp_length</th>\n",
       "      <th>loan_intent</th>\n",
       "      <th>loan_grade</th>\n",
       "      <th>loan_amnt</th>\n",
       "      <th>loan_int_rate</th>\n",
       "      <th>loan_status</th>\n",
       "      <th>loan_percent_income</th>\n",
       "      <th>cb_person_default_on_file</th>\n",
       "      <th>cb_person_cred_hist_length</th>\n",
       "    </tr>\n",
       "  </thead>\n",
       "  <tbody>\n",
       "    <tr>\n",
       "      <th>0</th>\n",
       "      <td>22</td>\n",
       "      <td>59000</td>\n",
       "      <td>RENT</td>\n",
       "      <td>123.0</td>\n",
       "      <td>PERSONAL</td>\n",
       "      <td>D</td>\n",
       "      <td>35000</td>\n",
       "      <td>16.02</td>\n",
       "      <td>1</td>\n",
       "      <td>0.59</td>\n",
       "      <td>Y</td>\n",
       "      <td>3</td>\n",
       "    </tr>\n",
       "    <tr>\n",
       "      <th>2</th>\n",
       "      <td>25</td>\n",
       "      <td>9600</td>\n",
       "      <td>MORTGAGE</td>\n",
       "      <td>1.0</td>\n",
       "      <td>MEDICAL</td>\n",
       "      <td>C</td>\n",
       "      <td>5500</td>\n",
       "      <td>12.87</td>\n",
       "      <td>1</td>\n",
       "      <td>0.57</td>\n",
       "      <td>N</td>\n",
       "      <td>3</td>\n",
       "    </tr>\n",
       "    <tr>\n",
       "      <th>3</th>\n",
       "      <td>23</td>\n",
       "      <td>65500</td>\n",
       "      <td>RENT</td>\n",
       "      <td>4.0</td>\n",
       "      <td>MEDICAL</td>\n",
       "      <td>C</td>\n",
       "      <td>35000</td>\n",
       "      <td>15.23</td>\n",
       "      <td>1</td>\n",
       "      <td>0.53</td>\n",
       "      <td>N</td>\n",
       "      <td>2</td>\n",
       "    </tr>\n",
       "    <tr>\n",
       "      <th>4</th>\n",
       "      <td>24</td>\n",
       "      <td>54400</td>\n",
       "      <td>RENT</td>\n",
       "      <td>8.0</td>\n",
       "      <td>MEDICAL</td>\n",
       "      <td>C</td>\n",
       "      <td>35000</td>\n",
       "      <td>14.27</td>\n",
       "      <td>1</td>\n",
       "      <td>0.55</td>\n",
       "      <td>Y</td>\n",
       "      <td>4</td>\n",
       "    </tr>\n",
       "    <tr>\n",
       "      <th>5</th>\n",
       "      <td>21</td>\n",
       "      <td>9900</td>\n",
       "      <td>OWN</td>\n",
       "      <td>2.0</td>\n",
       "      <td>VENTURE</td>\n",
       "      <td>A</td>\n",
       "      <td>2500</td>\n",
       "      <td>7.14</td>\n",
       "      <td>1</td>\n",
       "      <td>0.25</td>\n",
       "      <td>N</td>\n",
       "      <td>2</td>\n",
       "    </tr>\n",
       "  </tbody>\n",
       "</table>\n",
       "</div>"
      ],
      "text/plain": [
       "   person_age  person_income person_home_ownership  person_emp_length  \\\n",
       "0          22          59000                  RENT              123.0   \n",
       "2          25           9600              MORTGAGE                1.0   \n",
       "3          23          65500                  RENT                4.0   \n",
       "4          24          54400                  RENT                8.0   \n",
       "5          21           9900                   OWN                2.0   \n",
       "\n",
       "  loan_intent loan_grade  loan_amnt  loan_int_rate  loan_status  \\\n",
       "0    PERSONAL          D      35000          16.02            1   \n",
       "2     MEDICAL          C       5500          12.87            1   \n",
       "3     MEDICAL          C      35000          15.23            1   \n",
       "4     MEDICAL          C      35000          14.27            1   \n",
       "5     VENTURE          A       2500           7.14            1   \n",
       "\n",
       "   loan_percent_income cb_person_default_on_file  cb_person_cred_hist_length  \n",
       "0                 0.59                         Y                           3  \n",
       "2                 0.57                         N                           3  \n",
       "3                 0.53                         N                           2  \n",
       "4                 0.55                         Y                           4  \n",
       "5                 0.25                         N                           2  "
      ]
     },
     "execution_count": 6,
     "metadata": {},
     "output_type": "execute_result"
    }
   ],
   "source": [
    "default = df[df['loan_status'] == 1]\n",
    "default.head()"
   ]
  },
  {
   "cell_type": "markdown",
   "metadata": {},
   "source": [
    "### Correlation Map"
   ]
  },
  {
   "cell_type": "code",
   "execution_count": 7,
   "metadata": {},
   "outputs": [
    {
     "data": {
      "text/plain": [
       "<AxesSubplot:>"
      ]
     },
     "execution_count": 7,
     "metadata": {},
     "output_type": "execute_result"
    },
    {
     "data": {
      "image/png": "[encoded data removed]",
      "text/plain": [
       "<Figure size 1440x720 with 2 Axes>"
      ]
     },
     "metadata": {
      "needs_background": "light"
     },
     "output_type": "display_data"
    }
   ],
   "source": [
    "fig, ax = plt.subplots()\n",
    "fig.set_size_inches(20,10)\n",
    "sns.heatmap(df.corr(), vmax = 1, vmin = -1, square = False, annot = True, mask = np.triu(df.corr()))"
   ]
  },
  {
   "cell_type": "markdown",
   "metadata": {},
   "source": [
    "        An individual's credit history in years is highly proportional to his/her age."
   ]
  },
  {
   "cell_type": "markdown",
   "metadata": {},
   "source": [
    "### Number of Defaulters"
   ]
  },
  {
   "cell_type": "code",
   "execution_count": 8,
   "metadata": {},
   "outputs": [
    {
     "data": {
      "image/png": "[encoded data removed]",
      "text/plain": [
       "<Figure size 1080x576 with 1 Axes>"
      ]
     },
     "metadata": {
      "needs_background": "light"
     },
     "output_type": "display_data"
    }
   ],
   "source": [
    "fig, ax = plt.subplots(figsize=(15, 8))\n",
    "sns.countplot(x = 'loan_status', data = df)\n",
    "plt.xticks(fontsize = 10, ha = \"right\")\n",
    "plt.yticks(fontsize = 10)\n",
    "plt.xlabel('Defaulted', fontsize = 15)\n",
    "plt.ylabel('Count', fontsize = 15)\n",
    "for p in ax.patches:\n",
    "    width, height = p.get_width(), p.get_height()\n",
    "    x, y = p.get_xy() \n",
    "    ax.annotate(f'{height/df.shape[0]:.0%}', (x + width/2, y + height * 1), ha='center', fontsize = 15)\n",
    "plt.show()"
   ]
  },
  {
   "cell_type": "markdown",
   "metadata": {},
   "source": [
    "### 1. Person's Age"
   ]
  },
  {
   "cell_type": "code",
   "execution_count": 9,
   "metadata": {},
   "outputs": [
    {
     "name": "stdout",
     "output_type": "stream",
     "text": [
      "This column has 0 null values in entire data set\n"
     ]
    },
    {
     "data": {
      "text/plain": [
       "Text(0.5, 1.0, 'Age')"
      ]
     },
     "execution_count": 9,
     "metadata": {},
     "output_type": "execute_result"
    },
    {
     "data": {
      "image/png": "[encoded data removed]",
      "text/plain": [
       "<Figure size 1080x576 with 1 Axes>"
      ]
     },
     "metadata": {
      "needs_background": "light"
     },
     "output_type": "display_data"
    }
   ],
   "source": [
    "col = 'person_age'\n",
    "print('This column has {} null values in entire data set'.format(df[col].isna().sum()))\n",
    "fig, ax = plt.subplots(figsize=(15, 8))\n",
    "df.groupby('loan_status')[col].mean().plot.bar()\n",
    "plt.xticks(rotation = 0, fontsize = 15, ha = \"right\")\n",
    "plt.yticks(fontsize = 15)\n",
    "plt.xlabel(col, fontsize = 15)\n",
    "plt.title('Age')"
   ]
  },
  {
   "cell_type": "code",
   "execution_count": 10,
   "metadata": {},
   "outputs": [
    {
     "data": {
      "text/plain": [
       "Text(0.5, 1.0, 'Distribution of Age')"
      ]
     },
     "execution_count": 10,
     "metadata": {},
     "output_type": "execute_result"
    },
    {
     "data": {
      "image/png": "[encoded data removed]",
      "text/plain": [
       "<Figure size 1080x576 with 1 Axes>"
      ]
     },
     "metadata": {
      "needs_background": "light"
     },
     "output_type": "display_data"
    }
   ],
   "source": [
    "fig, ax = plt.subplots(figsize=(15, 8))\n",
    "sns.distplot(df[col])\n",
    "plt.xticks(rotation = 0, fontsize = 15, ha = \"right\")\n",
    "plt.yticks(fontsize = 15)\n",
    "plt.xlabel(col, fontsize = 15)\n",
    "plt.title('Distribution of Age')"
   ]
  },
  {
   "cell_type": "code",
   "execution_count": 11,
   "metadata": {},
   "outputs": [
    {
     "data": {
      "text/plain": [
       "Text(0.5, 1.0, 'Outliers in Age')"
      ]
     },
     "execution_count": 11,
     "metadata": {},
     "output_type": "execute_result"
    },
    {
     "data": {
      "image/png": "[encoded data removed]",
      "text/plain": [
       "<Figure size 1080x576 with 1 Axes>"
      ]
     },
     "metadata": {
      "needs_background": "light"
     },
     "output_type": "display_data"
    }
   ],
   "source": [
    "fig, ax = plt.subplots(figsize=(15, 8))\n",
    "sns.boxplot(y = df[col])\n",
    "plt.title('Outliers in Age')"
   ]
  },
  {
   "cell_type": "code",
   "execution_count": 12,
   "metadata": {},
   "outputs": [],
   "source": [
    "t_list = []\n",
    "for i in df[col]:\n",
    "    if i > (df[col].mean() + 2 * df[col].std()):\n",
    "        t_list.append(df[col].mean() + 2 * df[col].std())\n",
    "    elif i < (df[col].mean() - 2 * df[col].std()):\n",
    "        t_list.append(df[col].mean() - 2 * df[col].std())\n",
    "    else:\n",
    "        t_list.append(i)\n",
    "df[col] = t_list"
   ]
  },
  {
   "cell_type": "markdown",
   "metadata": {},
   "source": [
    "### 2. Person's Income"
   ]
  },
  {
   "cell_type": "code",
   "execution_count": 13,
   "metadata": {},
   "outputs": [
    {
     "name": "stdout",
     "output_type": "stream",
     "text": [
      "This column has 0 null values in entire data set\n"
     ]
    },
    {
     "data": {
      "text/plain": [
       "Text(0.5, 1.0, 'Income')"
      ]
     },
     "execution_count": 13,
     "metadata": {},
     "output_type": "execute_result"
    },
    {
     "data": {
      "image/png": "[encoded data removed]",
      "text/plain": [
       "<Figure size 1080x576 with 1 Axes>"
      ]
     },
     "metadata": {
      "needs_background": "light"
     },
     "output_type": "display_data"
    }
   ],
   "source": [
    "col = 'person_income'\n",
    "print('This column has {} null values in entire data set'.format(df[col].isna().sum()))\n",
    "fig, ax = plt.subplots(figsize=(15, 8))\n",
    "df.groupby('loan_status')[col].mean().plot.bar()\n",
    "plt.xticks(rotation = 0, fontsize = 15, ha = \"right\")\n",
    "plt.yticks(fontsize = 15)\n",
    "plt.xlabel(col, fontsize = 15)\n",
    "plt.title('Income')"
   ]
  },
  {
   "cell_type": "code",
   "execution_count": 14,
   "metadata": {},
   "outputs": [
    {
     "data": {
      "text/plain": [
       "Text(0.5, 1.0, 'Distribution of Income')"
      ]
     },
     "execution_count": 14,
     "metadata": {},
     "output_type": "execute_result"
    },
    {
     "data": {
      "image/png": "[encoded data removed]",
      "text/plain": [
       "<Figure size 1080x576 with 1 Axes>"
      ]
     },
     "metadata": {
      "needs_background": "light"
     },
     "output_type": "display_data"
    }
   ],
   "source": [
    "fig, ax = plt.subplots(figsize=(15, 8))\n",
    "sns.distplot(df[col])\n",
    "plt.xticks(rotation = 0, fontsize = 15, ha = \"right\")\n",
    "plt.yticks(fontsize = 15)\n",
    "plt.xlabel(col, fontsize = 15)\n",
    "plt.title('Distribution of Income')"
   ]
  },
  {
   "cell_type": "code",
   "execution_count": 15,
   "metadata": {},
   "outputs": [
    {
     "data": {
      "text/plain": [
       "Text(0.5, 1.0, 'Outliers in Income')"
      ]
     },
     "execution_count": 15,
     "metadata": {},
     "output_type": "execute_result"
    },
    {
     "data": {
      "image/png": "[encoded data removed]",
      "text/plain": [
       "<Figure size 1080x576 with 1 Axes>"
      ]
     },
     "metadata": {
      "needs_background": "light"
     },
     "output_type": "display_data"
    }
   ],
   "source": [
    "fig, ax = plt.subplots(figsize=(15, 8))\n",
    "sns.boxplot(y = df[col])\n",
    "plt.title('Outliers in Income')"
   ]
  },
  {
   "cell_type": "code",
   "execution_count": 16,
   "metadata": {},
   "outputs": [],
   "source": [
    "t_list = []\n",
    "for i in df[col]:\n",
    "    if i > (df[col].mean() + 2 * df[col].std()):\n",
    "        t_list.append(df[col].mean() + 2 * df[col].std())\n",
    "    elif i < (df[col].mean() - 2 * df[col].std()):\n",
    "        t_list.append(df[col].mean() - 2 * df[col].std())\n",
    "    else:\n",
    "        t_list.append(i)\n",
    "df[col] = t_list"
   ]
  },
  {
   "cell_type": "markdown",
   "metadata": {},
   "source": [
    "### 3. Person's Home Ownership"
   ]
  },
  {
   "cell_type": "code",
   "execution_count": 17,
   "metadata": {},
   "outputs": [
    {
     "name": "stdout",
     "output_type": "stream",
     "text": [
      "This column has 0 null values in entire data set\n"
     ]
    },
    {
     "data": {
      "image/png": "[encoded data removed]",
      "text/plain": [
       "<Figure size 1080x576 with 1 Axes>"
      ]
     },
     "metadata": {
      "needs_background": "light"
     },
     "output_type": "display_data"
    },
    {
     "data": {
      "image/png": "[encoded data removed]",
      "text/plain": [
       "<Figure size 1080x576 with 1 Axes>"
      ]
     },
     "metadata": {
      "needs_background": "light"
     },
     "output_type": "display_data"
    }
   ],
   "source": [
    "col = 'person_home_ownership'\n",
    "print('This column has {} null values in entire data set'.format(df[col].isna().sum()))\n",
    "fig, ax = plt.subplots(figsize=(15, 8))\n",
    "sns.countplot(x = col, data = df)\n",
    "plt.xticks(fontsize = 10, ha = \"right\")\n",
    "plt.yticks(fontsize = 10)\n",
    "plt.xlabel(col, fontsize = 15)\n",
    "plt.title('Entire Data')\n",
    "for p in ax.patches:\n",
    "    width, height = p.get_width(), p.get_height()\n",
    "    x, y = p.get_xy() \n",
    "    ax.annotate(f'{height/df.shape[0]:.0%}', (x + width/2, y + height * 1), ha='center', fontsize = 15)\n",
    "plt.show()\n",
    "fig, ax = plt.subplots(figsize=(15, 8))\n",
    "sns.countplot(x = col, data = default)\n",
    "plt.xticks(fontsize = 10, ha = \"right\")\n",
    "plt.yticks(fontsize = 10)\n",
    "plt.xlabel(col, fontsize = 15)\n",
    "plt.title('Defaulters Data')\n",
    "for p in ax.patches:\n",
    "    width, height = p.get_width(), p.get_height()\n",
    "    x, y = p.get_xy() \n",
    "    ax.annotate(f'{height/default.shape[0]:.0%}', (x + width/2, y + height * 1), ha='center', fontsize = 15)\n",
    "plt.show()"
   ]
  },
  {
   "cell_type": "markdown",
   "metadata": {},
   "source": [
    "### 4. Person's Employment Length"
   ]
  },
  {
   "cell_type": "code",
   "execution_count": 18,
   "metadata": {},
   "outputs": [
    {
     "name": "stdout",
     "output_type": "stream",
     "text": [
      "This column has 895 null values in entire data set\n"
     ]
    },
    {
     "data": {
      "text/plain": [
       "Text(0.5, 1.0, 'Employment Years')"
      ]
     },
     "execution_count": 18,
     "metadata": {},
     "output_type": "execute_result"
    },
    {
     "data": {
      "image/png": "[encoded data removed]",
      "text/plain": [
       "<Figure size 1080x576 with 1 Axes>"
      ]
     },
     "metadata": {
      "needs_background": "light"
     },
     "output_type": "display_data"
    }
   ],
   "source": [
    "col = 'person_emp_length'\n",
    "print('This column has {} null values in entire data set'.format(df[col].isna().sum()))\n",
    "fig, ax = plt.subplots(figsize=(15, 8))\n",
    "df.groupby('loan_status')[col].mean().plot.bar()\n",
    "plt.xticks(rotation = 0, fontsize = 15, ha = \"right\")\n",
    "plt.yticks(fontsize = 15)\n",
    "plt.xlabel(col, fontsize = 15)\n",
    "plt.title('Employment Years')"
   ]
  },
  {
   "cell_type": "code",
   "execution_count": 19,
   "metadata": {},
   "outputs": [
    {
     "data": {
      "text/plain": [
       "Text(0.5, 1.0, 'Distribution of Experience')"
      ]
     },
     "execution_count": 19,
     "metadata": {},
     "output_type": "execute_result"
    },
    {
     "data": {
      "image/png": "[encoded data removed]",
      "text/plain": [
       "<Figure size 1080x576 with 1 Axes>"
      ]
     },
     "metadata": {
      "needs_background": "light"
     },
     "output_type": "display_data"
    }
   ],
   "source": [
    "fig, ax = plt.subplots(figsize=(15, 8))\n",
    "sns.distplot(df[col])\n",
    "plt.xticks(rotation = 0, fontsize = 15, ha = \"right\")\n",
    "plt.yticks(fontsize = 15)\n",
    "plt.xlabel(col, fontsize = 15)\n",
    "plt.title('Distribution of Experience')"
   ]
  },
  {
   "cell_type": "code",
   "execution_count": 20,
   "metadata": {},
   "outputs": [
    {
     "data": {
      "text/plain": [
       "Text(0.5, 1.0, 'Outliers in Experience')"
      ]
     },
     "execution_count": 20,
     "metadata": {},
     "output_type": "execute_result"
    },
    {
     "data": {
      "image/png": "[encoded data removed]",
      "text/plain": [
       "<Figure size 1080x576 with 1 Axes>"
      ]
     },
     "metadata": {
      "needs_background": "light"
     },
     "output_type": "display_data"
    }
   ],
   "source": [
    "fig, ax = plt.subplots(figsize=(15, 8))\n",
    "sns.boxplot(y = df[col])\n",
    "plt.title('Outliers in Experience')"
   ]
  },
  {
   "cell_type": "code",
   "execution_count": 21,
   "metadata": {},
   "outputs": [],
   "source": [
    "t_list = []\n",
    "for i in df[col]:\n",
    "    if i > (df[col].mean() + 2 * df[col].std()):\n",
    "        t_list.append(df[col].mean() + 2 * df[col].std())\n",
    "    elif i < (df[col].mean() - 2 * df[col].std()):\n",
    "        t_list.append(df[col].mean() - 2 * df[col].std())\n",
    "    else:\n",
    "        t_list.append(i)\n",
    "df[col] = t_list"
   ]
  },
  {
   "cell_type": "markdown",
   "metadata": {},
   "source": [
    "### 5. Loan Intent"
   ]
  },
  {
   "cell_type": "code",
   "execution_count": 22,
   "metadata": {},
   "outputs": [
    {
     "name": "stdout",
     "output_type": "stream",
     "text": [
      "This column has 0 null values in entire data set\n"
     ]
    },
    {
     "data": {
      "image/png": "[encoded data removed]",
      "text/plain": [
       "<Figure size 1080x576 with 1 Axes>"
      ]
     },
     "metadata": {
      "needs_background": "light"
     },
     "output_type": "display_data"
    },
    {
     "data": {
      "image/png": "[encoded data removed]",
      "text/plain": [
       "<Figure size 1080x576 with 1 Axes>"
      ]
     },
     "metadata": {
      "needs_background": "light"
     },
     "output_type": "display_data"
    }
   ],
   "source": [
    "col = 'loan_intent'\n",
    "print('This column has {} null values in entire data set'.format(df[col].isna().sum()))\n",
    "fig, ax = plt.subplots(figsize=(15, 8))\n",
    "sns.countplot(x = col, data = df)\n",
    "plt.xticks(fontsize = 10, ha = \"right\")\n",
    "plt.yticks(fontsize = 10)\n",
    "plt.xlabel(col, fontsize = 15)\n",
    "plt.title('Entire Data')\n",
    "for p in ax.patches:\n",
    "    width, height = p.get_width(), p.get_height()\n",
    "    x, y = p.get_xy() \n",
    "    ax.annotate(f'{height/df.shape[0]:.0%}', (x + width/2, y + height * 1), ha='center', fontsize = 15)\n",
    "plt.show()\n",
    "fig, ax = plt.subplots(figsize=(15, 8))\n",
    "sns.countplot(x = col, data = default)\n",
    "plt.xticks(fontsize = 10, ha = \"right\")\n",
    "plt.yticks(fontsize = 10)\n",
    "plt.xlabel(col, fontsize = 15)\n",
    "plt.title('Defaulters Data')\n",
    "for p in ax.patches:\n",
    "    width, height = p.get_width(), p.get_height()\n",
    "    x, y = p.get_xy() \n",
    "    ax.annotate(f'{height/default.shape[0]:.0%}', (x + width/2, y + height * 1), ha='center', fontsize = 15)\n",
    "plt.show()"
   ]
  },
  {
   "cell_type": "markdown",
   "metadata": {},
   "source": [
    "### 6. Loan Grade"
   ]
  },
  {
   "cell_type": "code",
   "execution_count": 23,
   "metadata": {},
   "outputs": [
    {
     "name": "stdout",
     "output_type": "stream",
     "text": [
      "This column has 0 null values in entire data set\n"
     ]
    },
    {
     "data": {
      "image/png": "[encoded data removed]",
      "text/plain": [
       "<Figure size 1080x576 with 1 Axes>"
      ]
     },
     "metadata": {
      "needs_background": "light"
     },
     "output_type": "display_data"
    },
    {
     "data": {
      "image/png": "[encoded data removed]",
      "text/plain": [
       "<Figure size 1080x576 with 1 Axes>"
      ]
     },
     "metadata": {
      "needs_background": "light"
     },
     "output_type": "display_data"
    }
   ],
   "source": [
    "col = 'loan_grade'\n",
    "print('This column has {} null values in entire data set'.format(df[col].isna().sum()))\n",
    "fig, ax = plt.subplots(figsize=(15, 8))\n",
    "sns.countplot(x = col, data = df)\n",
    "plt.xticks(fontsize = 10, ha = \"right\")\n",
    "plt.yticks(fontsize = 10)\n",
    "plt.xlabel(col, fontsize = 15)\n",
    "plt.title('Entire Data')\n",
    "for p in ax.patches:\n",
    "    width, height = p.get_width(), p.get_height()\n",
    "    x, y = p.get_xy() \n",
    "    ax.annotate(f'{height/df.shape[0]:.0%}', (x + width/2, y + height * 1), ha='center', fontsize = 15)\n",
    "plt.show()\n",
    "fig, ax = plt.subplots(figsize=(15, 8))\n",
    "sns.countplot(x = col, data = default)\n",
    "plt.xticks(fontsize = 10, ha = \"right\")\n",
    "plt.yticks(fontsize = 10)\n",
    "plt.xlabel(col, fontsize = 15)\n",
    "plt.title('Defaulters Data')\n",
    "for p in ax.patches:\n",
    "    width, height = p.get_width(), p.get_height()\n",
    "    x, y = p.get_xy() \n",
    "    ax.annotate(f'{height/default.shape[0]:.0%}', (x + width/2, y + height * 1), ha='center', fontsize = 15)\n",
    "plt.show()"
   ]
  },
  {
   "cell_type": "markdown",
   "metadata": {},
   "source": [
    "### 7. Loan Amount"
   ]
  },
  {
   "cell_type": "code",
   "execution_count": 24,
   "metadata": {},
   "outputs": [
    {
     "name": "stdout",
     "output_type": "stream",
     "text": [
      "This column has 0 null values in entire data set\n"
     ]
    },
    {
     "data": {
      "text/plain": [
       "Text(0.5, 1.0, 'Loan Amount')"
      ]
     },
     "execution_count": 24,
     "metadata": {},
     "output_type": "execute_result"
    },
    {
     "data": {
      "image/png": "[encoded data removed]",
      "text/plain": [
       "<Figure size 1080x576 with 1 Axes>"
      ]
     },
     "metadata": {
      "needs_background": "light"
     },
     "output_type": "display_data"
    }
   ],
   "source": [
    "col = 'loan_amnt'\n",
    "print('This column has {} null values in entire data set'.format(df[col].isna().sum()))\n",
    "fig, ax = plt.subplots(figsize=(15, 8))\n",
    "df.groupby('loan_status')[col].mean().plot.bar()\n",
    "plt.xticks(rotation = 0, fontsize = 15, ha = \"right\")\n",
    "plt.yticks(fontsize = 15)\n",
    "plt.xlabel(col, fontsize = 15)\n",
    "plt.title('Loan Amount')"
   ]
  },
  {
   "cell_type": "code",
   "execution_count": 25,
   "metadata": {},
   "outputs": [
    {
     "data": {
      "text/plain": [
       "Text(0.5, 1.0, 'Distribution of Amount')"
      ]
     },
     "execution_count": 25,
     "metadata": {},
     "output_type": "execute_result"
    },
    {
     "data": {
      "image/png": "[encoded data removed]",
      "text/plain": [
       "<Figure size 1080x576 with 1 Axes>"
      ]
     },
     "metadata": {
      "needs_background": "light"
     },
     "output_type": "display_data"
    }
   ],
   "source": [
    "fig, ax = plt.subplots(figsize=(15, 8))\n",
    "sns.distplot(df[col])\n",
    "plt.xticks(rotation = 0, fontsize = 15, ha = \"right\")\n",
    "plt.yticks(fontsize = 15)\n",
    "plt.xlabel(col, fontsize = 15)\n",
    "plt.title('Distribution of Amount')"
   ]
  },
  {
   "cell_type": "code",
   "execution_count": 26,
   "metadata": {
    "scrolled": false
   },
   "outputs": [
    {
     "data": {
      "text/plain": [
       "Text(0.5, 1.0, 'Outliers in Amount')"
      ]
     },
     "execution_count": 26,
     "metadata": {},
     "output_type": "execute_result"
    },
    {
     "data": {
      "image/png": "[encoded data removed]",
      "text/plain": [
       "<Figure size 1080x576 with 1 Axes>"
      ]
     },
     "metadata": {
      "needs_background": "light"
     },
     "output_type": "display_data"
    }
   ],
   "source": [
    "fig, ax = plt.subplots(figsize=(15, 8))\n",
    "sns.boxplot(y = df[col])\n",
    "plt.title('Outliers in Amount')"
   ]
  },
  {
   "cell_type": "code",
   "execution_count": 27,
   "metadata": {},
   "outputs": [],
   "source": [
    "t_list = []\n",
    "for i in df[col]:\n",
    "    if i > (df[col].mean() + 2 * df[col].std()):\n",
    "        t_list.append(df[col].mean() + 2 * df[col].std())\n",
    "    elif i < (df[col].mean() - 2 * df[col].std()):\n",
    "        t_list.append(df[col].mean() - 2 * df[col].std())\n",
    "    else:\n",
    "        t_list.append(i)\n",
    "df[col] = t_list"
   ]
  },
  {
   "cell_type": "markdown",
   "metadata": {},
   "source": [
    "### 8. Interest Rate"
   ]
  },
  {
   "cell_type": "code",
   "execution_count": 28,
   "metadata": {},
   "outputs": [
    {
     "name": "stdout",
     "output_type": "stream",
     "text": [
      "This column has 3116 null values in entire data set\n"
     ]
    },
    {
     "data": {
      "text/plain": [
       "Text(0.5, 1.0, 'Interest Rate')"
      ]
     },
     "execution_count": 28,
     "metadata": {},
     "output_type": "execute_result"
    },
    {
     "data": {
      "image/png": "[encoded data removed]",
      "text/plain": [
       "<Figure size 1080x576 with 1 Axes>"
      ]
     },
     "metadata": {
      "needs_background": "light"
     },
     "output_type": "display_data"
    }
   ],
   "source": [
    "col = 'loan_int_rate'\n",
    "print('This column has {} null values in entire data set'.format(df[col].isna().sum()))\n",
    "fig, ax = plt.subplots(figsize=(15, 8))\n",
    "df.groupby('loan_status')[col].mean().plot.bar()\n",
    "plt.xticks(rotation = 0, fontsize = 15, ha = \"right\")\n",
    "plt.yticks(fontsize = 15)\n",
    "plt.xlabel(col, fontsize = 15)\n",
    "plt.title('Interest Rate')"
   ]
  },
  {
   "cell_type": "code",
   "execution_count": 29,
   "metadata": {},
   "outputs": [
    {
     "data": {
      "text/plain": [
       "Text(0.5, 1.0, 'Distribution of Interest')"
      ]
     },
     "execution_count": 29,
     "metadata": {},
     "output_type": "execute_result"
    },
    {
     "data": {
      "image/png": "[encoded data removed]",
      "text/plain": [
       "<Figure size 1080x576 with 1 Axes>"
      ]
     },
     "metadata": {
      "needs_background": "light"
     },
     "output_type": "display_data"
    }
   ],
   "source": [
    "fig, ax = plt.subplots(figsize=(15, 8))\n",
    "sns.distplot(df[col])\n",
    "plt.xticks(rotation = 0, fontsize = 15, ha = \"right\")\n",
    "plt.yticks(fontsize = 15)\n",
    "plt.xlabel(col, fontsize = 15)\n",
    "plt.title('Distribution of Interest')"
   ]
  },
  {
   "cell_type": "code",
   "execution_count": 30,
   "metadata": {
    "scrolled": false
   },
   "outputs": [
    {
     "data": {
      "text/plain": [
       "Text(0.5, 1.0, 'Outliers in Interest')"
      ]
     },
     "execution_count": 30,
     "metadata": {},
     "output_type": "execute_result"
    },
    {
     "data": {
      "image/png": "[encoded data removed]",
      "text/plain": [
       "<Figure size 1080x576 with 1 Axes>"
      ]
     },
     "metadata": {
      "needs_background": "light"
     },
     "output_type": "display_data"
    }
   ],
   "source": [
    "fig, ax = plt.subplots(figsize=(15, 8))\n",
    "sns.boxplot(y = df[col])\n",
    "plt.title('Outliers in Interest')"
   ]
  },
  {
   "cell_type": "code",
   "execution_count": 31,
   "metadata": {},
   "outputs": [],
   "source": [
    "t_list = []\n",
    "for i in df[col]:\n",
    "    if i > (df[col].mean() + 2 * df[col].std()):\n",
    "        t_list.append(df[col].mean() + 2 * df[col].std())\n",
    "    elif i < (df[col].mean() - 2 * df[col].std()):\n",
    "        t_list.append(df[col].mean() - 2 * df[col].std())\n",
    "    else:\n",
    "        t_list.append(i)\n",
    "df[col] = t_list"
   ]
  },
  {
   "cell_type": "markdown",
   "metadata": {},
   "source": [
    "### 9. Loan Amount as Percentage of Income"
   ]
  },
  {
   "cell_type": "code",
   "execution_count": 32,
   "metadata": {},
   "outputs": [
    {
     "name": "stdout",
     "output_type": "stream",
     "text": [
      "This column has 0 null values in entire data set\n"
     ]
    },
    {
     "data": {
      "text/plain": [
       "Text(0.5, 1.0, 'Loan Amount as Percentage of Income')"
      ]
     },
     "execution_count": 32,
     "metadata": {},
     "output_type": "execute_result"
    },
    {
     "data": {
      "image/png": "[encoded data removed]",
      "text/plain": [
       "<Figure size 1080x576 with 1 Axes>"
      ]
     },
     "metadata": {
      "needs_background": "light"
     },
     "output_type": "display_data"
    }
   ],
   "source": [
    "col = 'loan_percent_income'\n",
    "print('This column has {} null values in entire data set'.format(df[col].isna().sum()))\n",
    "fig, ax = plt.subplots(figsize=(15, 8))\n",
    "df.groupby('loan_status')[col].mean().plot.bar()\n",
    "plt.xticks(rotation = 0, fontsize = 15, ha = \"right\")\n",
    "plt.yticks(fontsize = 15)\n",
    "plt.xlabel(col, fontsize = 15)\n",
    "plt.title('Loan Amount as Percentage of Income')"
   ]
  },
  {
   "cell_type": "code",
   "execution_count": 33,
   "metadata": {},
   "outputs": [
    {
     "data": {
      "text/plain": [
       "Text(0.5, 1.0, 'Distribution of Loan Amount as Percentage of Income')"
      ]
     },
     "execution_count": 33,
     "metadata": {},
     "output_type": "execute_result"
    },
    {
     "data": {
      "image/png": "[encoded data removed]",
      "text/plain": [
       "<Figure size 1080x576 with 1 Axes>"
      ]
     },
     "metadata": {
      "needs_background": "light"
     },
     "output_type": "display_data"
    }
   ],
   "source": [
    "fig, ax = plt.subplots(figsize=(15, 8))\n",
    "sns.distplot(df[col])\n",
    "plt.xticks(rotation = 0, fontsize = 15, ha = \"right\")\n",
    "plt.yticks(fontsize = 15)\n",
    "plt.xlabel(col, fontsize = 15)\n",
    "plt.title('Distribution of Loan Amount as Percentage of Income')"
   ]
  },
  {
   "cell_type": "code",
   "execution_count": 34,
   "metadata": {
    "scrolled": false
   },
   "outputs": [
    {
     "data": {
      "text/plain": [
       "Text(0.5, 1.0, 'Outliers in Loan Amount as Percentage of Income')"
      ]
     },
     "execution_count": 34,
     "metadata": {},
     "output_type": "execute_result"
    },
    {
     "data": {
      "image/png": "[encoded data removed]",
      "text/plain": [
       "<Figure size 1080x576 with 1 Axes>"
      ]
     },
     "metadata": {
      "needs_background": "light"
     },
     "output_type": "display_data"
    }
   ],
   "source": [
    "fig, ax = plt.subplots(figsize=(15, 8))\n",
    "sns.boxplot(y = df[col])\n",
    "plt.title('Outliers in Loan Amount as Percentage of Income')"
   ]
  },
  {
   "cell_type": "code",
   "execution_count": 35,
   "metadata": {},
   "outputs": [],
   "source": [
    "t_list = []\n",
    "for i in df[col]:\n",
    "    if i > (df[col].mean() + 2 * df[col].std()):\n",
    "        t_list.append(df[col].mean() + 2 * df[col].std())\n",
    "    elif i < (df[col].mean() - 2 * df[col].std()):\n",
    "        t_list.append(df[col].mean() - 2 * df[col].std())\n",
    "    else:\n",
    "        t_list.append(i)\n",
    "df[col] = t_list"
   ]
  },
  {
   "cell_type": "markdown",
   "metadata": {},
   "source": [
    "### 10. Defaulted in Past?"
   ]
  },
  {
   "cell_type": "code",
   "execution_count": 36,
   "metadata": {},
   "outputs": [
    {
     "name": "stdout",
     "output_type": "stream",
     "text": [
      "This column has 0 null values in entire data set\n"
     ]
    },
    {
     "data": {
      "image/png": "[encoded data removed]",
      "text/plain": [
       "<Figure size 1080x576 with 1 Axes>"
      ]
     },
     "metadata": {
      "needs_background": "light"
     },
     "output_type": "display_data"
    },
    {
     "data": {
      "image/png": "[encoded data removed]",
      "text/plain": [
       "<Figure size 1080x576 with 1 Axes>"
      ]
     },
     "metadata": {
      "needs_background": "light"
     },
     "output_type": "display_data"
    }
   ],
   "source": [
    "col = 'cb_person_default_on_file'\n",
    "print('This column has {} null values in entire data set'.format(df[col].isna().sum()))\n",
    "fig, ax = plt.subplots(figsize=(15, 8))\n",
    "sns.countplot(x = col, data = df)\n",
    "plt.xticks(fontsize = 10, ha = \"right\")\n",
    "plt.yticks(fontsize = 10)\n",
    "plt.xlabel(col, fontsize = 15)\n",
    "plt.title('Entire Data')\n",
    "for p in ax.patches:\n",
    "    width, height = p.get_width(), p.get_height()\n",
    "    x, y = p.get_xy() \n",
    "    ax.annotate(f'{height/df.shape[0]:.0%}', (x + width/2, y + height * 1), ha='center', fontsize = 15)\n",
    "plt.show()\n",
    "fig, ax = plt.subplots(figsize=(15, 8))\n",
    "sns.countplot(x = col, data = default)\n",
    "plt.xticks(fontsize = 10, ha = \"right\")\n",
    "plt.yticks(fontsize = 10)\n",
    "plt.xlabel(col, fontsize = 15)\n",
    "plt.title('Defaulters Data')\n",
    "for p in ax.patches:\n",
    "    width, height = p.get_width(), p.get_height()\n",
    "    x, y = p.get_xy() \n",
    "    ax.annotate(f'{height/default.shape[0]:.0%}', (x + width/2, y + height * 1), ha='center', fontsize = 15)\n",
    "plt.show()"
   ]
  },
  {
   "cell_type": "markdown",
   "metadata": {},
   "source": [
    "### 11. Credit History Length"
   ]
  },
  {
   "cell_type": "code",
   "execution_count": 37,
   "metadata": {},
   "outputs": [
    {
     "name": "stdout",
     "output_type": "stream",
     "text": [
      "This column has 0 null values in entire data set\n"
     ]
    },
    {
     "data": {
      "text/plain": [
       "Text(0.5, 1.0, 'Credit History')"
      ]
     },
     "execution_count": 37,
     "metadata": {},
     "output_type": "execute_result"
    },
    {
     "data": {
      "image/png": "[encoded data removed]",
      "text/plain": [
       "<Figure size 1080x576 with 1 Axes>"
      ]
     },
     "metadata": {
      "needs_background": "light"
     },
     "output_type": "display_data"
    }
   ],
   "source": [
    "col = 'cb_person_cred_hist_length'\n",
    "print('This column has {} null values in entire data set'.format(df[col].isna().sum()))\n",
    "fig, ax = plt.subplots(figsize=(15, 8))\n",
    "df.groupby('loan_status')[col].mean().plot.bar()\n",
    "plt.xticks(rotation = 0, fontsize = 15, ha = \"right\")\n",
    "plt.yticks(fontsize = 15)\n",
    "plt.xlabel(col, fontsize = 15)\n",
    "plt.title('Credit History')"
   ]
  },
  {
   "cell_type": "code",
   "execution_count": 38,
   "metadata": {},
   "outputs": [
    {
     "data": {
      "text/plain": [
       "Text(0.5, 1.0, 'Distribution of Credit History Length')"
      ]
     },
     "execution_count": 38,
     "metadata": {},
     "output_type": "execute_result"
    },
    {
     "data": {
      "image/png": "[encoded data removed]",
      "text/plain": [
       "<Figure size 1080x576 with 1 Axes>"
      ]
     },
     "metadata": {
      "needs_background": "light"
     },
     "output_type": "display_data"
    }
   ],
   "source": [
    "fig, ax = plt.subplots(figsize=(15, 8))\n",
    "sns.distplot(df[col])\n",
    "plt.xticks(rotation = 0, fontsize = 15, ha = \"right\")\n",
    "plt.yticks(fontsize = 15)\n",
    "plt.xlabel(col, fontsize = 15)\n",
    "plt.title('Distribution of Credit History Length')"
   ]
  },
  {
   "cell_type": "code",
   "execution_count": 39,
   "metadata": {
    "scrolled": false
   },
   "outputs": [
    {
     "data": {
      "text/plain": [
       "Text(0.5, 1.0, 'Outliers in Credit History Length')"
      ]
     },
     "execution_count": 39,
     "metadata": {},
     "output_type": "execute_result"
    },
    {
     "data": {
      "image/png": "[encoded data removed]",
      "text/plain": [
       "<Figure size 1080x576 with 1 Axes>"
      ]
     },
     "metadata": {
      "needs_background": "light"
     },
     "output_type": "display_data"
    }
   ],
   "source": [
    "fig, ax = plt.subplots(figsize=(15, 8))\n",
    "sns.boxplot(y = df[col])\n",
    "plt.title('Outliers in Credit History Length')"
   ]
  },
  {
   "cell_type": "code",
   "execution_count": 40,
   "metadata": {},
   "outputs": [],
   "source": [
    "t_list = []\n",
    "for i in df[col]:\n",
    "    if i > (df[col].mean() + 2 * df[col].std()):\n",
    "        t_list.append(df[col].mean() + 2 * df[col].std())\n",
    "    elif i < (df[col].mean() - 2 * df[col].std()):\n",
    "        t_list.append(df[col].mean() - 2 * df[col].std())\n",
    "    else:\n",
    "        t_list.append(i)\n",
    "df[col] = t_list"
   ]
  },
  {
   "cell_type": "markdown",
   "metadata": {},
   "source": [
    "### Handling Null Values"
   ]
  },
  {
   "cell_type": "code",
   "execution_count": 41,
   "metadata": {},
   "outputs": [],
   "source": [
    "imputer = SimpleImputer(missing_values = np.nan, strategy = 'mean')\n",
    "imputer.fit(df[['person_emp_length']])\n",
    "df[['person_emp_length']] = imputer.transform(df[['person_emp_length']])\n",
    "imputer.fit(df[['loan_int_rate']])\n",
    "df[['loan_int_rate']] = imputer.transform(df[['loan_int_rate']])"
   ]
  },
  {
   "cell_type": "markdown",
   "metadata": {},
   "source": [
    "### Encoding Categorical Variables"
   ]
  },
  {
   "cell_type": "code",
   "execution_count": 42,
   "metadata": {},
   "outputs": [],
   "source": [
    "dummy = []\n",
    "label = []\n",
    "for i in df.columns:\n",
    "    if df[i].dtypes == object:\n",
    "        if df[i].nunique() > 2:\n",
    "            dummy.append(i)\n",
    "        else:\n",
    "            label.append(i)"
   ]
  },
  {
   "cell_type": "code",
   "execution_count": 43,
   "metadata": {},
   "outputs": [],
   "source": [
    "df_dummy = pd.get_dummies(df[dummy], prefix_sep = '_', drop_first = True)\n",
    "df = df.drop(dummy, axis = 1)\n",
    "df = pd.concat([df, df_dummy], axis = 1)\n",
    "for i in label:\n",
    "    df[i] = np.where(df[i] == 'Y', 1, 0)"
   ]
  },
  {
   "cell_type": "markdown",
   "metadata": {},
   "source": [
    "### Train - Test Split"
   ]
  },
  {
   "cell_type": "code",
   "execution_count": 44,
   "metadata": {},
   "outputs": [],
   "source": [
    "X = df.drop('loan_status', axis = 1)\n",
    "y = df['loan_status']\n",
    "X_train, X_test, y_train, y_test = train_test_split(X, y, test_size = 0.2, random_state = 17)\n",
    "X_train, X_val, y_train, y_val = train_test_split(X_train, y_train, test_size = 0.2, random_state = 17)"
   ]
  },
  {
   "cell_type": "markdown",
   "metadata": {},
   "source": [
    "### Shapes of Train, Validation and Test Data"
   ]
  },
  {
   "cell_type": "code",
   "execution_count": 45,
   "metadata": {},
   "outputs": [
    {
     "data": {
      "text/plain": [
       "((20851, 22), (5213, 22), (6517, 22), (20851,), (5213,), (6517,))"
      ]
     },
     "execution_count": 45,
     "metadata": {},
     "output_type": "execute_result"
    }
   ],
   "source": [
    "X_train.shape, X_val.shape, X_test.shape, y_train.shape, y_val.shape, y_test.shape"
   ]
  },
  {
   "cell_type": "markdown",
   "metadata": {},
   "source": [
    "### Feature Selection"
   ]
  },
  {
   "cell_type": "code",
   "execution_count": 46,
   "metadata": {},
   "outputs": [
    {
     "data": {
      "text/html": [
       "<div>\n",
       "<style scoped>\n",
       "    .dataframe tbody tr th:only-of-type {\n",
       "        vertical-align: middle;\n",
       "    }\n",
       "\n",
       "    .dataframe tbody tr th {\n",
       "        vertical-align: top;\n",
       "    }\n",
       "\n",
       "    .dataframe thead th {\n",
       "        text-align: right;\n",
       "    }\n",
       "</style>\n",
       "<table border=\"1\" class=\"dataframe\">\n",
       "  <thead>\n",
       "    <tr style=\"text-align: right;\">\n",
       "      <th></th>\n",
       "      <th>index</th>\n",
       "      <th>Importance</th>\n",
       "    </tr>\n",
       "  </thead>\n",
       "  <tbody>\n",
       "    <tr>\n",
       "      <th>0</th>\n",
       "      <td>loan_percent_income</td>\n",
       "      <td>0.218647</td>\n",
       "    </tr>\n",
       "    <tr>\n",
       "      <th>1</th>\n",
       "      <td>person_income</td>\n",
       "      <td>0.113352</td>\n",
       "    </tr>\n",
       "    <tr>\n",
       "      <th>2</th>\n",
       "      <td>loan_int_rate</td>\n",
       "      <td>0.089851</td>\n",
       "    </tr>\n",
       "    <tr>\n",
       "      <th>3</th>\n",
       "      <td>loan_amnt</td>\n",
       "      <td>0.081516</td>\n",
       "    </tr>\n",
       "    <tr>\n",
       "      <th>4</th>\n",
       "      <td>loan_grade_D</td>\n",
       "      <td>0.074336</td>\n",
       "    </tr>\n",
       "    <tr>\n",
       "      <th>5</th>\n",
       "      <td>person_home_ownership_RENT</td>\n",
       "      <td>0.070364</td>\n",
       "    </tr>\n",
       "    <tr>\n",
       "      <th>6</th>\n",
       "      <td>person_emp_length</td>\n",
       "      <td>0.069941</td>\n",
       "    </tr>\n",
       "    <tr>\n",
       "      <th>7</th>\n",
       "      <td>person_age</td>\n",
       "      <td>0.058000</td>\n",
       "    </tr>\n",
       "    <tr>\n",
       "      <th>8</th>\n",
       "      <td>cb_person_cred_hist_length</td>\n",
       "      <td>0.048752</td>\n",
       "    </tr>\n",
       "    <tr>\n",
       "      <th>9</th>\n",
       "      <td>loan_grade_E</td>\n",
       "      <td>0.021682</td>\n",
       "    </tr>\n",
       "    <tr>\n",
       "      <th>10</th>\n",
       "      <td>loan_grade_C</td>\n",
       "      <td>0.019624</td>\n",
       "    </tr>\n",
       "    <tr>\n",
       "      <th>11</th>\n",
       "      <td>loan_intent_EDUCATION</td>\n",
       "      <td>0.017423</td>\n",
       "    </tr>\n",
       "    <tr>\n",
       "      <th>12</th>\n",
       "      <td>cb_person_default_on_file</td>\n",
       "      <td>0.017215</td>\n",
       "    </tr>\n",
       "    <tr>\n",
       "      <th>13</th>\n",
       "      <td>loan_intent_MEDICAL</td>\n",
       "      <td>0.016564</td>\n",
       "    </tr>\n",
       "    <tr>\n",
       "      <th>14</th>\n",
       "      <td>loan_intent_PERSONAL</td>\n",
       "      <td>0.016496</td>\n",
       "    </tr>\n",
       "    <tr>\n",
       "      <th>15</th>\n",
       "      <td>loan_intent_HOMEIMPROVEMENT</td>\n",
       "      <td>0.016495</td>\n",
       "    </tr>\n",
       "    <tr>\n",
       "      <th>16</th>\n",
       "      <td>loan_intent_VENTURE</td>\n",
       "      <td>0.015219</td>\n",
       "    </tr>\n",
       "    <tr>\n",
       "      <th>17</th>\n",
       "      <td>person_home_ownership_OWN</td>\n",
       "      <td>0.013943</td>\n",
       "    </tr>\n",
       "    <tr>\n",
       "      <th>18</th>\n",
       "      <td>loan_grade_F</td>\n",
       "      <td>0.007881</td>\n",
       "    </tr>\n",
       "    <tr>\n",
       "      <th>19</th>\n",
       "      <td>loan_grade_B</td>\n",
       "      <td>0.007239</td>\n",
       "    </tr>\n",
       "    <tr>\n",
       "      <th>20</th>\n",
       "      <td>loan_grade_G</td>\n",
       "      <td>0.004419</td>\n",
       "    </tr>\n",
       "    <tr>\n",
       "      <th>21</th>\n",
       "      <td>person_home_ownership_OTHER</td>\n",
       "      <td>0.001041</td>\n",
       "    </tr>\n",
       "  </tbody>\n",
       "</table>\n",
       "</div>"
      ],
      "text/plain": [
       "                          index  Importance\n",
       "0           loan_percent_income    0.218647\n",
       "1                 person_income    0.113352\n",
       "2                 loan_int_rate    0.089851\n",
       "3                     loan_amnt    0.081516\n",
       "4                  loan_grade_D    0.074336\n",
       "5    person_home_ownership_RENT    0.070364\n",
       "6             person_emp_length    0.069941\n",
       "7                    person_age    0.058000\n",
       "8    cb_person_cred_hist_length    0.048752\n",
       "9                  loan_grade_E    0.021682\n",
       "10                 loan_grade_C    0.019624\n",
       "11        loan_intent_EDUCATION    0.017423\n",
       "12    cb_person_default_on_file    0.017215\n",
       "13          loan_intent_MEDICAL    0.016564\n",
       "14         loan_intent_PERSONAL    0.016496\n",
       "15  loan_intent_HOMEIMPROVEMENT    0.016495\n",
       "16          loan_intent_VENTURE    0.015219\n",
       "17    person_home_ownership_OWN    0.013943\n",
       "18                 loan_grade_F    0.007881\n",
       "19                 loan_grade_B    0.007239\n",
       "20                 loan_grade_G    0.004419\n",
       "21  person_home_ownership_OTHER    0.001041"
      ]
     },
     "execution_count": 46,
     "metadata": {},
     "output_type": "execute_result"
    }
   ],
   "source": [
    "etc = ExtraTreesClassifier()\n",
    "etc.fit(X_train, y_train)\n",
    "fi = pd.DataFrame(etc.feature_importances_, columns = ['Importance'], index = X_train.columns)\n",
    "features = fi.sort_values(by = 'Importance', ascending = False).reset_index()\n",
    "features"
   ]
  },
  {
   "cell_type": "code",
   "execution_count": 47,
   "metadata": {},
   "outputs": [],
   "source": [
    "selected_features = []\n",
    "for i in range(0, 10):\n",
    "    selected_features.append(features['index'][i])"
   ]
  },
  {
   "cell_type": "code",
   "execution_count": 81,
   "metadata": {},
   "outputs": [
    {
     "data": {
      "text/plain": [
       "['loan_percent_income',\n",
       " 'person_income',\n",
       " 'loan_int_rate',\n",
       " 'loan_amnt',\n",
       " 'loan_grade_D',\n",
       " 'person_home_ownership_RENT',\n",
       " 'person_emp_length',\n",
       " 'person_age',\n",
       " 'cb_person_cred_hist_length',\n",
       " 'loan_grade_E']"
      ]
     },
     "execution_count": 81,
     "metadata": {},
     "output_type": "execute_result"
    }
   ],
   "source": [
    "selected_features"
   ]
  },
  {
   "cell_type": "code",
   "execution_count": 48,
   "metadata": {},
   "outputs": [],
   "source": [
    "X_train = X_train[selected_features]\n",
    "X_val = X_val[selected_features]\n",
    "X_test = X_test[selected_features]"
   ]
  },
  {
   "cell_type": "markdown",
   "metadata": {},
   "source": [
    "### New Shapes of Train, Validation and Test Data Set with Selected Features"
   ]
  },
  {
   "cell_type": "code",
   "execution_count": 49,
   "metadata": {},
   "outputs": [
    {
     "data": {
      "text/plain": [
       "((20851, 10), (5213, 10), (6517, 10), (20851,), (5213,), (6517,))"
      ]
     },
     "execution_count": 49,
     "metadata": {},
     "output_type": "execute_result"
    }
   ],
   "source": [
    "X_train.shape, X_val.shape, X_test.shape, y_train.shape, y_val.shape, y_test.shape"
   ]
  },
  {
   "cell_type": "markdown",
   "metadata": {},
   "source": [
    "### LogisticRegression()"
   ]
  },
  {
   "cell_type": "code",
   "execution_count": 50,
   "metadata": {},
   "outputs": [
    {
     "name": "stderr",
     "output_type": "stream",
     "text": [
      "[Parallel(n_jobs=1)]: Using backend SequentialBackend with 1 concurrent workers.\n",
      "[Parallel(n_jobs=1)]: Done   1 out of   1 | elapsed:    0.5s remaining:    0.0s\n",
      "[Parallel(n_jobs=1)]: Done   1 out of   1 | elapsed:    0.5s finished\n"
     ]
    }
   ],
   "source": [
    "lr = LogisticRegression(verbose = 2)\n",
    "lr.fit(X_train, y_train)\n",
    "y_train_pred_lr = lr.predict(X_train)\n",
    "y_val_pred_lr = lr.predict(X_val)"
   ]
  },
  {
   "cell_type": "code",
   "execution_count": 51,
   "metadata": {},
   "outputs": [
    {
     "name": "stdout",
     "output_type": "stream",
     "text": [
      "Train accuracy:  0.8086902306843796\n",
      "Validation accuracy:  0.8035680030692499\n",
      "Train f1_score:  0.3010338181181006\n",
      "Validation f1_score:  0.28291316526610644\n"
     ]
    }
   ],
   "source": [
    "print('Train accuracy: ', accuracy_score(y_train, y_train_pred_lr))\n",
    "print('Validation accuracy: ', accuracy_score(y_val, y_val_pred_lr))\n",
    "print('Train f1_score: ', f1_score(y_train, y_train_pred_lr))\n",
    "print('Validation f1_score: ', f1_score(y_val, y_val_pred_lr))"
   ]
  },
  {
   "cell_type": "markdown",
   "metadata": {},
   "source": [
    "### DecisionTreeClassifier()"
   ]
  },
  {
   "cell_type": "code",
   "execution_count": 52,
   "metadata": {
    "scrolled": false
   },
   "outputs": [
    {
     "name": "stdout",
     "output_type": "stream",
     "text": [
      "Fitting 10 folds for each of 10 candidates, totalling 100 fits\n",
      "[CV] splitter=random, min_samples_split=29, min_samples_leaf=38, max_depth=35, criterion=gini \n",
      "[CV]  splitter=random, min_samples_split=29, min_samples_leaf=38, max_depth=35, criterion=gini, total=   0.0s\n",
      "[CV] splitter=random, min_samples_split=29, min_samples_leaf=38, max_depth=35, criterion=gini \n",
      "[CV]  splitter=random, min_samples_split=29, min_samples_leaf=38, max_depth=35, criterion=gini, total=   0.0s\n",
      "[CV] splitter=random, min_samples_split=29, min_samples_leaf=38, max_depth=35, criterion=gini \n",
      "[CV]  splitter=random, min_samples_split=29, min_samples_leaf=38, max_depth=35, criterion=gini, total=   0.0s\n",
      "[CV] splitter=random, min_samples_split=29, min_samples_leaf=38, max_depth=35, criterion=gini \n",
      "[CV]  splitter=random, min_samples_split=29, min_samples_leaf=38, max_depth=35, criterion=gini, total=   0.0s"
     ]
    },
    {
     "name": "stderr",
     "output_type": "stream",
     "text": [
      "[Parallel(n_jobs=1)]: Using backend SequentialBackend with 1 concurrent workers.\n",
      "[Parallel(n_jobs=1)]: Done   1 out of   1 | elapsed:    0.0s remaining:    0.0s\n"
     ]
    },
    {
     "name": "stdout",
     "output_type": "stream",
     "text": [
      "\n",
      "[CV] splitter=random, min_samples_split=29, min_samples_leaf=38, max_depth=35, criterion=gini \n",
      "[CV]  splitter=random, min_samples_split=29, min_samples_leaf=38, max_depth=35, criterion=gini, total=   0.0s\n",
      "[CV] splitter=random, min_samples_split=29, min_samples_leaf=38, max_depth=35, criterion=gini \n",
      "[CV]  splitter=random, min_samples_split=29, min_samples_leaf=38, max_depth=35, criterion=gini, total=   0.0s\n",
      "[CV] splitter=random, min_samples_split=29, min_samples_leaf=38, max_depth=35, criterion=gini \n",
      "[CV]  splitter=random, min_samples_split=29, min_samples_leaf=38, max_depth=35, criterion=gini, total=   0.0s\n",
      "[CV] splitter=random, min_samples_split=29, min_samples_leaf=38, max_depth=35, criterion=gini \n",
      "[CV]  splitter=random, min_samples_split=29, min_samples_leaf=38, max_depth=35, criterion=gini, total=   0.0s\n",
      "[CV] splitter=random, min_samples_split=29, min_samples_leaf=38, max_depth=35, criterion=gini \n",
      "[CV]  splitter=random, min_samples_split=29, min_samples_leaf=38, max_depth=35, criterion=gini, total=   0.0s\n",
      "[CV] splitter=random, min_samples_split=29, min_samples_leaf=38, max_depth=35, criterion=gini \n",
      "[CV]  splitter=random, min_samples_split=29, min_samples_leaf=38, max_depth=35, criterion=gini, total=   0.0s\n",
      "[CV] splitter=random, min_samples_split=44, min_samples_leaf=48, max_depth=55, criterion=entropy \n",
      "[CV]  splitter=random, min_samples_split=44, min_samples_leaf=48, max_depth=55, criterion=entropy, total=   0.0s\n",
      "[CV] splitter=random, min_samples_split=44, min_samples_leaf=48, max_depth=55, criterion=entropy \n",
      "[CV]  splitter=random, min_samples_split=44, min_samples_leaf=48, max_depth=55, criterion=entropy, total=   0.0s\n",
      "[CV] splitter=random, min_samples_split=44, min_samples_leaf=48, max_depth=55, criterion=entropy \n",
      "[CV]  splitter=random, min_samples_split=44, min_samples_leaf=48, max_depth=55, criterion=entropy, total=   0.0s\n",
      "[CV] splitter=random, min_samples_split=44, min_samples_leaf=48, max_depth=55, criterion=entropy \n",
      "[CV]  splitter=random, min_samples_split=44, min_samples_leaf=48, max_depth=55, criterion=entropy, total=   0.0s\n",
      "[CV] splitter=random, min_samples_split=44, min_samples_leaf=48, max_depth=55, criterion=entropy \n",
      "[CV]  splitter=random, min_samples_split=44, min_samples_leaf=48, max_depth=55, criterion=entropy, total=   0.0s\n",
      "[CV] splitter=random, min_samples_split=44, min_samples_leaf=48, max_depth=55, criterion=entropy \n",
      "[CV]  splitter=random, min_samples_split=44, min_samples_leaf=48, max_depth=55, criterion=entropy, total=   0.0s\n",
      "[CV] splitter=random, min_samples_split=44, min_samples_leaf=48, max_depth=55, criterion=entropy \n",
      "[CV]  splitter=random, min_samples_split=44, min_samples_leaf=48, max_depth=55, criterion=entropy, total=   0.0s\n",
      "[CV] splitter=random, min_samples_split=44, min_samples_leaf=48, max_depth=55, criterion=entropy \n",
      "[CV]  splitter=random, min_samples_split=44, min_samples_leaf=48, max_depth=55, criterion=entropy, total=   0.0s\n",
      "[CV] splitter=random, min_samples_split=44, min_samples_leaf=48, max_depth=55, criterion=entropy \n",
      "[CV]  splitter=random, min_samples_split=44, min_samples_leaf=48, max_depth=55, criterion=entropy, total=   0.0s\n",
      "[CV] splitter=random, min_samples_split=44, min_samples_leaf=48, max_depth=55, criterion=entropy \n",
      "[CV]  splitter=random, min_samples_split=44, min_samples_leaf=48, max_depth=55, criterion=entropy, total=   0.0s\n",
      "[CV] splitter=random, min_samples_split=65, min_samples_leaf=36, max_depth=60, criterion=entropy \n",
      "[CV]  splitter=random, min_samples_split=65, min_samples_leaf=36, max_depth=60, criterion=entropy, total=   0.0s\n",
      "[CV] splitter=random, min_samples_split=65, min_samples_leaf=36, max_depth=60, criterion=entropy \n",
      "[CV]  splitter=random, min_samples_split=65, min_samples_leaf=36, max_depth=60, criterion=entropy, total=   0.0s\n",
      "[CV] splitter=random, min_samples_split=65, min_samples_leaf=36, max_depth=60, criterion=entropy \n",
      "[CV]  splitter=random, min_samples_split=65, min_samples_leaf=36, max_depth=60, criterion=entropy, total=   0.0s\n",
      "[CV] splitter=random, min_samples_split=65, min_samples_leaf=36, max_depth=60, criterion=entropy \n",
      "[CV]  splitter=random, min_samples_split=65, min_samples_leaf=36, max_depth=60, criterion=entropy, total=   0.0s\n",
      "[CV] splitter=random, min_samples_split=65, min_samples_leaf=36, max_depth=60, criterion=entropy \n",
      "[CV]  splitter=random, min_samples_split=65, min_samples_leaf=36, max_depth=60, criterion=entropy, total=   0.0s\n",
      "[CV] splitter=random, min_samples_split=65, min_samples_leaf=36, max_depth=60, criterion=entropy \n",
      "[CV]  splitter=random, min_samples_split=65, min_samples_leaf=36, max_depth=60, criterion=entropy, total=   0.0s\n",
      "[CV] splitter=random, min_samples_split=65, min_samples_leaf=36, max_depth=60, criterion=entropy \n",
      "[CV]  splitter=random, min_samples_split=65, min_samples_leaf=36, max_depth=60, criterion=entropy, total=   0.0s\n",
      "[CV] splitter=random, min_samples_split=65, min_samples_leaf=36, max_depth=60, criterion=entropy \n",
      "[CV]  splitter=random, min_samples_split=65, min_samples_leaf=36, max_depth=60, criterion=entropy, total=   0.0s\n",
      "[CV] splitter=random, min_samples_split=65, min_samples_leaf=36, max_depth=60, criterion=entropy \n",
      "[CV]  splitter=random, min_samples_split=65, min_samples_leaf=36, max_depth=60, criterion=entropy, total=   0.0s\n",
      "[CV] splitter=random, min_samples_split=65, min_samples_leaf=36, max_depth=60, criterion=entropy \n",
      "[CV]  splitter=random, min_samples_split=65, min_samples_leaf=36, max_depth=60, criterion=entropy, total=   0.0s\n",
      "[CV] splitter=best, min_samples_split=61, min_samples_leaf=5, max_depth=70, criterion=gini \n",
      "[CV]  splitter=best, min_samples_split=61, min_samples_leaf=5, max_depth=70, criterion=gini, total=   0.1s\n",
      "[CV] splitter=best, min_samples_split=61, min_samples_leaf=5, max_depth=70, criterion=gini \n",
      "[CV]  splitter=best, min_samples_split=61, min_samples_leaf=5, max_depth=70, criterion=gini, total=   0.1s\n",
      "[CV] splitter=best, min_samples_split=61, min_samples_leaf=5, max_depth=70, criterion=gini \n",
      "[CV]  splitter=best, min_samples_split=61, min_samples_leaf=5, max_depth=70, criterion=gini, total=   0.1s\n",
      "[CV] splitter=best, min_samples_split=61, min_samples_leaf=5, max_depth=70, criterion=gini \n",
      "[CV]  splitter=best, min_samples_split=61, min_samples_leaf=5, max_depth=70, criterion=gini, total=   0.1s\n",
      "[CV] splitter=best, min_samples_split=61, min_samples_leaf=5, max_depth=70, criterion=gini \n",
      "[CV]  splitter=best, min_samples_split=61, min_samples_leaf=5, max_depth=70, criterion=gini, total=   0.1s\n",
      "[CV] splitter=best, min_samples_split=61, min_samples_leaf=5, max_depth=70, criterion=gini \n",
      "[CV]  splitter=best, min_samples_split=61, min_samples_leaf=5, max_depth=70, criterion=gini, total=   0.2s\n",
      "[CV] splitter=best, min_samples_split=61, min_samples_leaf=5, max_depth=70, criterion=gini \n",
      "[CV]  splitter=best, min_samples_split=61, min_samples_leaf=5, max_depth=70, criterion=gini, total=   0.1s\n",
      "[CV] splitter=best, min_samples_split=61, min_samples_leaf=5, max_depth=70, criterion=gini \n",
      "[CV]  splitter=best, min_samples_split=61, min_samples_leaf=5, max_depth=70, criterion=gini, total=   0.2s\n",
      "[CV] splitter=best, min_samples_split=61, min_samples_leaf=5, max_depth=70, criterion=gini \n",
      "[CV]  splitter=best, min_samples_split=61, min_samples_leaf=5, max_depth=70, criterion=gini, total=   0.1s\n",
      "[CV] splitter=best, min_samples_split=61, min_samples_leaf=5, max_depth=70, criterion=gini \n",
      "[CV]  splitter=best, min_samples_split=61, min_samples_leaf=5, max_depth=70, criterion=gini, total=   0.1s\n",
      "[CV] splitter=random, min_samples_split=59, min_samples_leaf=12, max_depth=35, criterion=entropy \n",
      "[CV]  splitter=random, min_samples_split=59, min_samples_leaf=12, max_depth=35, criterion=entropy, total=   0.0s\n",
      "[CV] splitter=random, min_samples_split=59, min_samples_leaf=12, max_depth=35, criterion=entropy \n",
      "[CV]  splitter=random, min_samples_split=59, min_samples_leaf=12, max_depth=35, criterion=entropy, total=   0.0s\n",
      "[CV] splitter=random, min_samples_split=59, min_samples_leaf=12, max_depth=35, criterion=entropy \n",
      "[CV]  splitter=random, min_samples_split=59, min_samples_leaf=12, max_depth=35, criterion=entropy, total=   0.0s\n",
      "[CV] splitter=random, min_samples_split=59, min_samples_leaf=12, max_depth=35, criterion=entropy \n",
      "[CV]  splitter=random, min_samples_split=59, min_samples_leaf=12, max_depth=35, criterion=entropy, total=   0.0s\n",
      "[CV] splitter=random, min_samples_split=59, min_samples_leaf=12, max_depth=35, criterion=entropy \n",
      "[CV]  splitter=random, min_samples_split=59, min_samples_leaf=12, max_depth=35, criterion=entropy, total=   0.0s\n",
      "[CV] splitter=random, min_samples_split=59, min_samples_leaf=12, max_depth=35, criterion=entropy \n"
     ]
    },
    {
     "name": "stdout",
     "output_type": "stream",
     "text": [
      "[CV]  splitter=random, min_samples_split=59, min_samples_leaf=12, max_depth=35, criterion=entropy, total=   0.0s\n",
      "[CV] splitter=random, min_samples_split=59, min_samples_leaf=12, max_depth=35, criterion=entropy \n",
      "[CV]  splitter=random, min_samples_split=59, min_samples_leaf=12, max_depth=35, criterion=entropy, total=   0.0s\n",
      "[CV] splitter=random, min_samples_split=59, min_samples_leaf=12, max_depth=35, criterion=entropy \n",
      "[CV]  splitter=random, min_samples_split=59, min_samples_leaf=12, max_depth=35, criterion=entropy, total=   0.0s\n",
      "[CV] splitter=random, min_samples_split=59, min_samples_leaf=12, max_depth=35, criterion=entropy \n",
      "[CV]  splitter=random, min_samples_split=59, min_samples_leaf=12, max_depth=35, criterion=entropy, total=   0.0s\n",
      "[CV] splitter=random, min_samples_split=59, min_samples_leaf=12, max_depth=35, criterion=entropy \n",
      "[CV]  splitter=random, min_samples_split=59, min_samples_leaf=12, max_depth=35, criterion=entropy, total=   0.0s\n",
      "[CV] splitter=random, min_samples_split=84, min_samples_leaf=49, max_depth=50, criterion=entropy \n",
      "[CV]  splitter=random, min_samples_split=84, min_samples_leaf=49, max_depth=50, criterion=entropy, total=   0.0s\n",
      "[CV] splitter=random, min_samples_split=84, min_samples_leaf=49, max_depth=50, criterion=entropy \n",
      "[CV]  splitter=random, min_samples_split=84, min_samples_leaf=49, max_depth=50, criterion=entropy, total=   0.1s\n",
      "[CV] splitter=random, min_samples_split=84, min_samples_leaf=49, max_depth=50, criterion=entropy \n",
      "[CV]  splitter=random, min_samples_split=84, min_samples_leaf=49, max_depth=50, criterion=entropy, total=   0.0s\n",
      "[CV] splitter=random, min_samples_split=84, min_samples_leaf=49, max_depth=50, criterion=entropy \n",
      "[CV]  splitter=random, min_samples_split=84, min_samples_leaf=49, max_depth=50, criterion=entropy, total=   0.1s\n",
      "[CV] splitter=random, min_samples_split=84, min_samples_leaf=49, max_depth=50, criterion=entropy \n",
      "[CV]  splitter=random, min_samples_split=84, min_samples_leaf=49, max_depth=50, criterion=entropy, total=   0.0s\n",
      "[CV] splitter=random, min_samples_split=84, min_samples_leaf=49, max_depth=50, criterion=entropy \n",
      "[CV]  splitter=random, min_samples_split=84, min_samples_leaf=49, max_depth=50, criterion=entropy, total=   0.0s\n",
      "[CV] splitter=random, min_samples_split=84, min_samples_leaf=49, max_depth=50, criterion=entropy \n",
      "[CV]  splitter=random, min_samples_split=84, min_samples_leaf=49, max_depth=50, criterion=entropy, total=   0.0s\n",
      "[CV] splitter=random, min_samples_split=84, min_samples_leaf=49, max_depth=50, criterion=entropy \n",
      "[CV]  splitter=random, min_samples_split=84, min_samples_leaf=49, max_depth=50, criterion=entropy, total=   0.1s\n",
      "[CV] splitter=random, min_samples_split=84, min_samples_leaf=49, max_depth=50, criterion=entropy \n",
      "[CV]  splitter=random, min_samples_split=84, min_samples_leaf=49, max_depth=50, criterion=entropy, total=   0.0s\n",
      "[CV] splitter=random, min_samples_split=84, min_samples_leaf=49, max_depth=50, criterion=entropy \n",
      "[CV]  splitter=random, min_samples_split=84, min_samples_leaf=49, max_depth=50, criterion=entropy, total=   0.0s\n",
      "[CV] splitter=best, min_samples_split=39, min_samples_leaf=19, max_depth=90, criterion=entropy \n",
      "[CV]  splitter=best, min_samples_split=39, min_samples_leaf=19, max_depth=90, criterion=entropy, total=   0.1s\n",
      "[CV] splitter=best, min_samples_split=39, min_samples_leaf=19, max_depth=90, criterion=entropy \n",
      "[CV]  splitter=best, min_samples_split=39, min_samples_leaf=19, max_depth=90, criterion=entropy, total=   0.1s\n",
      "[CV] splitter=best, min_samples_split=39, min_samples_leaf=19, max_depth=90, criterion=entropy \n",
      "[CV]  splitter=best, min_samples_split=39, min_samples_leaf=19, max_depth=90, criterion=entropy, total=   0.2s\n",
      "[CV] splitter=best, min_samples_split=39, min_samples_leaf=19, max_depth=90, criterion=entropy \n",
      "[CV]  splitter=best, min_samples_split=39, min_samples_leaf=19, max_depth=90, criterion=entropy, total=   0.1s\n",
      "[CV] splitter=best, min_samples_split=39, min_samples_leaf=19, max_depth=90, criterion=entropy \n",
      "[CV]  splitter=best, min_samples_split=39, min_samples_leaf=19, max_depth=90, criterion=entropy, total=   0.1s\n",
      "[CV] splitter=best, min_samples_split=39, min_samples_leaf=19, max_depth=90, criterion=entropy \n",
      "[CV]  splitter=best, min_samples_split=39, min_samples_leaf=19, max_depth=90, criterion=entropy, total=   0.1s\n",
      "[CV] splitter=best, min_samples_split=39, min_samples_leaf=19, max_depth=90, criterion=entropy \n",
      "[CV]  splitter=best, min_samples_split=39, min_samples_leaf=19, max_depth=90, criterion=entropy, total=   0.2s\n",
      "[CV] splitter=best, min_samples_split=39, min_samples_leaf=19, max_depth=90, criterion=entropy \n",
      "[CV]  splitter=best, min_samples_split=39, min_samples_leaf=19, max_depth=90, criterion=entropy, total=   0.1s\n",
      "[CV] splitter=best, min_samples_split=39, min_samples_leaf=19, max_depth=90, criterion=entropy \n",
      "[CV]  splitter=best, min_samples_split=39, min_samples_leaf=19, max_depth=90, criterion=entropy, total=   0.1s\n",
      "[CV] splitter=best, min_samples_split=39, min_samples_leaf=19, max_depth=90, criterion=entropy \n",
      "[CV]  splitter=best, min_samples_split=39, min_samples_leaf=19, max_depth=90, criterion=entropy, total=   0.1s\n",
      "[CV] splitter=random, min_samples_split=56, min_samples_leaf=32, max_depth=100, criterion=entropy \n",
      "[CV]  splitter=random, min_samples_split=56, min_samples_leaf=32, max_depth=100, criterion=entropy, total=   0.0s\n",
      "[CV] splitter=random, min_samples_split=56, min_samples_leaf=32, max_depth=100, criterion=entropy \n",
      "[CV]  splitter=random, min_samples_split=56, min_samples_leaf=32, max_depth=100, criterion=entropy, total=   0.1s\n",
      "[CV] splitter=random, min_samples_split=56, min_samples_leaf=32, max_depth=100, criterion=entropy \n",
      "[CV]  splitter=random, min_samples_split=56, min_samples_leaf=32, max_depth=100, criterion=entropy, total=   0.1s\n",
      "[CV] splitter=random, min_samples_split=56, min_samples_leaf=32, max_depth=100, criterion=entropy \n",
      "[CV]  splitter=random, min_samples_split=56, min_samples_leaf=32, max_depth=100, criterion=entropy, total=   0.1s\n",
      "[CV] splitter=random, min_samples_split=56, min_samples_leaf=32, max_depth=100, criterion=entropy \n",
      "[CV]  splitter=random, min_samples_split=56, min_samples_leaf=32, max_depth=100, criterion=entropy, total=   0.0s\n",
      "[CV] splitter=random, min_samples_split=56, min_samples_leaf=32, max_depth=100, criterion=entropy \n",
      "[CV]  splitter=random, min_samples_split=56, min_samples_leaf=32, max_depth=100, criterion=entropy, total=   0.0s\n",
      "[CV] splitter=random, min_samples_split=56, min_samples_leaf=32, max_depth=100, criterion=entropy \n",
      "[CV]  splitter=random, min_samples_split=56, min_samples_leaf=32, max_depth=100, criterion=entropy, total=   0.0s\n",
      "[CV] splitter=random, min_samples_split=56, min_samples_leaf=32, max_depth=100, criterion=entropy \n",
      "[CV]  splitter=random, min_samples_split=56, min_samples_leaf=32, max_depth=100, criterion=entropy, total=   0.0s\n",
      "[CV] splitter=random, min_samples_split=56, min_samples_leaf=32, max_depth=100, criterion=entropy \n",
      "[CV]  splitter=random, min_samples_split=56, min_samples_leaf=32, max_depth=100, criterion=entropy, total=   0.0s\n",
      "[CV] splitter=random, min_samples_split=56, min_samples_leaf=32, max_depth=100, criterion=entropy \n",
      "[CV]  splitter=random, min_samples_split=56, min_samples_leaf=32, max_depth=100, criterion=entropy, total=   0.0s\n",
      "[CV] splitter=best, min_samples_split=79, min_samples_leaf=10, max_depth=60, criterion=entropy \n",
      "[CV]  splitter=best, min_samples_split=79, min_samples_leaf=10, max_depth=60, criterion=entropy, total=   0.2s\n",
      "[CV] splitter=best, min_samples_split=79, min_samples_leaf=10, max_depth=60, criterion=entropy \n",
      "[CV]  splitter=best, min_samples_split=79, min_samples_leaf=10, max_depth=60, criterion=entropy, total=   0.1s\n",
      "[CV] splitter=best, min_samples_split=79, min_samples_leaf=10, max_depth=60, criterion=entropy \n",
      "[CV]  splitter=best, min_samples_split=79, min_samples_leaf=10, max_depth=60, criterion=entropy, total=   0.1s\n",
      "[CV] splitter=best, min_samples_split=79, min_samples_leaf=10, max_depth=60, criterion=entropy \n",
      "[CV]  splitter=best, min_samples_split=79, min_samples_leaf=10, max_depth=60, criterion=entropy, total=   0.1s\n",
      "[CV] splitter=best, min_samples_split=79, min_samples_leaf=10, max_depth=60, criterion=entropy \n",
      "[CV]  splitter=best, min_samples_split=79, min_samples_leaf=10, max_depth=60, criterion=entropy, total=   0.1s\n",
      "[CV] splitter=best, min_samples_split=79, min_samples_leaf=10, max_depth=60, criterion=entropy \n",
      "[CV]  splitter=best, min_samples_split=79, min_samples_leaf=10, max_depth=60, criterion=entropy, total=   0.1s\n",
      "[CV] splitter=best, min_samples_split=79, min_samples_leaf=10, max_depth=60, criterion=entropy \n"
     ]
    },
    {
     "name": "stdout",
     "output_type": "stream",
     "text": [
      "[CV]  splitter=best, min_samples_split=79, min_samples_leaf=10, max_depth=60, criterion=entropy, total=   0.1s\n",
      "[CV] splitter=best, min_samples_split=79, min_samples_leaf=10, max_depth=60, criterion=entropy \n",
      "[CV]  splitter=best, min_samples_split=79, min_samples_leaf=10, max_depth=60, criterion=entropy, total=   0.2s\n",
      "[CV] splitter=best, min_samples_split=79, min_samples_leaf=10, max_depth=60, criterion=entropy \n",
      "[CV]  splitter=best, min_samples_split=79, min_samples_leaf=10, max_depth=60, criterion=entropy, total=   0.1s\n",
      "[CV] splitter=best, min_samples_split=79, min_samples_leaf=10, max_depth=60, criterion=entropy \n",
      "[CV]  splitter=best, min_samples_split=79, min_samples_leaf=10, max_depth=60, criterion=entropy, total=   0.1s\n",
      "[CV] splitter=best, min_samples_split=59, min_samples_leaf=16, max_depth=45, criterion=gini \n",
      "[CV]  splitter=best, min_samples_split=59, min_samples_leaf=16, max_depth=45, criterion=gini, total=   0.1s\n",
      "[CV] splitter=best, min_samples_split=59, min_samples_leaf=16, max_depth=45, criterion=gini \n",
      "[CV]  splitter=best, min_samples_split=59, min_samples_leaf=16, max_depth=45, criterion=gini, total=   0.1s\n",
      "[CV] splitter=best, min_samples_split=59, min_samples_leaf=16, max_depth=45, criterion=gini \n",
      "[CV]  splitter=best, min_samples_split=59, min_samples_leaf=16, max_depth=45, criterion=gini, total=   0.1s\n",
      "[CV] splitter=best, min_samples_split=59, min_samples_leaf=16, max_depth=45, criterion=gini \n",
      "[CV]  splitter=best, min_samples_split=59, min_samples_leaf=16, max_depth=45, criterion=gini, total=   0.1s\n",
      "[CV] splitter=best, min_samples_split=59, min_samples_leaf=16, max_depth=45, criterion=gini \n",
      "[CV]  splitter=best, min_samples_split=59, min_samples_leaf=16, max_depth=45, criterion=gini, total=   0.1s\n",
      "[CV] splitter=best, min_samples_split=59, min_samples_leaf=16, max_depth=45, criterion=gini \n",
      "[CV]  splitter=best, min_samples_split=59, min_samples_leaf=16, max_depth=45, criterion=gini, total=   0.1s\n",
      "[CV] splitter=best, min_samples_split=59, min_samples_leaf=16, max_depth=45, criterion=gini \n",
      "[CV]  splitter=best, min_samples_split=59, min_samples_leaf=16, max_depth=45, criterion=gini, total=   0.1s\n",
      "[CV] splitter=best, min_samples_split=59, min_samples_leaf=16, max_depth=45, criterion=gini \n",
      "[CV]  splitter=best, min_samples_split=59, min_samples_leaf=16, max_depth=45, criterion=gini, total=   0.1s\n",
      "[CV] splitter=best, min_samples_split=59, min_samples_leaf=16, max_depth=45, criterion=gini \n",
      "[CV]  splitter=best, min_samples_split=59, min_samples_leaf=16, max_depth=45, criterion=gini, total=   0.1s\n",
      "[CV] splitter=best, min_samples_split=59, min_samples_leaf=16, max_depth=45, criterion=gini \n",
      "[CV]  splitter=best, min_samples_split=59, min_samples_leaf=16, max_depth=45, criterion=gini, total=   0.1s\n"
     ]
    },
    {
     "name": "stderr",
     "output_type": "stream",
     "text": [
      "[Parallel(n_jobs=1)]: Done 100 out of 100 | elapsed:    7.8s finished\n"
     ]
    },
    {
     "data": {
      "text/plain": [
       "{'splitter': 'best',\n",
       " 'min_samples_split': 79,\n",
       " 'min_samples_leaf': 10,\n",
       " 'max_depth': 60,\n",
       " 'criterion': 'entropy'}"
      ]
     },
     "execution_count": 52,
     "metadata": {},
     "output_type": "execute_result"
    }
   ],
   "source": [
    "dtc = DecisionTreeClassifier()\n",
    "possible_parameter_values = {'criterion' : ['gini', 'entropy'],\n",
    "                             'splitter' : ['best', 'random'],\n",
    "                             'max_depth' : [int(x) for x in np.arange(start = 5, stop = 101, step = 5)],\n",
    "                             'min_samples_split' : [int(x) for x in np.arange(start = 5, stop = 101, step = 1)],\n",
    "                             'min_samples_leaf' : [int(x) for x in np.arange(start = 1, stop = 51, step = 1)]}\n",
    "dtc_rscv = RandomizedSearchCV(estimator = dtc, param_distributions = possible_parameter_values, cv = 10, scoring = 'accuracy', verbose = 2, random_state = 17, n_jobs = 1)\n",
    "dtc_rscv.fit(X_train, y_train)\n",
    "dtc_rscv.best_params_"
   ]
  },
  {
   "cell_type": "code",
   "execution_count": 53,
   "metadata": {},
   "outputs": [],
   "source": [
    "y_train_pred_dtc = dtc_rscv.predict(X_train)\n",
    "y_val_pred_dtc = dtc_rscv.predict(X_val)"
   ]
  },
  {
   "cell_type": "code",
   "execution_count": 54,
   "metadata": {},
   "outputs": [
    {
     "name": "stdout",
     "output_type": "stream",
     "text": [
      "Train accuracy:  0.9095966620305981\n",
      "Validation accuracy:  0.8902743142144638\n",
      "Train f1_score:  0.7571815019966508\n",
      "Validation f1_score:  0.7105263157894738\n"
     ]
    }
   ],
   "source": [
    "print('Train accuracy: ', accuracy_score(y_train, y_train_pred_dtc))\n",
    "print('Validation accuracy: ', accuracy_score(y_val, y_val_pred_dtc))\n",
    "print('Train f1_score: ', f1_score(y_train, y_train_pred_dtc))\n",
    "print('Validation f1_score: ', f1_score(y_val, y_val_pred_dtc))"
   ]
  },
  {
   "cell_type": "markdown",
   "metadata": {},
   "source": [
    "### RandomForestClassifier()"
   ]
  },
  {
   "cell_type": "code",
   "execution_count": 55,
   "metadata": {
    "scrolled": false
   },
   "outputs": [
    {
     "name": "stdout",
     "output_type": "stream",
     "text": [
      "Fitting 10 folds for each of 10 candidates, totalling 100 fits\n",
      "[CV] n_estimators=800, min_samples_split=93, min_samples_leaf=10, max_depth=65, criterion=entropy \n"
     ]
    },
    {
     "name": "stderr",
     "output_type": "stream",
     "text": [
      "[Parallel(n_jobs=1)]: Using backend SequentialBackend with 1 concurrent workers.\n"
     ]
    },
    {
     "name": "stdout",
     "output_type": "stream",
     "text": [
      "[CV]  n_estimators=800, min_samples_split=93, min_samples_leaf=10, max_depth=65, criterion=entropy, total=  21.2s\n",
      "[CV] n_estimators=800, min_samples_split=93, min_samples_leaf=10, max_depth=65, criterion=entropy \n"
     ]
    },
    {
     "name": "stderr",
     "output_type": "stream",
     "text": [
      "[Parallel(n_jobs=1)]: Done   1 out of   1 | elapsed:   21.1s remaining:    0.0s\n"
     ]
    },
    {
     "name": "stdout",
     "output_type": "stream",
     "text": [
      "[CV]  n_estimators=800, min_samples_split=93, min_samples_leaf=10, max_depth=65, criterion=entropy, total=  20.8s\n",
      "[CV] n_estimators=800, min_samples_split=93, min_samples_leaf=10, max_depth=65, criterion=entropy \n",
      "[CV]  n_estimators=800, min_samples_split=93, min_samples_leaf=10, max_depth=65, criterion=entropy, total=  22.5s\n",
      "[CV] n_estimators=800, min_samples_split=93, min_samples_leaf=10, max_depth=65, criterion=entropy \n",
      "[CV]  n_estimators=800, min_samples_split=93, min_samples_leaf=10, max_depth=65, criterion=entropy, total=  21.1s\n",
      "[CV] n_estimators=800, min_samples_split=93, min_samples_leaf=10, max_depth=65, criterion=entropy \n",
      "[CV]  n_estimators=800, min_samples_split=93, min_samples_leaf=10, max_depth=65, criterion=entropy, total=  20.9s\n",
      "[CV] n_estimators=800, min_samples_split=93, min_samples_leaf=10, max_depth=65, criterion=entropy \n",
      "[CV]  n_estimators=800, min_samples_split=93, min_samples_leaf=10, max_depth=65, criterion=entropy, total=  20.7s\n",
      "[CV] n_estimators=800, min_samples_split=93, min_samples_leaf=10, max_depth=65, criterion=entropy \n",
      "[CV]  n_estimators=800, min_samples_split=93, min_samples_leaf=10, max_depth=65, criterion=entropy, total=  21.9s\n",
      "[CV] n_estimators=800, min_samples_split=93, min_samples_leaf=10, max_depth=65, criterion=entropy \n",
      "[CV]  n_estimators=800, min_samples_split=93, min_samples_leaf=10, max_depth=65, criterion=entropy, total=  22.0s\n",
      "[CV] n_estimators=800, min_samples_split=93, min_samples_leaf=10, max_depth=65, criterion=entropy \n",
      "[CV]  n_estimators=800, min_samples_split=93, min_samples_leaf=10, max_depth=65, criterion=entropy, total=  21.0s\n",
      "[CV] n_estimators=800, min_samples_split=93, min_samples_leaf=10, max_depth=65, criterion=entropy \n",
      "[CV]  n_estimators=800, min_samples_split=93, min_samples_leaf=10, max_depth=65, criterion=entropy, total=  20.6s\n",
      "[CV] n_estimators=100, min_samples_split=81, min_samples_leaf=7, max_depth=35, criterion=gini \n",
      "[CV]  n_estimators=100, min_samples_split=81, min_samples_leaf=7, max_depth=35, criterion=gini, total=   2.4s\n",
      "[CV] n_estimators=100, min_samples_split=81, min_samples_leaf=7, max_depth=35, criterion=gini \n",
      "[CV]  n_estimators=100, min_samples_split=81, min_samples_leaf=7, max_depth=35, criterion=gini, total=   2.4s\n",
      "[CV] n_estimators=100, min_samples_split=81, min_samples_leaf=7, max_depth=35, criterion=gini \n",
      "[CV]  n_estimators=100, min_samples_split=81, min_samples_leaf=7, max_depth=35, criterion=gini, total=   2.4s\n",
      "[CV] n_estimators=100, min_samples_split=81, min_samples_leaf=7, max_depth=35, criterion=gini \n",
      "[CV]  n_estimators=100, min_samples_split=81, min_samples_leaf=7, max_depth=35, criterion=gini, total=   2.4s\n",
      "[CV] n_estimators=100, min_samples_split=81, min_samples_leaf=7, max_depth=35, criterion=gini \n",
      "[CV]  n_estimators=100, min_samples_split=81, min_samples_leaf=7, max_depth=35, criterion=gini, total=   2.5s\n",
      "[CV] n_estimators=100, min_samples_split=81, min_samples_leaf=7, max_depth=35, criterion=gini \n",
      "[CV]  n_estimators=100, min_samples_split=81, min_samples_leaf=7, max_depth=35, criterion=gini, total=   2.5s\n",
      "[CV] n_estimators=100, min_samples_split=81, min_samples_leaf=7, max_depth=35, criterion=gini \n",
      "[CV]  n_estimators=100, min_samples_split=81, min_samples_leaf=7, max_depth=35, criterion=gini, total=   2.4s\n",
      "[CV] n_estimators=100, min_samples_split=81, min_samples_leaf=7, max_depth=35, criterion=gini \n",
      "[CV]  n_estimators=100, min_samples_split=81, min_samples_leaf=7, max_depth=35, criterion=gini, total=   2.4s\n",
      "[CV] n_estimators=100, min_samples_split=81, min_samples_leaf=7, max_depth=35, criterion=gini \n",
      "[CV]  n_estimators=100, min_samples_split=81, min_samples_leaf=7, max_depth=35, criterion=gini, total=   2.6s\n",
      "[CV] n_estimators=100, min_samples_split=81, min_samples_leaf=7, max_depth=35, criterion=gini \n",
      "[CV]  n_estimators=100, min_samples_split=81, min_samples_leaf=7, max_depth=35, criterion=gini, total=   2.5s\n",
      "[CV] n_estimators=1000, min_samples_split=88, min_samples_leaf=1, max_depth=75, criterion=gini \n",
      "[CV]  n_estimators=1000, min_samples_split=88, min_samples_leaf=1, max_depth=75, criterion=gini, total=  25.2s\n",
      "[CV] n_estimators=1000, min_samples_split=88, min_samples_leaf=1, max_depth=75, criterion=gini \n",
      "[CV]  n_estimators=1000, min_samples_split=88, min_samples_leaf=1, max_depth=75, criterion=gini, total=  24.9s\n",
      "[CV] n_estimators=1000, min_samples_split=88, min_samples_leaf=1, max_depth=75, criterion=gini \n",
      "[CV]  n_estimators=1000, min_samples_split=88, min_samples_leaf=1, max_depth=75, criterion=gini, total=  25.0s\n",
      "[CV] n_estimators=1000, min_samples_split=88, min_samples_leaf=1, max_depth=75, criterion=gini \n",
      "[CV]  n_estimators=1000, min_samples_split=88, min_samples_leaf=1, max_depth=75, criterion=gini, total=  25.0s\n",
      "[CV] n_estimators=1000, min_samples_split=88, min_samples_leaf=1, max_depth=75, criterion=gini \n",
      "[CV]  n_estimators=1000, min_samples_split=88, min_samples_leaf=1, max_depth=75, criterion=gini, total=  25.1s\n",
      "[CV] n_estimators=1000, min_samples_split=88, min_samples_leaf=1, max_depth=75, criterion=gini \n",
      "[CV]  n_estimators=1000, min_samples_split=88, min_samples_leaf=1, max_depth=75, criterion=gini, total=  24.4s\n",
      "[CV] n_estimators=1000, min_samples_split=88, min_samples_leaf=1, max_depth=75, criterion=gini \n",
      "[CV]  n_estimators=1000, min_samples_split=88, min_samples_leaf=1, max_depth=75, criterion=gini, total=  24.8s\n",
      "[CV] n_estimators=1000, min_samples_split=88, min_samples_leaf=1, max_depth=75, criterion=gini \n",
      "[CV]  n_estimators=1000, min_samples_split=88, min_samples_leaf=1, max_depth=75, criterion=gini, total=  24.9s\n",
      "[CV] n_estimators=1000, min_samples_split=88, min_samples_leaf=1, max_depth=75, criterion=gini \n",
      "[CV]  n_estimators=1000, min_samples_split=88, min_samples_leaf=1, max_depth=75, criterion=gini, total=  24.7s\n",
      "[CV] n_estimators=1000, min_samples_split=88, min_samples_leaf=1, max_depth=75, criterion=gini \n",
      "[CV]  n_estimators=1000, min_samples_split=88, min_samples_leaf=1, max_depth=75, criterion=gini, total=  25.0s\n",
      "[CV] n_estimators=350, min_samples_split=37, min_samples_leaf=33, max_depth=10, criterion=entropy \n",
      "[CV]  n_estimators=350, min_samples_split=37, min_samples_leaf=33, max_depth=10, criterion=entropy, total=   7.4s\n",
      "[CV] n_estimators=350, min_samples_split=37, min_samples_leaf=33, max_depth=10, criterion=entropy \n",
      "[CV]  n_estimators=350, min_samples_split=37, min_samples_leaf=33, max_depth=10, criterion=entropy, total=   7.3s\n",
      "[CV] n_estimators=350, min_samples_split=37, min_samples_leaf=33, max_depth=10, criterion=entropy \n",
      "[CV]  n_estimators=350, min_samples_split=37, min_samples_leaf=33, max_depth=10, criterion=entropy, total=   7.2s\n",
      "[CV] n_estimators=350, min_samples_split=37, min_samples_leaf=33, max_depth=10, criterion=entropy \n",
      "[CV]  n_estimators=350, min_samples_split=37, min_samples_leaf=33, max_depth=10, criterion=entropy, total=   7.3s\n",
      "[CV] n_estimators=350, min_samples_split=37, min_samples_leaf=33, max_depth=10, criterion=entropy \n",
      "[CV]  n_estimators=350, min_samples_split=37, min_samples_leaf=33, max_depth=10, criterion=entropy, total=   7.2s\n",
      "[CV] n_estimators=350, min_samples_split=37, min_samples_leaf=33, max_depth=10, criterion=entropy \n",
      "[CV]  n_estimators=350, min_samples_split=37, min_samples_leaf=33, max_depth=10, criterion=entropy, total=   7.2s\n",
      "[CV] n_estimators=350, min_samples_split=37, min_samples_leaf=33, max_depth=10, criterion=entropy \n",
      "[CV]  n_estimators=350, min_samples_split=37, min_samples_leaf=33, max_depth=10, criterion=entropy, total=   7.3s\n",
      "[CV] n_estimators=350, min_samples_split=37, min_samples_leaf=33, max_depth=10, criterion=entropy \n",
      "[CV]  n_estimators=350, min_samples_split=37, min_samples_leaf=33, max_depth=10, criterion=entropy, total=   7.4s\n",
      "[CV] n_estimators=350, min_samples_split=37, min_samples_leaf=33, max_depth=10, criterion=entropy \n",
      "[CV]  n_estimators=350, min_samples_split=37, min_samples_leaf=33, max_depth=10, criterion=entropy, total=   7.4s\n",
      "[CV] n_estimators=350, min_samples_split=37, min_samples_leaf=33, max_depth=10, criterion=entropy \n",
      "[CV]  n_estimators=350, min_samples_split=37, min_samples_leaf=33, max_depth=10, criterion=entropy, total=   7.3s\n",
      "[CV] n_estimators=350, min_samples_split=25, min_samples_leaf=7, max_depth=30, criterion=gini \n",
      "[CV]  n_estimators=350, min_samples_split=25, min_samples_leaf=7, max_depth=30, criterion=gini, total=   9.9s\n",
      "[CV] n_estimators=350, min_samples_split=25, min_samples_leaf=7, max_depth=30, criterion=gini \n"
     ]
    },
    {
     "name": "stdout",
     "output_type": "stream",
     "text": [
      "[CV]  n_estimators=350, min_samples_split=25, min_samples_leaf=7, max_depth=30, criterion=gini, total=   9.4s\n",
      "[CV] n_estimators=350, min_samples_split=25, min_samples_leaf=7, max_depth=30, criterion=gini \n",
      "[CV]  n_estimators=350, min_samples_split=25, min_samples_leaf=7, max_depth=30, criterion=gini, total=   9.3s\n",
      "[CV] n_estimators=350, min_samples_split=25, min_samples_leaf=7, max_depth=30, criterion=gini \n",
      "[CV]  n_estimators=350, min_samples_split=25, min_samples_leaf=7, max_depth=30, criterion=gini, total=   9.2s\n",
      "[CV] n_estimators=350, min_samples_split=25, min_samples_leaf=7, max_depth=30, criterion=gini \n",
      "[CV]  n_estimators=350, min_samples_split=25, min_samples_leaf=7, max_depth=30, criterion=gini, total=   9.3s\n",
      "[CV] n_estimators=350, min_samples_split=25, min_samples_leaf=7, max_depth=30, criterion=gini \n",
      "[CV]  n_estimators=350, min_samples_split=25, min_samples_leaf=7, max_depth=30, criterion=gini, total=   9.2s\n",
      "[CV] n_estimators=350, min_samples_split=25, min_samples_leaf=7, max_depth=30, criterion=gini \n",
      "[CV]  n_estimators=350, min_samples_split=25, min_samples_leaf=7, max_depth=30, criterion=gini, total=   9.2s\n",
      "[CV] n_estimators=350, min_samples_split=25, min_samples_leaf=7, max_depth=30, criterion=gini \n",
      "[CV]  n_estimators=350, min_samples_split=25, min_samples_leaf=7, max_depth=30, criterion=gini, total=   9.8s\n",
      "[CV] n_estimators=350, min_samples_split=25, min_samples_leaf=7, max_depth=30, criterion=gini \n",
      "[CV]  n_estimators=350, min_samples_split=25, min_samples_leaf=7, max_depth=30, criterion=gini, total=   9.7s\n",
      "[CV] n_estimators=350, min_samples_split=25, min_samples_leaf=7, max_depth=30, criterion=gini \n",
      "[CV]  n_estimators=350, min_samples_split=25, min_samples_leaf=7, max_depth=30, criterion=gini, total=   9.6s\n",
      "[CV] n_estimators=500, min_samples_split=65, min_samples_leaf=32, max_depth=45, criterion=gini \n",
      "[CV]  n_estimators=500, min_samples_split=65, min_samples_leaf=32, max_depth=45, criterion=gini, total=  11.5s\n",
      "[CV] n_estimators=500, min_samples_split=65, min_samples_leaf=32, max_depth=45, criterion=gini \n",
      "[CV]  n_estimators=500, min_samples_split=65, min_samples_leaf=32, max_depth=45, criterion=gini, total=  11.7s\n",
      "[CV] n_estimators=500, min_samples_split=65, min_samples_leaf=32, max_depth=45, criterion=gini \n",
      "[CV]  n_estimators=500, min_samples_split=65, min_samples_leaf=32, max_depth=45, criterion=gini, total=  11.4s\n",
      "[CV] n_estimators=500, min_samples_split=65, min_samples_leaf=32, max_depth=45, criterion=gini \n",
      "[CV]  n_estimators=500, min_samples_split=65, min_samples_leaf=32, max_depth=45, criterion=gini, total=  11.4s\n",
      "[CV] n_estimators=500, min_samples_split=65, min_samples_leaf=32, max_depth=45, criterion=gini \n",
      "[CV]  n_estimators=500, min_samples_split=65, min_samples_leaf=32, max_depth=45, criterion=gini, total=  11.5s\n",
      "[CV] n_estimators=500, min_samples_split=65, min_samples_leaf=32, max_depth=45, criterion=gini \n",
      "[CV]  n_estimators=500, min_samples_split=65, min_samples_leaf=32, max_depth=45, criterion=gini, total=  11.3s\n",
      "[CV] n_estimators=500, min_samples_split=65, min_samples_leaf=32, max_depth=45, criterion=gini \n",
      "[CV]  n_estimators=500, min_samples_split=65, min_samples_leaf=32, max_depth=45, criterion=gini, total=  11.4s\n",
      "[CV] n_estimators=500, min_samples_split=65, min_samples_leaf=32, max_depth=45, criterion=gini \n",
      "[CV]  n_estimators=500, min_samples_split=65, min_samples_leaf=32, max_depth=45, criterion=gini, total=  11.6s\n",
      "[CV] n_estimators=500, min_samples_split=65, min_samples_leaf=32, max_depth=45, criterion=gini \n",
      "[CV]  n_estimators=500, min_samples_split=65, min_samples_leaf=32, max_depth=45, criterion=gini, total=  11.4s\n",
      "[CV] n_estimators=500, min_samples_split=65, min_samples_leaf=32, max_depth=45, criterion=gini \n",
      "[CV]  n_estimators=500, min_samples_split=65, min_samples_leaf=32, max_depth=45, criterion=gini, total=  11.7s\n",
      "[CV] n_estimators=650, min_samples_split=74, min_samples_leaf=8, max_depth=20, criterion=entropy \n",
      "[CV]  n_estimators=650, min_samples_split=74, min_samples_leaf=8, max_depth=20, criterion=entropy, total=  17.6s\n",
      "[CV] n_estimators=650, min_samples_split=74, min_samples_leaf=8, max_depth=20, criterion=entropy \n",
      "[CV]  n_estimators=650, min_samples_split=74, min_samples_leaf=8, max_depth=20, criterion=entropy, total=  17.4s\n",
      "[CV] n_estimators=650, min_samples_split=74, min_samples_leaf=8, max_depth=20, criterion=entropy \n",
      "[CV]  n_estimators=650, min_samples_split=74, min_samples_leaf=8, max_depth=20, criterion=entropy, total=  17.4s\n",
      "[CV] n_estimators=650, min_samples_split=74, min_samples_leaf=8, max_depth=20, criterion=entropy \n",
      "[CV]  n_estimators=650, min_samples_split=74, min_samples_leaf=8, max_depth=20, criterion=entropy, total=  17.5s\n",
      "[CV] n_estimators=650, min_samples_split=74, min_samples_leaf=8, max_depth=20, criterion=entropy \n",
      "[CV]  n_estimators=650, min_samples_split=74, min_samples_leaf=8, max_depth=20, criterion=entropy, total=  17.5s\n",
      "[CV] n_estimators=650, min_samples_split=74, min_samples_leaf=8, max_depth=20, criterion=entropy \n",
      "[CV]  n_estimators=650, min_samples_split=74, min_samples_leaf=8, max_depth=20, criterion=entropy, total=  17.2s\n",
      "[CV] n_estimators=650, min_samples_split=74, min_samples_leaf=8, max_depth=20, criterion=entropy \n",
      "[CV]  n_estimators=650, min_samples_split=74, min_samples_leaf=8, max_depth=20, criterion=entropy, total=  18.9s\n",
      "[CV] n_estimators=650, min_samples_split=74, min_samples_leaf=8, max_depth=20, criterion=entropy \n",
      "[CV]  n_estimators=650, min_samples_split=74, min_samples_leaf=8, max_depth=20, criterion=entropy, total=  18.6s\n",
      "[CV] n_estimators=650, min_samples_split=74, min_samples_leaf=8, max_depth=20, criterion=entropy \n",
      "[CV]  n_estimators=650, min_samples_split=74, min_samples_leaf=8, max_depth=20, criterion=entropy, total=  17.9s\n",
      "[CV] n_estimators=650, min_samples_split=74, min_samples_leaf=8, max_depth=20, criterion=entropy \n",
      "[CV]  n_estimators=650, min_samples_split=74, min_samples_leaf=8, max_depth=20, criterion=entropy, total=  17.5s\n",
      "[CV] n_estimators=500, min_samples_split=26, min_samples_leaf=5, max_depth=45, criterion=gini \n",
      "[CV]  n_estimators=500, min_samples_split=26, min_samples_leaf=5, max_depth=45, criterion=gini, total=  13.4s\n",
      "[CV] n_estimators=500, min_samples_split=26, min_samples_leaf=5, max_depth=45, criterion=gini \n",
      "[CV]  n_estimators=500, min_samples_split=26, min_samples_leaf=5, max_depth=45, criterion=gini, total=  14.1s\n",
      "[CV] n_estimators=500, min_samples_split=26, min_samples_leaf=5, max_depth=45, criterion=gini \n",
      "[CV]  n_estimators=500, min_samples_split=26, min_samples_leaf=5, max_depth=45, criterion=gini, total=  13.4s\n",
      "[CV] n_estimators=500, min_samples_split=26, min_samples_leaf=5, max_depth=45, criterion=gini \n",
      "[CV]  n_estimators=500, min_samples_split=26, min_samples_leaf=5, max_depth=45, criterion=gini, total=  13.4s\n",
      "[CV] n_estimators=500, min_samples_split=26, min_samples_leaf=5, max_depth=45, criterion=gini \n",
      "[CV]  n_estimators=500, min_samples_split=26, min_samples_leaf=5, max_depth=45, criterion=gini, total=  14.0s\n",
      "[CV] n_estimators=500, min_samples_split=26, min_samples_leaf=5, max_depth=45, criterion=gini \n",
      "[CV]  n_estimators=500, min_samples_split=26, min_samples_leaf=5, max_depth=45, criterion=gini, total=  13.9s\n",
      "[CV] n_estimators=500, min_samples_split=26, min_samples_leaf=5, max_depth=45, criterion=gini \n",
      "[CV]  n_estimators=500, min_samples_split=26, min_samples_leaf=5, max_depth=45, criterion=gini, total=  14.9s\n",
      "[CV] n_estimators=500, min_samples_split=26, min_samples_leaf=5, max_depth=45, criterion=gini \n",
      "[CV]  n_estimators=500, min_samples_split=26, min_samples_leaf=5, max_depth=45, criterion=gini, total=  13.7s\n",
      "[CV] n_estimators=500, min_samples_split=26, min_samples_leaf=5, max_depth=45, criterion=gini \n",
      "[CV]  n_estimators=500, min_samples_split=26, min_samples_leaf=5, max_depth=45, criterion=gini, total=  13.3s\n",
      "[CV] n_estimators=500, min_samples_split=26, min_samples_leaf=5, max_depth=45, criterion=gini \n",
      "[CV]  n_estimators=500, min_samples_split=26, min_samples_leaf=5, max_depth=45, criterion=gini, total=  13.4s\n",
      "[CV] n_estimators=150, min_samples_split=38, min_samples_leaf=8, max_depth=95, criterion=entropy \n",
      "[CV]  n_estimators=150, min_samples_split=38, min_samples_leaf=8, max_depth=95, criterion=entropy, total=   4.3s\n",
      "[CV] n_estimators=150, min_samples_split=38, min_samples_leaf=8, max_depth=95, criterion=entropy \n"
     ]
    },
    {
     "name": "stdout",
     "output_type": "stream",
     "text": [
      "[CV]  n_estimators=150, min_samples_split=38, min_samples_leaf=8, max_depth=95, criterion=entropy, total=   4.3s\n",
      "[CV] n_estimators=150, min_samples_split=38, min_samples_leaf=8, max_depth=95, criterion=entropy \n",
      "[CV]  n_estimators=150, min_samples_split=38, min_samples_leaf=8, max_depth=95, criterion=entropy, total=   4.4s\n",
      "[CV] n_estimators=150, min_samples_split=38, min_samples_leaf=8, max_depth=95, criterion=entropy \n",
      "[CV]  n_estimators=150, min_samples_split=38, min_samples_leaf=8, max_depth=95, criterion=entropy, total=   4.3s\n",
      "[CV] n_estimators=150, min_samples_split=38, min_samples_leaf=8, max_depth=95, criterion=entropy \n",
      "[CV]  n_estimators=150, min_samples_split=38, min_samples_leaf=8, max_depth=95, criterion=entropy, total=   4.4s\n",
      "[CV] n_estimators=150, min_samples_split=38, min_samples_leaf=8, max_depth=95, criterion=entropy \n",
      "[CV]  n_estimators=150, min_samples_split=38, min_samples_leaf=8, max_depth=95, criterion=entropy, total=   4.3s\n",
      "[CV] n_estimators=150, min_samples_split=38, min_samples_leaf=8, max_depth=95, criterion=entropy \n",
      "[CV]  n_estimators=150, min_samples_split=38, min_samples_leaf=8, max_depth=95, criterion=entropy, total=   4.3s\n",
      "[CV] n_estimators=150, min_samples_split=38, min_samples_leaf=8, max_depth=95, criterion=entropy \n",
      "[CV]  n_estimators=150, min_samples_split=38, min_samples_leaf=8, max_depth=95, criterion=entropy, total=   4.3s\n",
      "[CV] n_estimators=150, min_samples_split=38, min_samples_leaf=8, max_depth=95, criterion=entropy \n",
      "[CV]  n_estimators=150, min_samples_split=38, min_samples_leaf=8, max_depth=95, criterion=entropy, total=   4.3s\n",
      "[CV] n_estimators=150, min_samples_split=38, min_samples_leaf=8, max_depth=95, criterion=entropy \n",
      "[CV]  n_estimators=150, min_samples_split=38, min_samples_leaf=8, max_depth=95, criterion=entropy, total=   4.3s\n",
      "[CV] n_estimators=800, min_samples_split=89, min_samples_leaf=50, max_depth=15, criterion=gini \n",
      "[CV]  n_estimators=800, min_samples_split=89, min_samples_leaf=50, max_depth=15, criterion=gini, total=  17.0s\n",
      "[CV] n_estimators=800, min_samples_split=89, min_samples_leaf=50, max_depth=15, criterion=gini \n",
      "[CV]  n_estimators=800, min_samples_split=89, min_samples_leaf=50, max_depth=15, criterion=gini, total=  17.4s\n",
      "[CV] n_estimators=800, min_samples_split=89, min_samples_leaf=50, max_depth=15, criterion=gini \n",
      "[CV]  n_estimators=800, min_samples_split=89, min_samples_leaf=50, max_depth=15, criterion=gini, total=  17.5s\n",
      "[CV] n_estimators=800, min_samples_split=89, min_samples_leaf=50, max_depth=15, criterion=gini \n",
      "[CV]  n_estimators=800, min_samples_split=89, min_samples_leaf=50, max_depth=15, criterion=gini, total=  17.7s\n",
      "[CV] n_estimators=800, min_samples_split=89, min_samples_leaf=50, max_depth=15, criterion=gini \n",
      "[CV]  n_estimators=800, min_samples_split=89, min_samples_leaf=50, max_depth=15, criterion=gini, total=  17.5s\n",
      "[CV] n_estimators=800, min_samples_split=89, min_samples_leaf=50, max_depth=15, criterion=gini \n",
      "[CV]  n_estimators=800, min_samples_split=89, min_samples_leaf=50, max_depth=15, criterion=gini, total=  17.1s\n",
      "[CV] n_estimators=800, min_samples_split=89, min_samples_leaf=50, max_depth=15, criterion=gini \n",
      "[CV]  n_estimators=800, min_samples_split=89, min_samples_leaf=50, max_depth=15, criterion=gini, total=  17.2s\n",
      "[CV] n_estimators=800, min_samples_split=89, min_samples_leaf=50, max_depth=15, criterion=gini \n",
      "[CV]  n_estimators=800, min_samples_split=89, min_samples_leaf=50, max_depth=15, criterion=gini, total=  17.3s\n",
      "[CV] n_estimators=800, min_samples_split=89, min_samples_leaf=50, max_depth=15, criterion=gini \n",
      "[CV]  n_estimators=800, min_samples_split=89, min_samples_leaf=50, max_depth=15, criterion=gini, total=  17.4s\n",
      "[CV] n_estimators=800, min_samples_split=89, min_samples_leaf=50, max_depth=15, criterion=gini \n",
      "[CV]  n_estimators=800, min_samples_split=89, min_samples_leaf=50, max_depth=15, criterion=gini, total=  17.0s\n"
     ]
    },
    {
     "name": "stderr",
     "output_type": "stream",
     "text": [
      "[Parallel(n_jobs=1)]: Done 100 out of 100 | elapsed: 21.7min finished\n"
     ]
    },
    {
     "data": {
      "text/plain": [
       "{'n_estimators': 500,\n",
       " 'min_samples_split': 26,\n",
       " 'min_samples_leaf': 5,\n",
       " 'max_depth': 45,\n",
       " 'criterion': 'gini'}"
      ]
     },
     "execution_count": 55,
     "metadata": {},
     "output_type": "execute_result"
    }
   ],
   "source": [
    "rfc = RandomForestClassifier()\n",
    "possible_parameter_values = {'n_estimators' : [int(x) for x in np.arange(start = 50, stop = 1001, step = 50)],\n",
    "                             'criterion' : ['gini', 'entropy'],\n",
    "                             'max_depth' : [int(x) for x in np.arange(start = 5, stop = 101, step = 5)],\n",
    "                             'min_samples_split' : [int(x) for x in np.arange(start = 5, stop = 101, step = 1)],\n",
    "                             'min_samples_leaf' : [int(x) for x in np.arange(start = 1, stop = 51, step = 1)]}\n",
    "rfc_rscv = RandomizedSearchCV(estimator = rfc, param_distributions = possible_parameter_values, cv = 10, scoring = 'accuracy', verbose = 2, random_state = 17, n_jobs = 1)\n",
    "rfc_rscv.fit(X_train, y_train)\n",
    "rfc_rscv.best_params_"
   ]
  },
  {
   "cell_type": "code",
   "execution_count": 56,
   "metadata": {},
   "outputs": [],
   "source": [
    "y_train_pred_rfc = rfc_rscv.predict(X_train)\n",
    "y_val_pred_rfc = rfc_rscv.predict(X_val)"
   ]
  },
  {
   "cell_type": "code",
   "execution_count": 57,
   "metadata": {},
   "outputs": [
    {
     "name": "stdout",
     "output_type": "stream",
     "text": [
      "Train accuracy:  0.920963023356194\n",
      "Validation accuracy:  0.8964128141185498\n",
      "Train f1_score:  0.7858627858627859\n",
      "Validation f1_score:  0.7202072538860104\n"
     ]
    }
   ],
   "source": [
    "print('Train accuracy: ', accuracy_score(y_train, y_train_pred_rfc))\n",
    "print('Validation accuracy: ', accuracy_score(y_val, y_val_pred_rfc))\n",
    "print('Train f1_score: ', f1_score(y_train, y_train_pred_rfc))\n",
    "print('Validation f1_score: ', f1_score(y_val, y_val_pred_rfc))"
   ]
  },
  {
   "cell_type": "markdown",
   "metadata": {},
   "source": [
    "### AdaBoostClassifier()"
   ]
  },
  {
   "cell_type": "code",
   "execution_count": 58,
   "metadata": {
    "scrolled": false
   },
   "outputs": [
    {
     "name": "stdout",
     "output_type": "stream",
     "text": [
      "Fitting 10 folds for each of 10 candidates, totalling 100 fits\n",
      "[CV] n_estimators=200, learning_rate=0.544 ...........................\n"
     ]
    },
    {
     "name": "stderr",
     "output_type": "stream",
     "text": [
      "[Parallel(n_jobs=1)]: Using backend SequentialBackend with 1 concurrent workers.\n"
     ]
    },
    {
     "name": "stdout",
     "output_type": "stream",
     "text": [
      "[CV] ............ n_estimators=200, learning_rate=0.544, total=   3.8s\n",
      "[CV] n_estimators=200, learning_rate=0.544 ...........................\n"
     ]
    },
    {
     "name": "stderr",
     "output_type": "stream",
     "text": [
      "[Parallel(n_jobs=1)]: Done   1 out of   1 | elapsed:    3.7s remaining:    0.0s\n"
     ]
    },
    {
     "name": "stdout",
     "output_type": "stream",
     "text": [
      "[CV] ............ n_estimators=200, learning_rate=0.544, total=   3.6s\n",
      "[CV] n_estimators=200, learning_rate=0.544 ...........................\n",
      "[CV] ............ n_estimators=200, learning_rate=0.544, total=   3.7s\n",
      "[CV] n_estimators=200, learning_rate=0.544 ...........................\n",
      "[CV] ............ n_estimators=200, learning_rate=0.544, total=   4.1s\n",
      "[CV] n_estimators=200, learning_rate=0.544 ...........................\n",
      "[CV] ............ n_estimators=200, learning_rate=0.544, total=   3.7s\n",
      "[CV] n_estimators=200, learning_rate=0.544 ...........................\n",
      "[CV] ............ n_estimators=200, learning_rate=0.544, total=   3.9s\n",
      "[CV] n_estimators=200, learning_rate=0.544 ...........................\n",
      "[CV] ............ n_estimators=200, learning_rate=0.544, total=   3.6s\n",
      "[CV] n_estimators=200, learning_rate=0.544 ...........................\n",
      "[CV] ............ n_estimators=200, learning_rate=0.544, total=   3.7s\n",
      "[CV] n_estimators=200, learning_rate=0.544 ...........................\n",
      "[CV] ............ n_estimators=200, learning_rate=0.544, total=   3.7s\n",
      "[CV] n_estimators=200, learning_rate=0.544 ...........................\n",
      "[CV] ............ n_estimators=200, learning_rate=0.544, total=   3.6s\n",
      "[CV] n_estimators=600, learning_rate=0.11 ............................\n",
      "[CV] ............. n_estimators=600, learning_rate=0.11, total=  10.9s\n",
      "[CV] n_estimators=600, learning_rate=0.11 ............................\n",
      "[CV] ............. n_estimators=600, learning_rate=0.11, total=  10.9s\n",
      "[CV] n_estimators=600, learning_rate=0.11 ............................\n",
      "[CV] ............. n_estimators=600, learning_rate=0.11, total=  10.8s\n",
      "[CV] n_estimators=600, learning_rate=0.11 ............................\n",
      "[CV] ............. n_estimators=600, learning_rate=0.11, total=  10.8s\n",
      "[CV] n_estimators=600, learning_rate=0.11 ............................\n",
      "[CV] ............. n_estimators=600, learning_rate=0.11, total=  10.8s\n",
      "[CV] n_estimators=600, learning_rate=0.11 ............................\n",
      "[CV] ............. n_estimators=600, learning_rate=0.11, total=  10.7s\n",
      "[CV] n_estimators=600, learning_rate=0.11 ............................\n",
      "[CV] ............. n_estimators=600, learning_rate=0.11, total=  10.8s\n",
      "[CV] n_estimators=600, learning_rate=0.11 ............................\n",
      "[CV] ............. n_estimators=600, learning_rate=0.11, total=  10.7s\n",
      "[CV] n_estimators=600, learning_rate=0.11 ............................\n",
      "[CV] ............. n_estimators=600, learning_rate=0.11, total=  10.7s\n",
      "[CV] n_estimators=600, learning_rate=0.11 ............................\n",
      "[CV] ............. n_estimators=600, learning_rate=0.11, total=  10.7s\n",
      "[CV] n_estimators=150, learning_rate=0.686 ...........................\n",
      "[CV] ............ n_estimators=150, learning_rate=0.686, total=   2.7s\n",
      "[CV] n_estimators=150, learning_rate=0.686 ...........................\n",
      "[CV] ............ n_estimators=150, learning_rate=0.686, total=   2.7s\n",
      "[CV] n_estimators=150, learning_rate=0.686 ...........................\n",
      "[CV] ............ n_estimators=150, learning_rate=0.686, total=   2.9s\n",
      "[CV] n_estimators=150, learning_rate=0.686 ...........................\n",
      "[CV] ............ n_estimators=150, learning_rate=0.686, total=   2.7s\n",
      "[CV] n_estimators=150, learning_rate=0.686 ...........................\n",
      "[CV] ............ n_estimators=150, learning_rate=0.686, total=   2.7s\n",
      "[CV] n_estimators=150, learning_rate=0.686 ...........................\n",
      "[CV] ............ n_estimators=150, learning_rate=0.686, total=   2.7s\n",
      "[CV] n_estimators=150, learning_rate=0.686 ...........................\n",
      "[CV] ............ n_estimators=150, learning_rate=0.686, total=   2.8s\n",
      "[CV] n_estimators=150, learning_rate=0.686 ...........................\n",
      "[CV] ............ n_estimators=150, learning_rate=0.686, total=   2.8s\n",
      "[CV] n_estimators=150, learning_rate=0.686 ...........................\n",
      "[CV] ............ n_estimators=150, learning_rate=0.686, total=   2.7s\n",
      "[CV] n_estimators=150, learning_rate=0.686 ...........................\n",
      "[CV] ............ n_estimators=150, learning_rate=0.686, total=   2.7s\n",
      "[CV] n_estimators=350, learning_rate=0.021 ...........................\n",
      "[CV] ............ n_estimators=350, learning_rate=0.021, total=   6.3s\n",
      "[CV] n_estimators=350, learning_rate=0.021 ...........................\n",
      "[CV] ............ n_estimators=350, learning_rate=0.021, total=   6.5s\n",
      "[CV] n_estimators=350, learning_rate=0.021 ...........................\n",
      "[CV] ............ n_estimators=350, learning_rate=0.021, total=   6.2s\n",
      "[CV] n_estimators=350, learning_rate=0.021 ...........................\n",
      "[CV] ............ n_estimators=350, learning_rate=0.021, total=   8.6s\n",
      "[CV] n_estimators=350, learning_rate=0.021 ...........................\n",
      "[CV] ............ n_estimators=350, learning_rate=0.021, total=   6.8s\n",
      "[CV] n_estimators=350, learning_rate=0.021 ...........................\n",
      "[CV] ............ n_estimators=350, learning_rate=0.021, total=   6.3s\n",
      "[CV] n_estimators=350, learning_rate=0.021 ...........................\n",
      "[CV] ............ n_estimators=350, learning_rate=0.021, total=   7.1s\n",
      "[CV] n_estimators=350, learning_rate=0.021 ...........................\n",
      "[CV] ............ n_estimators=350, learning_rate=0.021, total=   7.3s\n",
      "[CV] n_estimators=350, learning_rate=0.021 ...........................\n",
      "[CV] ............ n_estimators=350, learning_rate=0.021, total=   6.7s\n",
      "[CV] n_estimators=350, learning_rate=0.021 ...........................\n",
      "[CV] ............ n_estimators=350, learning_rate=0.021, total=   6.5s\n",
      "[CV] n_estimators=500, learning_rate=0.477 ...........................\n",
      "[CV] ............ n_estimators=500, learning_rate=0.477, total=   9.7s\n",
      "[CV] n_estimators=500, learning_rate=0.477 ...........................\n",
      "[CV] ............ n_estimators=500, learning_rate=0.477, total=   9.0s\n",
      "[CV] n_estimators=500, learning_rate=0.477 ...........................\n",
      "[CV] ............ n_estimators=500, learning_rate=0.477, total=   9.0s\n",
      "[CV] n_estimators=500, learning_rate=0.477 ...........................\n",
      "[CV] ............ n_estimators=500, learning_rate=0.477, total=   9.2s\n",
      "[CV] n_estimators=500, learning_rate=0.477 ...........................\n",
      "[CV] ............ n_estimators=500, learning_rate=0.477, total=   9.0s\n",
      "[CV] n_estimators=500, learning_rate=0.477 ...........................\n",
      "[CV] ............ n_estimators=500, learning_rate=0.477, total=   8.9s\n",
      "[CV] n_estimators=500, learning_rate=0.477 ...........................\n",
      "[CV] ............ n_estimators=500, learning_rate=0.477, total=   8.9s\n",
      "[CV] n_estimators=500, learning_rate=0.477 ...........................\n",
      "[CV] ............ n_estimators=500, learning_rate=0.477, total=   8.9s\n",
      "[CV] n_estimators=500, learning_rate=0.477 ...........................\n",
      "[CV] ............ n_estimators=500, learning_rate=0.477, total=   9.0s\n",
      "[CV] n_estimators=500, learning_rate=0.477 ...........................\n",
      "[CV] ............ n_estimators=500, learning_rate=0.477, total=   9.0s\n",
      "[CV] n_estimators=250, learning_rate=0.229 ...........................\n",
      "[CV] ............ n_estimators=250, learning_rate=0.229, total=   4.5s\n",
      "[CV] n_estimators=250, learning_rate=0.229 ...........................\n",
      "[CV] ............ n_estimators=250, learning_rate=0.229, total=   4.5s\n",
      "[CV] n_estimators=250, learning_rate=0.229 ...........................\n",
      "[CV] ............ n_estimators=250, learning_rate=0.229, total=   4.4s\n",
      "[CV] n_estimators=250, learning_rate=0.229 ...........................\n",
      "[CV] ............ n_estimators=250, learning_rate=0.229, total=   4.4s\n",
      "[CV] n_estimators=250, learning_rate=0.229 ...........................\n",
      "[CV] ............ n_estimators=250, learning_rate=0.229, total=   4.8s\n",
      "[CV] n_estimators=250, learning_rate=0.229 ...........................\n",
      "[CV] ............ n_estimators=250, learning_rate=0.229, total=   4.5s\n",
      "[CV] n_estimators=250, learning_rate=0.229 ...........................\n",
      "[CV] ............ n_estimators=250, learning_rate=0.229, total=   4.6s\n",
      "[CV] n_estimators=250, learning_rate=0.229 ...........................\n",
      "[CV] ............ n_estimators=250, learning_rate=0.229, total=   4.6s\n",
      "[CV] n_estimators=250, learning_rate=0.229 ...........................\n",
      "[CV] ............ n_estimators=250, learning_rate=0.229, total=   4.5s\n",
      "[CV] n_estimators=250, learning_rate=0.229 ...........................\n"
     ]
    },
    {
     "name": "stdout",
     "output_type": "stream",
     "text": [
      "[CV] ............ n_estimators=250, learning_rate=0.229, total=   4.5s\n",
      "[CV] n_estimators=650, learning_rate=0.713 ...........................\n",
      "[CV] ............ n_estimators=650, learning_rate=0.713, total=  12.0s\n",
      "[CV] n_estimators=650, learning_rate=0.713 ...........................\n",
      "[CV] ............ n_estimators=650, learning_rate=0.713, total=  15.7s\n",
      "[CV] n_estimators=650, learning_rate=0.713 ...........................\n",
      "[CV] ............ n_estimators=650, learning_rate=0.713, total=  12.4s\n",
      "[CV] n_estimators=650, learning_rate=0.713 ...........................\n",
      "[CV] ............ n_estimators=650, learning_rate=0.713, total=  13.1s\n",
      "[CV] n_estimators=650, learning_rate=0.713 ...........................\n",
      "[CV] ............ n_estimators=650, learning_rate=0.713, total=  13.1s\n",
      "[CV] n_estimators=650, learning_rate=0.713 ...........................\n",
      "[CV] ............ n_estimators=650, learning_rate=0.713, total=  13.0s\n",
      "[CV] n_estimators=650, learning_rate=0.713 ...........................\n",
      "[CV] ............ n_estimators=650, learning_rate=0.713, total=  13.5s\n",
      "[CV] n_estimators=650, learning_rate=0.713 ...........................\n",
      "[CV] ............ n_estimators=650, learning_rate=0.713, total=  13.3s\n",
      "[CV] n_estimators=650, learning_rate=0.713 ...........................\n",
      "[CV] ............ n_estimators=650, learning_rate=0.713, total=  12.2s\n",
      "[CV] n_estimators=650, learning_rate=0.713 ...........................\n",
      "[CV] ............ n_estimators=650, learning_rate=0.713, total=  12.1s\n",
      "[CV] n_estimators=600, learning_rate=0.692 ...........................\n",
      "[CV] ............ n_estimators=600, learning_rate=0.692, total=  11.3s\n",
      "[CV] n_estimators=600, learning_rate=0.692 ...........................\n",
      "[CV] ............ n_estimators=600, learning_rate=0.692, total=  11.2s\n",
      "[CV] n_estimators=600, learning_rate=0.692 ...........................\n",
      "[CV] ............ n_estimators=600, learning_rate=0.692, total=  11.0s\n",
      "[CV] n_estimators=600, learning_rate=0.692 ...........................\n",
      "[CV] ............ n_estimators=600, learning_rate=0.692, total=  11.0s\n",
      "[CV] n_estimators=600, learning_rate=0.692 ...........................\n",
      "[CV] ............ n_estimators=600, learning_rate=0.692, total=  11.1s\n",
      "[CV] n_estimators=600, learning_rate=0.692 ...........................\n",
      "[CV] ............ n_estimators=600, learning_rate=0.692, total=  10.9s\n",
      "[CV] n_estimators=600, learning_rate=0.692 ...........................\n",
      "[CV] ............ n_estimators=600, learning_rate=0.692, total=  10.9s\n",
      "[CV] n_estimators=600, learning_rate=0.692 ...........................\n",
      "[CV] ............ n_estimators=600, learning_rate=0.692, total=  11.3s\n",
      "[CV] n_estimators=600, learning_rate=0.692 ...........................\n",
      "[CV] ............ n_estimators=600, learning_rate=0.692, total=  11.2s\n",
      "[CV] n_estimators=600, learning_rate=0.692 ...........................\n",
      "[CV] ............ n_estimators=600, learning_rate=0.692, total=  11.6s\n",
      "[CV] n_estimators=500, learning_rate=0.967 ...........................\n",
      "[CV] ............ n_estimators=500, learning_rate=0.967, total=   9.2s\n",
      "[CV] n_estimators=500, learning_rate=0.967 ...........................\n",
      "[CV] ............ n_estimators=500, learning_rate=0.967, total=   9.6s\n",
      "[CV] n_estimators=500, learning_rate=0.967 ...........................\n",
      "[CV] ............ n_estimators=500, learning_rate=0.967, total=   9.6s\n",
      "[CV] n_estimators=500, learning_rate=0.967 ...........................\n",
      "[CV] ............ n_estimators=500, learning_rate=0.967, total=   9.2s\n",
      "[CV] n_estimators=500, learning_rate=0.967 ...........................\n",
      "[CV] ............ n_estimators=500, learning_rate=0.967, total=   9.2s\n",
      "[CV] n_estimators=500, learning_rate=0.967 ...........................\n",
      "[CV] ............ n_estimators=500, learning_rate=0.967, total=   9.0s\n",
      "[CV] n_estimators=500, learning_rate=0.967 ...........................\n",
      "[CV] ............ n_estimators=500, learning_rate=0.967, total=   9.3s\n",
      "[CV] n_estimators=500, learning_rate=0.967 ...........................\n",
      "[CV] ............ n_estimators=500, learning_rate=0.967, total=   9.2s\n",
      "[CV] n_estimators=500, learning_rate=0.967 ...........................\n",
      "[CV] ............ n_estimators=500, learning_rate=0.967, total=   9.1s\n",
      "[CV] n_estimators=500, learning_rate=0.967 ...........................\n",
      "[CV] ............ n_estimators=500, learning_rate=0.967, total=   9.1s\n",
      "[CV] n_estimators=750, learning_rate=0.089 ...........................\n",
      "[CV] ............ n_estimators=750, learning_rate=0.089, total=  13.8s\n",
      "[CV] n_estimators=750, learning_rate=0.089 ...........................\n",
      "[CV] ............ n_estimators=750, learning_rate=0.089, total=  13.9s\n",
      "[CV] n_estimators=750, learning_rate=0.089 ...........................\n",
      "[CV] ............ n_estimators=750, learning_rate=0.089, total=  13.8s\n",
      "[CV] n_estimators=750, learning_rate=0.089 ...........................\n",
      "[CV] ............ n_estimators=750, learning_rate=0.089, total=  13.8s\n",
      "[CV] n_estimators=750, learning_rate=0.089 ...........................\n",
      "[CV] ............ n_estimators=750, learning_rate=0.089, total=  13.8s\n",
      "[CV] n_estimators=750, learning_rate=0.089 ...........................\n",
      "[CV] ............ n_estimators=750, learning_rate=0.089, total=  13.6s\n",
      "[CV] n_estimators=750, learning_rate=0.089 ...........................\n",
      "[CV] ............ n_estimators=750, learning_rate=0.089, total=  13.6s\n",
      "[CV] n_estimators=750, learning_rate=0.089 ...........................\n",
      "[CV] ............ n_estimators=750, learning_rate=0.089, total=  13.5s\n",
      "[CV] n_estimators=750, learning_rate=0.089 ...........................\n",
      "[CV] ............ n_estimators=750, learning_rate=0.089, total=  13.6s\n",
      "[CV] n_estimators=750, learning_rate=0.089 ...........................\n",
      "[CV] ............ n_estimators=750, learning_rate=0.089, total=  13.5s\n"
     ]
    },
    {
     "name": "stderr",
     "output_type": "stream",
     "text": [
      "[Parallel(n_jobs=1)]: Done 100 out of 100 | elapsed: 14.1min finished\n"
     ]
    },
    {
     "data": {
      "text/plain": [
       "{'n_estimators': 500, 'learning_rate': 0.967}"
      ]
     },
     "execution_count": 58,
     "metadata": {},
     "output_type": "execute_result"
    }
   ],
   "source": [
    "abc = AdaBoostClassifier()\n",
    "possible_parameter_values = {'n_estimators' : [int(x) for x in np.arange(start = 50, stop = 1001, step = 50)],\n",
    "                             'learning_rate' : [float(x)/1000 for x in np.arange(start = 1, stop = 1001, step = 1)]}\n",
    "abc_rscv = RandomizedSearchCV(estimator = abc, param_distributions = possible_parameter_values, cv = 10, scoring = 'accuracy', verbose = 2, random_state = 17, n_jobs = 1)\n",
    "abc_rscv.fit(X_train, y_train)\n",
    "abc_rscv.best_params_"
   ]
  },
  {
   "cell_type": "code",
   "execution_count": 59,
   "metadata": {},
   "outputs": [],
   "source": [
    "y_train_pred_abc = abc_rscv.predict(X_train)\n",
    "y_val_pred_abc = abc_rscv.predict(X_val)"
   ]
  },
  {
   "cell_type": "code",
   "execution_count": 60,
   "metadata": {},
   "outputs": [
    {
     "name": "stdout",
     "output_type": "stream",
     "text": [
      "Train accuracy:  0.8843700541940435\n",
      "Validation accuracy:  0.8753117206982544\n",
      "Train f1_score:  0.7052927514973719\n",
      "Validation f1_score:  0.6878001921229586\n"
     ]
    }
   ],
   "source": [
    "print('Train accuracy: ', accuracy_score(y_train, y_train_pred_abc))\n",
    "print('Validation accuracy: ', accuracy_score(y_val, y_val_pred_abc))\n",
    "print('Train f1_score: ', f1_score(y_train, y_train_pred_abc))\n",
    "print('Validation f1_score: ', f1_score(y_val, y_val_pred_abc))"
   ]
  },
  {
   "cell_type": "markdown",
   "metadata": {},
   "source": [
    "### KNeighborsClassifier()"
   ]
  },
  {
   "cell_type": "code",
   "execution_count": 62,
   "metadata": {
    "scrolled": false
   },
   "outputs": [
    {
     "name": "stdout",
     "output_type": "stream",
     "text": [
      "Fitting 10 folds for each of 10 candidates, totalling 100 fits\n",
      "[CV] weights=uniform, n_neighbors=8 ..................................\n"
     ]
    },
    {
     "name": "stderr",
     "output_type": "stream",
     "text": [
      "[Parallel(n_jobs=1)]: Using backend SequentialBackend with 1 concurrent workers.\n"
     ]
    },
    {
     "name": "stdout",
     "output_type": "stream",
     "text": [
      "[CV] ................... weights=uniform, n_neighbors=8, total=   0.4s\n",
      "[CV] weights=uniform, n_neighbors=8 ..................................\n"
     ]
    },
    {
     "name": "stderr",
     "output_type": "stream",
     "text": [
      "[Parallel(n_jobs=1)]: Done   1 out of   1 | elapsed:    0.3s remaining:    0.0s\n"
     ]
    },
    {
     "name": "stdout",
     "output_type": "stream",
     "text": [
      "[CV] ................... weights=uniform, n_neighbors=8, total=   0.3s\n",
      "[CV] weights=uniform, n_neighbors=8 ..................................\n",
      "[CV] ................... weights=uniform, n_neighbors=8, total=   0.3s\n",
      "[CV] weights=uniform, n_neighbors=8 ..................................\n",
      "[CV] ................... weights=uniform, n_neighbors=8, total=   0.5s\n",
      "[CV] weights=uniform, n_neighbors=8 ..................................\n",
      "[CV] ................... weights=uniform, n_neighbors=8, total=   0.3s\n",
      "[CV] weights=uniform, n_neighbors=8 ..................................\n",
      "[CV] ................... weights=uniform, n_neighbors=8, total=   0.3s\n",
      "[CV] weights=uniform, n_neighbors=8 ..................................\n",
      "[CV] ................... weights=uniform, n_neighbors=8, total=   0.2s\n",
      "[CV] weights=uniform, n_neighbors=8 ..................................\n",
      "[CV] ................... weights=uniform, n_neighbors=8, total=   0.3s\n",
      "[CV] weights=uniform, n_neighbors=8 ..................................\n",
      "[CV] ................... weights=uniform, n_neighbors=8, total=   0.2s\n",
      "[CV] weights=uniform, n_neighbors=8 ..................................\n",
      "[CV] ................... weights=uniform, n_neighbors=8, total=   0.3s\n",
      "[CV] weights=distance, n_neighbors=2 .................................\n",
      "[CV] .................. weights=distance, n_neighbors=2, total=   0.1s\n",
      "[CV] weights=distance, n_neighbors=2 .................................\n",
      "[CV] .................. weights=distance, n_neighbors=2, total=   0.1s\n",
      "[CV] weights=distance, n_neighbors=2 .................................\n",
      "[CV] .................. weights=distance, n_neighbors=2, total=   0.1s\n",
      "[CV] weights=distance, n_neighbors=2 .................................\n",
      "[CV] .................. weights=distance, n_neighbors=2, total=   0.1s\n",
      "[CV] weights=distance, n_neighbors=2 .................................\n",
      "[CV] .................. weights=distance, n_neighbors=2, total=   0.1s\n",
      "[CV] weights=distance, n_neighbors=2 .................................\n",
      "[CV] .................. weights=distance, n_neighbors=2, total=   0.1s\n",
      "[CV] weights=distance, n_neighbors=2 .................................\n",
      "[CV] .................. weights=distance, n_neighbors=2, total=   0.1s\n",
      "[CV] weights=distance, n_neighbors=2 .................................\n",
      "[CV] .................. weights=distance, n_neighbors=2, total=   0.1s\n",
      "[CV] weights=distance, n_neighbors=2 .................................\n",
      "[CV] .................. weights=distance, n_neighbors=2, total=   0.1s\n",
      "[CV] weights=distance, n_neighbors=2 .................................\n",
      "[CV] .................. weights=distance, n_neighbors=2, total=   0.2s\n",
      "[CV] weights=uniform, n_neighbors=2 ..................................\n",
      "[CV] ................... weights=uniform, n_neighbors=2, total=   0.3s\n",
      "[CV] weights=uniform, n_neighbors=2 ..................................\n",
      "[CV] ................... weights=uniform, n_neighbors=2, total=   0.4s\n",
      "[CV] weights=uniform, n_neighbors=2 ..................................\n",
      "[CV] ................... weights=uniform, n_neighbors=2, total=   0.2s\n",
      "[CV] weights=uniform, n_neighbors=2 ..................................\n",
      "[CV] ................... weights=uniform, n_neighbors=2, total=   0.2s\n",
      "[CV] weights=uniform, n_neighbors=2 ..................................\n",
      "[CV] ................... weights=uniform, n_neighbors=2, total=   0.3s\n",
      "[CV] weights=uniform, n_neighbors=2 ..................................\n",
      "[CV] ................... weights=uniform, n_neighbors=2, total=   0.3s\n",
      "[CV] weights=uniform, n_neighbors=2 ..................................\n",
      "[CV] ................... weights=uniform, n_neighbors=2, total=   0.2s\n",
      "[CV] weights=uniform, n_neighbors=2 ..................................\n",
      "[CV] ................... weights=uniform, n_neighbors=2, total=   0.3s\n",
      "[CV] weights=uniform, n_neighbors=2 ..................................\n",
      "[CV] ................... weights=uniform, n_neighbors=2, total=   0.3s\n",
      "[CV] weights=uniform, n_neighbors=2 ..................................\n",
      "[CV] ................... weights=uniform, n_neighbors=2, total=   0.3s\n",
      "[CV] weights=distance, n_neighbors=7 .................................\n",
      "[CV] .................. weights=distance, n_neighbors=7, total=   0.1s\n",
      "[CV] weights=distance, n_neighbors=7 .................................\n",
      "[CV] .................. weights=distance, n_neighbors=7, total=   0.1s\n",
      "[CV] weights=distance, n_neighbors=7 .................................\n",
      "[CV] .................. weights=distance, n_neighbors=7, total=   0.2s\n",
      "[CV] weights=distance, n_neighbors=7 .................................\n",
      "[CV] .................. weights=distance, n_neighbors=7, total=   0.2s\n",
      "[CV] weights=distance, n_neighbors=7 .................................\n",
      "[CV] .................. weights=distance, n_neighbors=7, total=   0.2s\n",
      "[CV] weights=distance, n_neighbors=7 .................................\n",
      "[CV] .................. weights=distance, n_neighbors=7, total=   0.2s\n",
      "[CV] weights=distance, n_neighbors=7 .................................\n",
      "[CV] .................. weights=distance, n_neighbors=7, total=   0.2s\n",
      "[CV] weights=distance, n_neighbors=7 .................................\n",
      "[CV] .................. weights=distance, n_neighbors=7, total=   0.1s\n",
      "[CV] weights=distance, n_neighbors=7 .................................\n",
      "[CV] .................. weights=distance, n_neighbors=7, total=   0.1s\n",
      "[CV] weights=distance, n_neighbors=7 .................................\n",
      "[CV] .................. weights=distance, n_neighbors=7, total=   0.2s\n",
      "[CV] weights=distance, n_neighbors=3 .................................\n",
      "[CV] .................. weights=distance, n_neighbors=3, total=   0.2s\n",
      "[CV] weights=distance, n_neighbors=3 .................................\n",
      "[CV] .................. weights=distance, n_neighbors=3, total=   0.1s\n",
      "[CV] weights=distance, n_neighbors=3 .................................\n",
      "[CV] .................. weights=distance, n_neighbors=3, total=   0.1s\n",
      "[CV] weights=distance, n_neighbors=3 .................................\n",
      "[CV] .................. weights=distance, n_neighbors=3, total=   0.1s\n",
      "[CV] weights=distance, n_neighbors=3 .................................\n",
      "[CV] .................. weights=distance, n_neighbors=3, total=   0.1s\n",
      "[CV] weights=distance, n_neighbors=3 .................................\n",
      "[CV] .................. weights=distance, n_neighbors=3, total=   0.1s\n",
      "[CV] weights=distance, n_neighbors=3 .................................\n",
      "[CV] .................. weights=distance, n_neighbors=3, total=   0.1s\n",
      "[CV] weights=distance, n_neighbors=3 .................................\n",
      "[CV] .................. weights=distance, n_neighbors=3, total=   0.1s\n",
      "[CV] weights=distance, n_neighbors=3 .................................\n",
      "[CV] .................. weights=distance, n_neighbors=3, total=   0.1s\n",
      "[CV] weights=distance, n_neighbors=3 .................................\n",
      "[CV] .................. weights=distance, n_neighbors=3, total=   0.1s\n",
      "[CV] weights=uniform, n_neighbors=5 ..................................\n",
      "[CV] ................... weights=uniform, n_neighbors=5, total=   0.3s\n",
      "[CV] weights=uniform, n_neighbors=5 ..................................\n",
      "[CV] ................... weights=uniform, n_neighbors=5, total=   0.3s\n",
      "[CV] weights=uniform, n_neighbors=5 ..................................\n",
      "[CV] ................... weights=uniform, n_neighbors=5, total=   0.3s\n",
      "[CV] weights=uniform, n_neighbors=5 ..................................\n",
      "[CV] ................... weights=uniform, n_neighbors=5, total=   0.3s\n",
      "[CV] weights=uniform, n_neighbors=5 ..................................\n",
      "[CV] ................... weights=uniform, n_neighbors=5, total=   0.3s\n",
      "[CV] weights=uniform, n_neighbors=5 ..................................\n",
      "[CV] ................... weights=uniform, n_neighbors=5, total=   0.2s\n",
      "[CV] weights=uniform, n_neighbors=5 ..................................\n",
      "[CV] ................... weights=uniform, n_neighbors=5, total=   0.2s\n",
      "[CV] weights=uniform, n_neighbors=5 ..................................\n",
      "[CV] ................... weights=uniform, n_neighbors=5, total=   0.2s\n",
      "[CV] weights=uniform, n_neighbors=5 ..................................\n",
      "[CV] ................... weights=uniform, n_neighbors=5, total=   0.4s\n",
      "[CV] weights=uniform, n_neighbors=5 ..................................\n"
     ]
    },
    {
     "name": "stdout",
     "output_type": "stream",
     "text": [
      "[CV] ................... weights=uniform, n_neighbors=5, total=   0.3s\n",
      "[CV] weights=uniform, n_neighbors=7 ..................................\n",
      "[CV] ................... weights=uniform, n_neighbors=7, total=   0.3s\n",
      "[CV] weights=uniform, n_neighbors=7 ..................................\n",
      "[CV] ................... weights=uniform, n_neighbors=7, total=   0.3s\n",
      "[CV] weights=uniform, n_neighbors=7 ..................................\n",
      "[CV] ................... weights=uniform, n_neighbors=7, total=   0.3s\n",
      "[CV] weights=uniform, n_neighbors=7 ..................................\n",
      "[CV] ................... weights=uniform, n_neighbors=7, total=   0.2s\n",
      "[CV] weights=uniform, n_neighbors=7 ..................................\n",
      "[CV] ................... weights=uniform, n_neighbors=7, total=   0.3s\n",
      "[CV] weights=uniform, n_neighbors=7 ..................................\n",
      "[CV] ................... weights=uniform, n_neighbors=7, total=   0.2s\n",
      "[CV] weights=uniform, n_neighbors=7 ..................................\n",
      "[CV] ................... weights=uniform, n_neighbors=7, total=   0.3s\n",
      "[CV] weights=uniform, n_neighbors=7 ..................................\n",
      "[CV] ................... weights=uniform, n_neighbors=7, total=   0.2s\n",
      "[CV] weights=uniform, n_neighbors=7 ..................................\n",
      "[CV] ................... weights=uniform, n_neighbors=7, total=   0.2s\n",
      "[CV] weights=uniform, n_neighbors=7 ..................................\n",
      "[CV] ................... weights=uniform, n_neighbors=7, total=   0.3s\n",
      "[CV] weights=distance, n_neighbors=1 .................................\n",
      "[CV] .................. weights=distance, n_neighbors=1, total=   0.1s\n",
      "[CV] weights=distance, n_neighbors=1 .................................\n",
      "[CV] .................. weights=distance, n_neighbors=1, total=   0.1s\n",
      "[CV] weights=distance, n_neighbors=1 .................................\n",
      "[CV] .................. weights=distance, n_neighbors=1, total=   0.1s\n",
      "[CV] weights=distance, n_neighbors=1 .................................\n",
      "[CV] .................. weights=distance, n_neighbors=1, total=   0.1s\n",
      "[CV] weights=distance, n_neighbors=1 .................................\n",
      "[CV] .................. weights=distance, n_neighbors=1, total=   0.1s\n",
      "[CV] weights=distance, n_neighbors=1 .................................\n",
      "[CV] .................. weights=distance, n_neighbors=1, total=   0.1s\n",
      "[CV] weights=distance, n_neighbors=1 .................................\n",
      "[CV] .................. weights=distance, n_neighbors=1, total=   0.1s\n",
      "[CV] weights=distance, n_neighbors=1 .................................\n",
      "[CV] .................. weights=distance, n_neighbors=1, total=   0.1s\n",
      "[CV] weights=distance, n_neighbors=1 .................................\n",
      "[CV] .................. weights=distance, n_neighbors=1, total=   0.1s\n",
      "[CV] weights=distance, n_neighbors=1 .................................\n",
      "[CV] .................. weights=distance, n_neighbors=1, total=   0.1s\n",
      "[CV] weights=uniform, n_neighbors=6 ..................................\n",
      "[CV] ................... weights=uniform, n_neighbors=6, total=   0.3s\n",
      "[CV] weights=uniform, n_neighbors=6 ..................................\n",
      "[CV] ................... weights=uniform, n_neighbors=6, total=   0.2s\n",
      "[CV] weights=uniform, n_neighbors=6 ..................................\n",
      "[CV] ................... weights=uniform, n_neighbors=6, total=   0.2s\n",
      "[CV] weights=uniform, n_neighbors=6 ..................................\n",
      "[CV] ................... weights=uniform, n_neighbors=6, total=   0.3s\n",
      "[CV] weights=uniform, n_neighbors=6 ..................................\n",
      "[CV] ................... weights=uniform, n_neighbors=6, total=   0.3s\n",
      "[CV] weights=uniform, n_neighbors=6 ..................................\n",
      "[CV] ................... weights=uniform, n_neighbors=6, total=   0.2s\n",
      "[CV] weights=uniform, n_neighbors=6 ..................................\n",
      "[CV] ................... weights=uniform, n_neighbors=6, total=   0.3s\n",
      "[CV] weights=uniform, n_neighbors=6 ..................................\n",
      "[CV] ................... weights=uniform, n_neighbors=6, total=   0.3s\n",
      "[CV] weights=uniform, n_neighbors=6 ..................................\n",
      "[CV] ................... weights=uniform, n_neighbors=6, total=   0.3s\n",
      "[CV] weights=uniform, n_neighbors=6 ..................................\n",
      "[CV] ................... weights=uniform, n_neighbors=6, total=   0.3s\n",
      "[CV] weights=distance, n_neighbors=6 .................................\n",
      "[CV] .................. weights=distance, n_neighbors=6, total=   0.2s\n",
      "[CV] weights=distance, n_neighbors=6 .................................\n",
      "[CV] .................. weights=distance, n_neighbors=6, total=   0.2s\n",
      "[CV] weights=distance, n_neighbors=6 .................................\n",
      "[CV] .................. weights=distance, n_neighbors=6, total=   0.2s\n",
      "[CV] weights=distance, n_neighbors=6 .................................\n",
      "[CV] .................. weights=distance, n_neighbors=6, total=   0.2s\n",
      "[CV] weights=distance, n_neighbors=6 .................................\n",
      "[CV] .................. weights=distance, n_neighbors=6, total=   0.1s\n",
      "[CV] weights=distance, n_neighbors=6 .................................\n",
      "[CV] .................. weights=distance, n_neighbors=6, total=   0.1s\n",
      "[CV] weights=distance, n_neighbors=6 .................................\n",
      "[CV] .................. weights=distance, n_neighbors=6, total=   0.2s\n",
      "[CV] weights=distance, n_neighbors=6 .................................\n",
      "[CV] .................. weights=distance, n_neighbors=6, total=   0.2s\n",
      "[CV] weights=distance, n_neighbors=6 .................................\n",
      "[CV] .................. weights=distance, n_neighbors=6, total=   0.2s\n",
      "[CV] weights=distance, n_neighbors=6 .................................\n",
      "[CV] .................. weights=distance, n_neighbors=6, total=   0.1s\n"
     ]
    },
    {
     "name": "stderr",
     "output_type": "stream",
     "text": [
      "[Parallel(n_jobs=1)]: Done 100 out of 100 | elapsed:   21.3s finished\n"
     ]
    },
    {
     "data": {
      "text/plain": [
       "{'weights': 'distance', 'n_neighbors': 7}"
      ]
     },
     "execution_count": 62,
     "metadata": {},
     "output_type": "execute_result"
    }
   ],
   "source": [
    "knc = KNeighborsClassifier()\n",
    "possible_parameter_values = {'n_neighbors' : [int(x) for x in np.arange(start = 1, stop = 11, step = 1)],\n",
    "                             'weights' : ['uniform', 'distance']}\n",
    "knc_rscv = RandomizedSearchCV(estimator = knc, param_distributions = possible_parameter_values, cv = 10, scoring = 'accuracy', verbose = 2, random_state = 17, n_jobs = 1)\n",
    "knc_rscv.fit(X_train, y_train)\n",
    "knc_rscv.best_params_"
   ]
  },
  {
   "cell_type": "code",
   "execution_count": 63,
   "metadata": {},
   "outputs": [],
   "source": [
    "y_train_pred_knc = knc_rscv.predict(X_train)\n",
    "y_val_pred_knc = knc_rscv.predict(X_val)"
   ]
  },
  {
   "cell_type": "code",
   "execution_count": 64,
   "metadata": {},
   "outputs": [
    {
     "name": "stdout",
     "output_type": "stream",
     "text": [
      "Train accuracy:  1.0\n",
      "Validation accuracy:  0.8371379244197199\n",
      "Train f1_score:  1.0\n",
      "Validation f1_score:  0.5997171145685997\n"
     ]
    }
   ],
   "source": [
    "print('Train accuracy: ', accuracy_score(y_train, y_train_pred_knc))\n",
    "print('Validation accuracy: ', accuracy_score(y_val, y_val_pred_knc))\n",
    "print('Train f1_score: ', f1_score(y_train, y_train_pred_knc))\n",
    "print('Validation f1_score: ', f1_score(y_val, y_val_pred_knc))"
   ]
  },
  {
   "cell_type": "markdown",
   "metadata": {},
   "source": [
    "### XGBClassifier()"
   ]
  },
  {
   "cell_type": "code",
   "execution_count": 65,
   "metadata": {
    "scrolled": false
   },
   "outputs": [
    {
     "name": "stdout",
     "output_type": "stream",
     "text": [
      "Fitting 10 folds for each of 10 candidates, totalling 100 fits\n",
      "[CV] use_label_encoder=False, n_estimators=50, max_depth=35, learning_rate=0.737 \n"
     ]
    },
    {
     "name": "stderr",
     "output_type": "stream",
     "text": [
      "[Parallel(n_jobs=1)]: Using backend SequentialBackend with 1 concurrent workers.\n"
     ]
    },
    {
     "name": "stdout",
     "output_type": "stream",
     "text": [
      "[20:37:31] WARNING: C:/Users/Administrator/workspace/xgboost-win64_release_1.3.0/src/learner.cc:1061: Starting in XGBoost 1.3.0, the default evaluation metric used with the objective 'binary:logistic' was changed from 'error' to 'logloss'. Explicitly set eval_metric if you'd like to restore the old behavior.\n",
      "[CV]  use_label_encoder=False, n_estimators=50, max_depth=35, learning_rate=0.737, total=   3.0s\n",
      "[CV] use_label_encoder=False, n_estimators=50, max_depth=35, learning_rate=0.737 \n",
      "[20:37:34] WARNING: C:/Users/Administrator/workspace/xgboost-win64_release_1.3.0/src/learner.cc:1061: Starting in XGBoost 1.3.0, the default evaluation metric used with the objective 'binary:logistic' was changed from 'error' to 'logloss'. Explicitly set eval_metric if you'd like to restore the old behavior.\n"
     ]
    },
    {
     "name": "stderr",
     "output_type": "stream",
     "text": [
      "[Parallel(n_jobs=1)]: Done   1 out of   1 | elapsed:    2.9s remaining:    0.0s\n"
     ]
    },
    {
     "name": "stdout",
     "output_type": "stream",
     "text": [
      "[CV]  use_label_encoder=False, n_estimators=50, max_depth=35, learning_rate=0.737, total=   2.6s\n",
      "[CV] use_label_encoder=False, n_estimators=50, max_depth=35, learning_rate=0.737 \n",
      "[20:37:36] WARNING: C:/Users/Administrator/workspace/xgboost-win64_release_1.3.0/src/learner.cc:1061: Starting in XGBoost 1.3.0, the default evaluation metric used with the objective 'binary:logistic' was changed from 'error' to 'logloss'. Explicitly set eval_metric if you'd like to restore the old behavior.\n",
      "[CV]  use_label_encoder=False, n_estimators=50, max_depth=35, learning_rate=0.737, total=   2.3s\n",
      "[CV] use_label_encoder=False, n_estimators=50, max_depth=35, learning_rate=0.737 \n",
      "[20:37:38] WARNING: C:/Users/Administrator/workspace/xgboost-win64_release_1.3.0/src/learner.cc:1061: Starting in XGBoost 1.3.0, the default evaluation metric used with the objective 'binary:logistic' was changed from 'error' to 'logloss'. Explicitly set eval_metric if you'd like to restore the old behavior.\n",
      "[CV]  use_label_encoder=False, n_estimators=50, max_depth=35, learning_rate=0.737, total=   2.3s\n",
      "[CV] use_label_encoder=False, n_estimators=50, max_depth=35, learning_rate=0.737 \n",
      "[20:37:41] WARNING: C:/Users/Administrator/workspace/xgboost-win64_release_1.3.0/src/learner.cc:1061: Starting in XGBoost 1.3.0, the default evaluation metric used with the objective 'binary:logistic' was changed from 'error' to 'logloss'. Explicitly set eval_metric if you'd like to restore the old behavior.\n",
      "[CV]  use_label_encoder=False, n_estimators=50, max_depth=35, learning_rate=0.737, total=   2.3s\n",
      "[CV] use_label_encoder=False, n_estimators=50, max_depth=35, learning_rate=0.737 \n",
      "[20:37:43] WARNING: C:/Users/Administrator/workspace/xgboost-win64_release_1.3.0/src/learner.cc:1061: Starting in XGBoost 1.3.0, the default evaluation metric used with the objective 'binary:logistic' was changed from 'error' to 'logloss'. Explicitly set eval_metric if you'd like to restore the old behavior.\n",
      "[CV]  use_label_encoder=False, n_estimators=50, max_depth=35, learning_rate=0.737, total=   2.5s\n",
      "[CV] use_label_encoder=False, n_estimators=50, max_depth=35, learning_rate=0.737 \n",
      "[20:37:45] WARNING: C:/Users/Administrator/workspace/xgboost-win64_release_1.3.0/src/learner.cc:1061: Starting in XGBoost 1.3.0, the default evaluation metric used with the objective 'binary:logistic' was changed from 'error' to 'logloss'. Explicitly set eval_metric if you'd like to restore the old behavior.\n",
      "[CV]  use_label_encoder=False, n_estimators=50, max_depth=35, learning_rate=0.737, total=   2.4s\n",
      "[CV] use_label_encoder=False, n_estimators=50, max_depth=35, learning_rate=0.737 \n",
      "[20:37:48] WARNING: C:/Users/Administrator/workspace/xgboost-win64_release_1.3.0/src/learner.cc:1061: Starting in XGBoost 1.3.0, the default evaluation metric used with the objective 'binary:logistic' was changed from 'error' to 'logloss'. Explicitly set eval_metric if you'd like to restore the old behavior.\n",
      "[CV]  use_label_encoder=False, n_estimators=50, max_depth=35, learning_rate=0.737, total=   2.5s\n",
      "[CV] use_label_encoder=False, n_estimators=50, max_depth=35, learning_rate=0.737 \n",
      "[20:37:50] WARNING: C:/Users/Administrator/workspace/xgboost-win64_release_1.3.0/src/learner.cc:1061: Starting in XGBoost 1.3.0, the default evaluation metric used with the objective 'binary:logistic' was changed from 'error' to 'logloss'. Explicitly set eval_metric if you'd like to restore the old behavior.\n",
      "[CV]  use_label_encoder=False, n_estimators=50, max_depth=35, learning_rate=0.737, total=   2.3s\n",
      "[CV] use_label_encoder=False, n_estimators=50, max_depth=35, learning_rate=0.737 \n",
      "[20:37:53] WARNING: C:/Users/Administrator/workspace/xgboost-win64_release_1.3.0/src/learner.cc:1061: Starting in XGBoost 1.3.0, the default evaluation metric used with the objective 'binary:logistic' was changed from 'error' to 'logloss'. Explicitly set eval_metric if you'd like to restore the old behavior.\n",
      "[CV]  use_label_encoder=False, n_estimators=50, max_depth=35, learning_rate=0.737, total=   2.4s\n",
      "[CV] use_label_encoder=False, n_estimators=600, max_depth=40, learning_rate=0.372 \n",
      "[20:37:55] WARNING: C:/Users/Administrator/workspace/xgboost-win64_release_1.3.0/src/learner.cc:1061: Starting in XGBoost 1.3.0, the default evaluation metric used with the objective 'binary:logistic' was changed from 'error' to 'logloss'. Explicitly set eval_metric if you'd like to restore the old behavior.\n",
      "[CV]  use_label_encoder=False, n_estimators=600, max_depth=40, learning_rate=0.372, total=  20.4s\n",
      "[CV] use_label_encoder=False, n_estimators=600, max_depth=40, learning_rate=0.372 \n",
      "[20:38:15] WARNING: C:/Users/Administrator/workspace/xgboost-win64_release_1.3.0/src/learner.cc:1061: Starting in XGBoost 1.3.0, the default evaluation metric used with the objective 'binary:logistic' was changed from 'error' to 'logloss'. Explicitly set eval_metric if you'd like to restore the old behavior.\n",
      "[CV]  use_label_encoder=False, n_estimators=600, max_depth=40, learning_rate=0.372, total=  20.5s\n",
      "[CV] use_label_encoder=False, n_estimators=600, max_depth=40, learning_rate=0.372 \n",
      "[20:38:36] WARNING: C:/Users/Administrator/workspace/xgboost-win64_release_1.3.0/src/learner.cc:1061: Starting in XGBoost 1.3.0, the default evaluation metric used with the objective 'binary:logistic' was changed from 'error' to 'logloss'. Explicitly set eval_metric if you'd like to restore the old behavior.\n",
      "[CV]  use_label_encoder=False, n_estimators=600, max_depth=40, learning_rate=0.372, total=  18.4s\n",
      "[CV] use_label_encoder=False, n_estimators=600, max_depth=40, learning_rate=0.372 \n",
      "[20:38:54] WARNING: C:/Users/Administrator/workspace/xgboost-win64_release_1.3.0/src/learner.cc:1061: Starting in XGBoost 1.3.0, the default evaluation metric used with the objective 'binary:logistic' was changed from 'error' to 'logloss'. Explicitly set eval_metric if you'd like to restore the old behavior.\n",
      "[CV]  use_label_encoder=False, n_estimators=600, max_depth=40, learning_rate=0.372, total=  28.5s\n",
      "[CV] use_label_encoder=False, n_estimators=600, max_depth=40, learning_rate=0.372 \n",
      "[20:39:23] WARNING: C:/Users/Administrator/workspace/xgboost-win64_release_1.3.0/src/learner.cc:1061: Starting in XGBoost 1.3.0, the default evaluation metric used with the objective 'binary:logistic' was changed from 'error' to 'logloss'. Explicitly set eval_metric if you'd like to restore the old behavior.\n",
      "[CV]  use_label_encoder=False, n_estimators=600, max_depth=40, learning_rate=0.372, total=  20.5s\n",
      "[CV] use_label_encoder=False, n_estimators=600, max_depth=40, learning_rate=0.372 \n",
      "[20:39:43] WARNING: C:/Users/Administrator/workspace/xgboost-win64_release_1.3.0/src/learner.cc:1061: Starting in XGBoost 1.3.0, the default evaluation metric used with the objective 'binary:logistic' was changed from 'error' to 'logloss'. Explicitly set eval_metric if you'd like to restore the old behavior.\n",
      "[CV]  use_label_encoder=False, n_estimators=600, max_depth=40, learning_rate=0.372, total=  20.0s\n",
      "[CV] use_label_encoder=False, n_estimators=600, max_depth=40, learning_rate=0.372 \n",
      "[20:40:03] WARNING: C:/Users/Administrator/workspace/xgboost-win64_release_1.3.0/src/learner.cc:1061: Starting in XGBoost 1.3.0, the default evaluation metric used with the objective 'binary:logistic' was changed from 'error' to 'logloss'. Explicitly set eval_metric if you'd like to restore the old behavior.\n",
      "[CV]  use_label_encoder=False, n_estimators=600, max_depth=40, learning_rate=0.372, total=  18.4s\n",
      "[CV] use_label_encoder=False, n_estimators=600, max_depth=40, learning_rate=0.372 \n",
      "[20:40:22] WARNING: C:/Users/Administrator/workspace/xgboost-win64_release_1.3.0/src/learner.cc:1061: Starting in XGBoost 1.3.0, the default evaluation metric used with the objective 'binary:logistic' was changed from 'error' to 'logloss'. Explicitly set eval_metric if you'd like to restore the old behavior.\n",
      "[CV]  use_label_encoder=False, n_estimators=600, max_depth=40, learning_rate=0.372, total=  18.9s\n",
      "[CV] use_label_encoder=False, n_estimators=600, max_depth=40, learning_rate=0.372 \n",
      "[20:40:41] WARNING: C:/Users/Administrator/workspace/xgboost-win64_release_1.3.0/src/learner.cc:1061: Starting in XGBoost 1.3.0, the default evaluation metric used with the objective 'binary:logistic' was changed from 'error' to 'logloss'. Explicitly set eval_metric if you'd like to restore the old behavior.\n"
     ]
    },
    {
     "name": "stdout",
     "output_type": "stream",
     "text": [
      "[CV]  use_label_encoder=False, n_estimators=600, max_depth=40, learning_rate=0.372, total=  23.6s\n",
      "[CV] use_label_encoder=False, n_estimators=600, max_depth=40, learning_rate=0.372 \n",
      "[20:41:04] WARNING: C:/Users/Administrator/workspace/xgboost-win64_release_1.3.0/src/learner.cc:1061: Starting in XGBoost 1.3.0, the default evaluation metric used with the objective 'binary:logistic' was changed from 'error' to 'logloss'. Explicitly set eval_metric if you'd like to restore the old behavior.\n",
      "[CV]  use_label_encoder=False, n_estimators=600, max_depth=40, learning_rate=0.372, total=  18.5s\n",
      "[CV] use_label_encoder=True, n_estimators=200, max_depth=95, learning_rate=0.615 \n",
      "[20:41:23] WARNING: C:/Users/Administrator/workspace/xgboost-win64_release_1.3.0/src/learner.cc:1061: Starting in XGBoost 1.3.0, the default evaluation metric used with the objective 'binary:logistic' was changed from 'error' to 'logloss'. Explicitly set eval_metric if you'd like to restore the old behavior.\n",
      "[CV]  use_label_encoder=True, n_estimators=200, max_depth=95, learning_rate=0.615, total=  11.7s\n",
      "[CV] use_label_encoder=True, n_estimators=200, max_depth=95, learning_rate=0.615 \n",
      "[20:41:35] WARNING: C:/Users/Administrator/workspace/xgboost-win64_release_1.3.0/src/learner.cc:1061: Starting in XGBoost 1.3.0, the default evaluation metric used with the objective 'binary:logistic' was changed from 'error' to 'logloss'. Explicitly set eval_metric if you'd like to restore the old behavior.\n",
      "[CV]  use_label_encoder=True, n_estimators=200, max_depth=95, learning_rate=0.615, total=   7.0s\n",
      "[CV] use_label_encoder=True, n_estimators=200, max_depth=95, learning_rate=0.615 \n",
      "[20:41:42] WARNING: C:/Users/Administrator/workspace/xgboost-win64_release_1.3.0/src/learner.cc:1061: Starting in XGBoost 1.3.0, the default evaluation metric used with the objective 'binary:logistic' was changed from 'error' to 'logloss'. Explicitly set eval_metric if you'd like to restore the old behavior.\n",
      "[CV]  use_label_encoder=True, n_estimators=200, max_depth=95, learning_rate=0.615, total=  10.8s\n",
      "[CV] use_label_encoder=True, n_estimators=200, max_depth=95, learning_rate=0.615 \n",
      "[20:41:52] WARNING: C:/Users/Administrator/workspace/xgboost-win64_release_1.3.0/src/learner.cc:1061: Starting in XGBoost 1.3.0, the default evaluation metric used with the objective 'binary:logistic' was changed from 'error' to 'logloss'. Explicitly set eval_metric if you'd like to restore the old behavior.\n",
      "[CV]  use_label_encoder=True, n_estimators=200, max_depth=95, learning_rate=0.615, total=   7.8s\n",
      "[CV] use_label_encoder=True, n_estimators=200, max_depth=95, learning_rate=0.615 \n",
      "[20:42:00] WARNING: C:/Users/Administrator/workspace/xgboost-win64_release_1.3.0/src/learner.cc:1061: Starting in XGBoost 1.3.0, the default evaluation metric used with the objective 'binary:logistic' was changed from 'error' to 'logloss'. Explicitly set eval_metric if you'd like to restore the old behavior.\n",
      "[CV]  use_label_encoder=True, n_estimators=200, max_depth=95, learning_rate=0.615, total=  10.3s\n",
      "[CV] use_label_encoder=True, n_estimators=200, max_depth=95, learning_rate=0.615 \n",
      "[20:42:11] WARNING: C:/Users/Administrator/workspace/xgboost-win64_release_1.3.0/src/learner.cc:1061: Starting in XGBoost 1.3.0, the default evaluation metric used with the objective 'binary:logistic' was changed from 'error' to 'logloss'. Explicitly set eval_metric if you'd like to restore the old behavior.\n",
      "[CV]  use_label_encoder=True, n_estimators=200, max_depth=95, learning_rate=0.615, total=   9.0s\n",
      "[CV] use_label_encoder=True, n_estimators=200, max_depth=95, learning_rate=0.615 \n",
      "[20:42:19] WARNING: C:/Users/Administrator/workspace/xgboost-win64_release_1.3.0/src/learner.cc:1061: Starting in XGBoost 1.3.0, the default evaluation metric used with the objective 'binary:logistic' was changed from 'error' to 'logloss'. Explicitly set eval_metric if you'd like to restore the old behavior.\n",
      "[CV]  use_label_encoder=True, n_estimators=200, max_depth=95, learning_rate=0.615, total=   8.8s\n",
      "[CV] use_label_encoder=True, n_estimators=200, max_depth=95, learning_rate=0.615 \n",
      "[20:42:28] WARNING: C:/Users/Administrator/workspace/xgboost-win64_release_1.3.0/src/learner.cc:1061: Starting in XGBoost 1.3.0, the default evaluation metric used with the objective 'binary:logistic' was changed from 'error' to 'logloss'. Explicitly set eval_metric if you'd like to restore the old behavior.\n",
      "[CV]  use_label_encoder=True, n_estimators=200, max_depth=95, learning_rate=0.615, total=   9.7s\n",
      "[CV] use_label_encoder=True, n_estimators=200, max_depth=95, learning_rate=0.615 \n",
      "[20:42:38] WARNING: C:/Users/Administrator/workspace/xgboost-win64_release_1.3.0/src/learner.cc:1061: Starting in XGBoost 1.3.0, the default evaluation metric used with the objective 'binary:logistic' was changed from 'error' to 'logloss'. Explicitly set eval_metric if you'd like to restore the old behavior.\n",
      "[CV]  use_label_encoder=True, n_estimators=200, max_depth=95, learning_rate=0.615, total=   7.1s\n",
      "[CV] use_label_encoder=True, n_estimators=200, max_depth=95, learning_rate=0.615 \n",
      "[20:42:45] WARNING: C:/Users/Administrator/workspace/xgboost-win64_release_1.3.0/src/learner.cc:1061: Starting in XGBoost 1.3.0, the default evaluation metric used with the objective 'binary:logistic' was changed from 'error' to 'logloss'. Explicitly set eval_metric if you'd like to restore the old behavior.\n",
      "[CV]  use_label_encoder=True, n_estimators=200, max_depth=95, learning_rate=0.615, total=  11.7s\n",
      "[CV] use_label_encoder=True, n_estimators=50, max_depth=15, learning_rate=0.158 \n",
      "[20:42:57] WARNING: C:/Users/Administrator/workspace/xgboost-win64_release_1.3.0/src/learner.cc:1061: Starting in XGBoost 1.3.0, the default evaluation metric used with the objective 'binary:logistic' was changed from 'error' to 'logloss'. Explicitly set eval_metric if you'd like to restore the old behavior.\n",
      "[CV]  use_label_encoder=True, n_estimators=50, max_depth=15, learning_rate=0.158, total=   2.0s\n",
      "[CV] use_label_encoder=True, n_estimators=50, max_depth=15, learning_rate=0.158 \n",
      "[20:42:59] WARNING: C:/Users/Administrator/workspace/xgboost-win64_release_1.3.0/src/learner.cc:1061: Starting in XGBoost 1.3.0, the default evaluation metric used with the objective 'binary:logistic' was changed from 'error' to 'logloss'. Explicitly set eval_metric if you'd like to restore the old behavior.\n",
      "[CV]  use_label_encoder=True, n_estimators=50, max_depth=15, learning_rate=0.158, total=   2.0s\n",
      "[CV] use_label_encoder=True, n_estimators=50, max_depth=15, learning_rate=0.158 \n",
      "[20:43:01] WARNING: C:/Users/Administrator/workspace/xgboost-win64_release_1.3.0/src/learner.cc:1061: Starting in XGBoost 1.3.0, the default evaluation metric used with the objective 'binary:logistic' was changed from 'error' to 'logloss'. Explicitly set eval_metric if you'd like to restore the old behavior.\n",
      "[CV]  use_label_encoder=True, n_estimators=50, max_depth=15, learning_rate=0.158, total=   2.0s\n",
      "[CV] use_label_encoder=True, n_estimators=50, max_depth=15, learning_rate=0.158 \n",
      "[20:43:03] WARNING: C:/Users/Administrator/workspace/xgboost-win64_release_1.3.0/src/learner.cc:1061: Starting in XGBoost 1.3.0, the default evaluation metric used with the objective 'binary:logistic' was changed from 'error' to 'logloss'. Explicitly set eval_metric if you'd like to restore the old behavior.\n",
      "[CV]  use_label_encoder=True, n_estimators=50, max_depth=15, learning_rate=0.158, total=   2.0s\n",
      "[CV] use_label_encoder=True, n_estimators=50, max_depth=15, learning_rate=0.158 \n",
      "[20:43:05] WARNING: C:/Users/Administrator/workspace/xgboost-win64_release_1.3.0/src/learner.cc:1061: Starting in XGBoost 1.3.0, the default evaluation metric used with the objective 'binary:logistic' was changed from 'error' to 'logloss'. Explicitly set eval_metric if you'd like to restore the old behavior.\n",
      "[CV]  use_label_encoder=True, n_estimators=50, max_depth=15, learning_rate=0.158, total=   3.2s\n",
      "[CV] use_label_encoder=True, n_estimators=50, max_depth=15, learning_rate=0.158 \n",
      "[20:43:08] WARNING: C:/Users/Administrator/workspace/xgboost-win64_release_1.3.0/src/learner.cc:1061: Starting in XGBoost 1.3.0, the default evaluation metric used with the objective 'binary:logistic' was changed from 'error' to 'logloss'. Explicitly set eval_metric if you'd like to restore the old behavior.\n"
     ]
    },
    {
     "name": "stdout",
     "output_type": "stream",
     "text": [
      "[CV]  use_label_encoder=True, n_estimators=50, max_depth=15, learning_rate=0.158, total=   3.2s\n",
      "[CV] use_label_encoder=True, n_estimators=50, max_depth=15, learning_rate=0.158 \n",
      "[20:43:11] WARNING: C:/Users/Administrator/workspace/xgboost-win64_release_1.3.0/src/learner.cc:1061: Starting in XGBoost 1.3.0, the default evaluation metric used with the objective 'binary:logistic' was changed from 'error' to 'logloss'. Explicitly set eval_metric if you'd like to restore the old behavior.\n",
      "[CV]  use_label_encoder=True, n_estimators=50, max_depth=15, learning_rate=0.158, total=   3.2s\n",
      "[CV] use_label_encoder=True, n_estimators=50, max_depth=15, learning_rate=0.158 \n",
      "[20:43:14] WARNING: C:/Users/Administrator/workspace/xgboost-win64_release_1.3.0/src/learner.cc:1061: Starting in XGBoost 1.3.0, the default evaluation metric used with the objective 'binary:logistic' was changed from 'error' to 'logloss'. Explicitly set eval_metric if you'd like to restore the old behavior.\n",
      "[CV]  use_label_encoder=True, n_estimators=50, max_depth=15, learning_rate=0.158, total=   2.1s\n",
      "[CV] use_label_encoder=True, n_estimators=50, max_depth=15, learning_rate=0.158 \n",
      "[20:43:17] WARNING: C:/Users/Administrator/workspace/xgboost-win64_release_1.3.0/src/learner.cc:1061: Starting in XGBoost 1.3.0, the default evaluation metric used with the objective 'binary:logistic' was changed from 'error' to 'logloss'. Explicitly set eval_metric if you'd like to restore the old behavior.\n",
      "[CV]  use_label_encoder=True, n_estimators=50, max_depth=15, learning_rate=0.158, total=   2.0s\n",
      "[CV] use_label_encoder=True, n_estimators=50, max_depth=15, learning_rate=0.158 \n",
      "[20:43:19] WARNING: C:/Users/Administrator/workspace/xgboost-win64_release_1.3.0/src/learner.cc:1061: Starting in XGBoost 1.3.0, the default evaluation metric used with the objective 'binary:logistic' was changed from 'error' to 'logloss'. Explicitly set eval_metric if you'd like to restore the old behavior.\n",
      "[CV]  use_label_encoder=True, n_estimators=50, max_depth=15, learning_rate=0.158, total=   2.0s\n",
      "[CV] use_label_encoder=False, n_estimators=750, max_depth=15, learning_rate=0.971 \n",
      "[20:43:21] WARNING: C:/Users/Administrator/workspace/xgboost-win64_release_1.3.0/src/learner.cc:1061: Starting in XGBoost 1.3.0, the default evaluation metric used with the objective 'binary:logistic' was changed from 'error' to 'logloss'. Explicitly set eval_metric if you'd like to restore the old behavior.\n",
      "[CV]  use_label_encoder=False, n_estimators=750, max_depth=15, learning_rate=0.971, total=  20.1s\n",
      "[CV] use_label_encoder=False, n_estimators=750, max_depth=15, learning_rate=0.971 \n",
      "[20:43:41] WARNING: C:/Users/Administrator/workspace/xgboost-win64_release_1.3.0/src/learner.cc:1061: Starting in XGBoost 1.3.0, the default evaluation metric used with the objective 'binary:logistic' was changed from 'error' to 'logloss'. Explicitly set eval_metric if you'd like to restore the old behavior.\n",
      "[CV]  use_label_encoder=False, n_estimators=750, max_depth=15, learning_rate=0.971, total=  21.5s\n",
      "[CV] use_label_encoder=False, n_estimators=750, max_depth=15, learning_rate=0.971 \n",
      "[20:44:02] WARNING: C:/Users/Administrator/workspace/xgboost-win64_release_1.3.0/src/learner.cc:1061: Starting in XGBoost 1.3.0, the default evaluation metric used with the objective 'binary:logistic' was changed from 'error' to 'logloss'. Explicitly set eval_metric if you'd like to restore the old behavior.\n",
      "[CV]  use_label_encoder=False, n_estimators=750, max_depth=15, learning_rate=0.971, total=  20.4s\n",
      "[CV] use_label_encoder=False, n_estimators=750, max_depth=15, learning_rate=0.971 \n",
      "[20:44:23] WARNING: C:/Users/Administrator/workspace/xgboost-win64_release_1.3.0/src/learner.cc:1061: Starting in XGBoost 1.3.0, the default evaluation metric used with the objective 'binary:logistic' was changed from 'error' to 'logloss'. Explicitly set eval_metric if you'd like to restore the old behavior.\n",
      "[CV]  use_label_encoder=False, n_estimators=750, max_depth=15, learning_rate=0.971, total=  21.3s\n",
      "[CV] use_label_encoder=False, n_estimators=750, max_depth=15, learning_rate=0.971 \n",
      "[20:44:44] WARNING: C:/Users/Administrator/workspace/xgboost-win64_release_1.3.0/src/learner.cc:1061: Starting in XGBoost 1.3.0, the default evaluation metric used with the objective 'binary:logistic' was changed from 'error' to 'logloss'. Explicitly set eval_metric if you'd like to restore the old behavior.\n",
      "[CV]  use_label_encoder=False, n_estimators=750, max_depth=15, learning_rate=0.971, total=  20.5s\n",
      "[CV] use_label_encoder=False, n_estimators=750, max_depth=15, learning_rate=0.971 \n",
      "[20:45:04] WARNING: C:/Users/Administrator/workspace/xgboost-win64_release_1.3.0/src/learner.cc:1061: Starting in XGBoost 1.3.0, the default evaluation metric used with the objective 'binary:logistic' was changed from 'error' to 'logloss'. Explicitly set eval_metric if you'd like to restore the old behavior.\n",
      "[CV]  use_label_encoder=False, n_estimators=750, max_depth=15, learning_rate=0.971, total=  15.2s\n",
      "[CV] use_label_encoder=False, n_estimators=750, max_depth=15, learning_rate=0.971 \n",
      "[20:45:20] WARNING: C:/Users/Administrator/workspace/xgboost-win64_release_1.3.0/src/learner.cc:1061: Starting in XGBoost 1.3.0, the default evaluation metric used with the objective 'binary:logistic' was changed from 'error' to 'logloss'. Explicitly set eval_metric if you'd like to restore the old behavior.\n",
      "[CV]  use_label_encoder=False, n_estimators=750, max_depth=15, learning_rate=0.971, total=  19.5s\n",
      "[CV] use_label_encoder=False, n_estimators=750, max_depth=15, learning_rate=0.971 \n",
      "[20:45:39] WARNING: C:/Users/Administrator/workspace/xgboost-win64_release_1.3.0/src/learner.cc:1061: Starting in XGBoost 1.3.0, the default evaluation metric used with the objective 'binary:logistic' was changed from 'error' to 'logloss'. Explicitly set eval_metric if you'd like to restore the old behavior.\n",
      "[CV]  use_label_encoder=False, n_estimators=750, max_depth=15, learning_rate=0.971, total=  19.1s\n",
      "[CV] use_label_encoder=False, n_estimators=750, max_depth=15, learning_rate=0.971 \n",
      "[20:45:58] WARNING: C:/Users/Administrator/workspace/xgboost-win64_release_1.3.0/src/learner.cc:1061: Starting in XGBoost 1.3.0, the default evaluation metric used with the objective 'binary:logistic' was changed from 'error' to 'logloss'. Explicitly set eval_metric if you'd like to restore the old behavior.\n",
      "[CV]  use_label_encoder=False, n_estimators=750, max_depth=15, learning_rate=0.971, total=  19.6s\n",
      "[CV] use_label_encoder=False, n_estimators=750, max_depth=15, learning_rate=0.971 \n",
      "[20:46:18] WARNING: C:/Users/Administrator/workspace/xgboost-win64_release_1.3.0/src/learner.cc:1061: Starting in XGBoost 1.3.0, the default evaluation metric used with the objective 'binary:logistic' was changed from 'error' to 'logloss'. Explicitly set eval_metric if you'd like to restore the old behavior.\n",
      "[CV]  use_label_encoder=False, n_estimators=750, max_depth=15, learning_rate=0.971, total=  28.3s\n",
      "[CV] use_label_encoder=True, n_estimators=400, max_depth=50, learning_rate=0.646 \n",
      "[20:46:51] WARNING: C:/Users/Administrator/workspace/xgboost-win64_release_1.3.0/src/learner.cc:1061: Starting in XGBoost 1.3.0, the default evaluation metric used with the objective 'binary:logistic' was changed from 'error' to 'logloss'. Explicitly set eval_metric if you'd like to restore the old behavior.\n",
      "[CV]  use_label_encoder=True, n_estimators=400, max_depth=50, learning_rate=0.646, total=  22.2s\n",
      "[CV] use_label_encoder=True, n_estimators=400, max_depth=50, learning_rate=0.646 \n",
      "[20:47:08] WARNING: C:/Users/Administrator/workspace/xgboost-win64_release_1.3.0/src/learner.cc:1061: Starting in XGBoost 1.3.0, the default evaluation metric used with the objective 'binary:logistic' was changed from 'error' to 'logloss'. Explicitly set eval_metric if you'd like to restore the old behavior.\n",
      "[CV]  use_label_encoder=True, n_estimators=400, max_depth=50, learning_rate=0.646, total=  17.5s\n",
      "[CV] use_label_encoder=True, n_estimators=400, max_depth=50, learning_rate=0.646 \n",
      "[20:47:26] WARNING: C:/Users/Administrator/workspace/xgboost-win64_release_1.3.0/src/learner.cc:1061: Starting in XGBoost 1.3.0, the default evaluation metric used with the objective 'binary:logistic' was changed from 'error' to 'logloss'. Explicitly set eval_metric if you'd like to restore the old behavior.\n"
     ]
    },
    {
     "name": "stdout",
     "output_type": "stream",
     "text": [
      "[CV]  use_label_encoder=True, n_estimators=400, max_depth=50, learning_rate=0.646, total=  16.6s\n",
      "[CV] use_label_encoder=True, n_estimators=400, max_depth=50, learning_rate=0.646 \n",
      "[20:47:43] WARNING: C:/Users/Administrator/workspace/xgboost-win64_release_1.3.0/src/learner.cc:1061: Starting in XGBoost 1.3.0, the default evaluation metric used with the objective 'binary:logistic' was changed from 'error' to 'logloss'. Explicitly set eval_metric if you'd like to restore the old behavior.\n",
      "[CV]  use_label_encoder=True, n_estimators=400, max_depth=50, learning_rate=0.646, total=  17.3s\n",
      "[CV] use_label_encoder=True, n_estimators=400, max_depth=50, learning_rate=0.646 \n",
      "[20:48:00] WARNING: C:/Users/Administrator/workspace/xgboost-win64_release_1.3.0/src/learner.cc:1061: Starting in XGBoost 1.3.0, the default evaluation metric used with the objective 'binary:logistic' was changed from 'error' to 'logloss'. Explicitly set eval_metric if you'd like to restore the old behavior.\n",
      "[CV]  use_label_encoder=True, n_estimators=400, max_depth=50, learning_rate=0.646, total=  17.0s\n",
      "[CV] use_label_encoder=True, n_estimators=400, max_depth=50, learning_rate=0.646 \n",
      "[20:48:17] WARNING: C:/Users/Administrator/workspace/xgboost-win64_release_1.3.0/src/learner.cc:1061: Starting in XGBoost 1.3.0, the default evaluation metric used with the objective 'binary:logistic' was changed from 'error' to 'logloss'. Explicitly set eval_metric if you'd like to restore the old behavior.\n",
      "[CV]  use_label_encoder=True, n_estimators=400, max_depth=50, learning_rate=0.646, total=  15.7s\n",
      "[CV] use_label_encoder=True, n_estimators=400, max_depth=50, learning_rate=0.646 \n",
      "[20:48:32] WARNING: C:/Users/Administrator/workspace/xgboost-win64_release_1.3.0/src/learner.cc:1061: Starting in XGBoost 1.3.0, the default evaluation metric used with the objective 'binary:logistic' was changed from 'error' to 'logloss'. Explicitly set eval_metric if you'd like to restore the old behavior.\n",
      "[CV]  use_label_encoder=True, n_estimators=400, max_depth=50, learning_rate=0.646, total=  14.0s\n",
      "[CV] use_label_encoder=True, n_estimators=400, max_depth=50, learning_rate=0.646 \n",
      "[20:48:46] WARNING: C:/Users/Administrator/workspace/xgboost-win64_release_1.3.0/src/learner.cc:1061: Starting in XGBoost 1.3.0, the default evaluation metric used with the objective 'binary:logistic' was changed from 'error' to 'logloss'. Explicitly set eval_metric if you'd like to restore the old behavior.\n",
      "[CV]  use_label_encoder=True, n_estimators=400, max_depth=50, learning_rate=0.646, total=  16.4s\n",
      "[CV] use_label_encoder=True, n_estimators=400, max_depth=50, learning_rate=0.646 \n",
      "[20:49:03] WARNING: C:/Users/Administrator/workspace/xgboost-win64_release_1.3.0/src/learner.cc:1061: Starting in XGBoost 1.3.0, the default evaluation metric used with the objective 'binary:logistic' was changed from 'error' to 'logloss'. Explicitly set eval_metric if you'd like to restore the old behavior.\n",
      "[CV]  use_label_encoder=True, n_estimators=400, max_depth=50, learning_rate=0.646, total=  17.5s\n",
      "[CV] use_label_encoder=True, n_estimators=400, max_depth=50, learning_rate=0.646 \n",
      "[20:49:20] WARNING: C:/Users/Administrator/workspace/xgboost-win64_release_1.3.0/src/learner.cc:1061: Starting in XGBoost 1.3.0, the default evaluation metric used with the objective 'binary:logistic' was changed from 'error' to 'logloss'. Explicitly set eval_metric if you'd like to restore the old behavior.\n",
      "[CV]  use_label_encoder=True, n_estimators=400, max_depth=50, learning_rate=0.646, total=  17.8s\n",
      "[CV] use_label_encoder=False, n_estimators=400, max_depth=75, learning_rate=0.36 \n",
      "[20:49:38] WARNING: C:/Users/Administrator/workspace/xgboost-win64_release_1.3.0/src/learner.cc:1061: Starting in XGBoost 1.3.0, the default evaluation metric used with the objective 'binary:logistic' was changed from 'error' to 'logloss'. Explicitly set eval_metric if you'd like to restore the old behavior.\n",
      "[CV]  use_label_encoder=False, n_estimators=400, max_depth=75, learning_rate=0.36, total=  22.0s\n",
      "[CV] use_label_encoder=False, n_estimators=400, max_depth=75, learning_rate=0.36 \n",
      "[20:50:00] WARNING: C:/Users/Administrator/workspace/xgboost-win64_release_1.3.0/src/learner.cc:1061: Starting in XGBoost 1.3.0, the default evaluation metric used with the objective 'binary:logistic' was changed from 'error' to 'logloss'. Explicitly set eval_metric if you'd like to restore the old behavior.\n",
      "[CV]  use_label_encoder=False, n_estimators=400, max_depth=75, learning_rate=0.36, total=  23.4s\n",
      "[CV] use_label_encoder=False, n_estimators=400, max_depth=75, learning_rate=0.36 \n",
      "[20:50:24] WARNING: C:/Users/Administrator/workspace/xgboost-win64_release_1.3.0/src/learner.cc:1061: Starting in XGBoost 1.3.0, the default evaluation metric used with the objective 'binary:logistic' was changed from 'error' to 'logloss'. Explicitly set eval_metric if you'd like to restore the old behavior.\n",
      "[CV]  use_label_encoder=False, n_estimators=400, max_depth=75, learning_rate=0.36, total=  21.0s\n",
      "[CV] use_label_encoder=False, n_estimators=400, max_depth=75, learning_rate=0.36 \n",
      "[20:50:45] WARNING: C:/Users/Administrator/workspace/xgboost-win64_release_1.3.0/src/learner.cc:1061: Starting in XGBoost 1.3.0, the default evaluation metric used with the objective 'binary:logistic' was changed from 'error' to 'logloss'. Explicitly set eval_metric if you'd like to restore the old behavior.\n",
      "[CV]  use_label_encoder=False, n_estimators=400, max_depth=75, learning_rate=0.36, total=  20.3s\n",
      "[CV] use_label_encoder=False, n_estimators=400, max_depth=75, learning_rate=0.36 \n",
      "[20:51:05] WARNING: C:/Users/Administrator/workspace/xgboost-win64_release_1.3.0/src/learner.cc:1061: Starting in XGBoost 1.3.0, the default evaluation metric used with the objective 'binary:logistic' was changed from 'error' to 'logloss'. Explicitly set eval_metric if you'd like to restore the old behavior.\n",
      "[CV]  use_label_encoder=False, n_estimators=400, max_depth=75, learning_rate=0.36, total=  19.4s\n",
      "[CV] use_label_encoder=False, n_estimators=400, max_depth=75, learning_rate=0.36 \n",
      "[20:51:24] WARNING: C:/Users/Administrator/workspace/xgboost-win64_release_1.3.0/src/learner.cc:1061: Starting in XGBoost 1.3.0, the default evaluation metric used with the objective 'binary:logistic' was changed from 'error' to 'logloss'. Explicitly set eval_metric if you'd like to restore the old behavior.\n",
      "[CV]  use_label_encoder=False, n_estimators=400, max_depth=75, learning_rate=0.36, total=  17.3s\n",
      "[CV] use_label_encoder=False, n_estimators=400, max_depth=75, learning_rate=0.36 \n",
      "[20:51:42] WARNING: C:/Users/Administrator/workspace/xgboost-win64_release_1.3.0/src/learner.cc:1061: Starting in XGBoost 1.3.0, the default evaluation metric used with the objective 'binary:logistic' was changed from 'error' to 'logloss'. Explicitly set eval_metric if you'd like to restore the old behavior.\n",
      "[CV]  use_label_encoder=False, n_estimators=400, max_depth=75, learning_rate=0.36, total=  22.1s\n",
      "[CV] use_label_encoder=False, n_estimators=400, max_depth=75, learning_rate=0.36 \n",
      "[20:52:05] WARNING: C:/Users/Administrator/workspace/xgboost-win64_release_1.3.0/src/learner.cc:1061: Starting in XGBoost 1.3.0, the default evaluation metric used with the objective 'binary:logistic' was changed from 'error' to 'logloss'. Explicitly set eval_metric if you'd like to restore the old behavior.\n",
      "[CV]  use_label_encoder=False, n_estimators=400, max_depth=75, learning_rate=0.36, total=  21.7s\n",
      "[CV] use_label_encoder=False, n_estimators=400, max_depth=75, learning_rate=0.36 \n",
      "[20:52:26] WARNING: C:/Users/Administrator/workspace/xgboost-win64_release_1.3.0/src/learner.cc:1061: Starting in XGBoost 1.3.0, the default evaluation metric used with the objective 'binary:logistic' was changed from 'error' to 'logloss'. Explicitly set eval_metric if you'd like to restore the old behavior.\n",
      "[CV]  use_label_encoder=False, n_estimators=400, max_depth=75, learning_rate=0.36, total=  22.9s\n",
      "[CV] use_label_encoder=False, n_estimators=400, max_depth=75, learning_rate=0.36 \n",
      "[20:52:49] WARNING: C:/Users/Administrator/workspace/xgboost-win64_release_1.3.0/src/learner.cc:1061: Starting in XGBoost 1.3.0, the default evaluation metric used with the objective 'binary:logistic' was changed from 'error' to 'logloss'. Explicitly set eval_metric if you'd like to restore the old behavior.\n"
     ]
    },
    {
     "name": "stdout",
     "output_type": "stream",
     "text": [
      "[CV]  use_label_encoder=False, n_estimators=400, max_depth=75, learning_rate=0.36, total=  21.3s\n",
      "[CV] use_label_encoder=True, n_estimators=150, max_depth=45, learning_rate=0.449 \n",
      "[20:53:10] WARNING: C:/Users/Administrator/workspace/xgboost-win64_release_1.3.0/src/learner.cc:1061: Starting in XGBoost 1.3.0, the default evaluation metric used with the objective 'binary:logistic' was changed from 'error' to 'logloss'. Explicitly set eval_metric if you'd like to restore the old behavior.\n",
      "[CV]  use_label_encoder=True, n_estimators=150, max_depth=45, learning_rate=0.449, total=  10.2s\n",
      "[CV] use_label_encoder=True, n_estimators=150, max_depth=45, learning_rate=0.449 \n",
      "[20:53:20] WARNING: C:/Users/Administrator/workspace/xgboost-win64_release_1.3.0/src/learner.cc:1061: Starting in XGBoost 1.3.0, the default evaluation metric used with the objective 'binary:logistic' was changed from 'error' to 'logloss'. Explicitly set eval_metric if you'd like to restore the old behavior.\n",
      "[CV]  use_label_encoder=True, n_estimators=150, max_depth=45, learning_rate=0.449, total=  10.4s\n",
      "[CV] use_label_encoder=True, n_estimators=150, max_depth=45, learning_rate=0.449 \n",
      "[20:53:31] WARNING: C:/Users/Administrator/workspace/xgboost-win64_release_1.3.0/src/learner.cc:1061: Starting in XGBoost 1.3.0, the default evaluation metric used with the objective 'binary:logistic' was changed from 'error' to 'logloss'. Explicitly set eval_metric if you'd like to restore the old behavior.\n",
      "[CV]  use_label_encoder=True, n_estimators=150, max_depth=45, learning_rate=0.449, total=   9.8s\n",
      "[CV] use_label_encoder=True, n_estimators=150, max_depth=45, learning_rate=0.449 \n",
      "[20:53:40] WARNING: C:/Users/Administrator/workspace/xgboost-win64_release_1.3.0/src/learner.cc:1061: Starting in XGBoost 1.3.0, the default evaluation metric used with the objective 'binary:logistic' was changed from 'error' to 'logloss'. Explicitly set eval_metric if you'd like to restore the old behavior.\n",
      "[CV]  use_label_encoder=True, n_estimators=150, max_depth=45, learning_rate=0.449, total=  12.0s\n",
      "[CV] use_label_encoder=True, n_estimators=150, max_depth=45, learning_rate=0.449 \n",
      "[20:53:52] WARNING: C:/Users/Administrator/workspace/xgboost-win64_release_1.3.0/src/learner.cc:1061: Starting in XGBoost 1.3.0, the default evaluation metric used with the objective 'binary:logistic' was changed from 'error' to 'logloss'. Explicitly set eval_metric if you'd like to restore the old behavior.\n",
      "[CV]  use_label_encoder=True, n_estimators=150, max_depth=45, learning_rate=0.449, total=  10.8s\n",
      "[CV] use_label_encoder=True, n_estimators=150, max_depth=45, learning_rate=0.449 \n",
      "[20:54:03] WARNING: C:/Users/Administrator/workspace/xgboost-win64_release_1.3.0/src/learner.cc:1061: Starting in XGBoost 1.3.0, the default evaluation metric used with the objective 'binary:logistic' was changed from 'error' to 'logloss'. Explicitly set eval_metric if you'd like to restore the old behavior.\n",
      "[CV]  use_label_encoder=True, n_estimators=150, max_depth=45, learning_rate=0.449, total=   7.1s\n",
      "[CV] use_label_encoder=True, n_estimators=150, max_depth=45, learning_rate=0.449 \n",
      "[20:54:10] WARNING: C:/Users/Administrator/workspace/xgboost-win64_release_1.3.0/src/learner.cc:1061: Starting in XGBoost 1.3.0, the default evaluation metric used with the objective 'binary:logistic' was changed from 'error' to 'logloss'. Explicitly set eval_metric if you'd like to restore the old behavior.\n",
      "[CV]  use_label_encoder=True, n_estimators=150, max_depth=45, learning_rate=0.449, total=   7.3s\n",
      "[CV] use_label_encoder=True, n_estimators=150, max_depth=45, learning_rate=0.449 \n",
      "[20:54:18] WARNING: C:/Users/Administrator/workspace/xgboost-win64_release_1.3.0/src/learner.cc:1061: Starting in XGBoost 1.3.0, the default evaluation metric used with the objective 'binary:logistic' was changed from 'error' to 'logloss'. Explicitly set eval_metric if you'd like to restore the old behavior.\n",
      "[CV]  use_label_encoder=True, n_estimators=150, max_depth=45, learning_rate=0.449, total=  10.5s\n",
      "[CV] use_label_encoder=True, n_estimators=150, max_depth=45, learning_rate=0.449 \n",
      "[20:54:28] WARNING: C:/Users/Administrator/workspace/xgboost-win64_release_1.3.0/src/learner.cc:1061: Starting in XGBoost 1.3.0, the default evaluation metric used with the objective 'binary:logistic' was changed from 'error' to 'logloss'. Explicitly set eval_metric if you'd like to restore the old behavior.\n",
      "[CV]  use_label_encoder=True, n_estimators=150, max_depth=45, learning_rate=0.449, total=   7.9s\n",
      "[CV] use_label_encoder=True, n_estimators=150, max_depth=45, learning_rate=0.449 \n",
      "[20:54:36] WARNING: C:/Users/Administrator/workspace/xgboost-win64_release_1.3.0/src/learner.cc:1061: Starting in XGBoost 1.3.0, the default evaluation metric used with the objective 'binary:logistic' was changed from 'error' to 'logloss'. Explicitly set eval_metric if you'd like to restore the old behavior.\n",
      "[CV]  use_label_encoder=True, n_estimators=150, max_depth=45, learning_rate=0.449, total=  13.5s\n",
      "[CV] use_label_encoder=True, n_estimators=950, max_depth=35, learning_rate=0.375 \n",
      "[20:54:49] WARNING: C:/Users/Administrator/workspace/xgboost-win64_release_1.3.0/src/learner.cc:1061: Starting in XGBoost 1.3.0, the default evaluation metric used with the objective 'binary:logistic' was changed from 'error' to 'logloss'. Explicitly set eval_metric if you'd like to restore the old behavior.\n",
      "[CV]  use_label_encoder=True, n_estimators=950, max_depth=35, learning_rate=0.375, total=  39.1s\n",
      "[CV] use_label_encoder=True, n_estimators=950, max_depth=35, learning_rate=0.375 \n",
      "[20:55:29] WARNING: C:/Users/Administrator/workspace/xgboost-win64_release_1.3.0/src/learner.cc:1061: Starting in XGBoost 1.3.0, the default evaluation metric used with the objective 'binary:logistic' was changed from 'error' to 'logloss'. Explicitly set eval_metric if you'd like to restore the old behavior.\n",
      "[CV]  use_label_encoder=True, n_estimators=950, max_depth=35, learning_rate=0.375, total=  29.4s\n",
      "[CV] use_label_encoder=True, n_estimators=950, max_depth=35, learning_rate=0.375 \n",
      "[20:55:58] WARNING: C:/Users/Administrator/workspace/xgboost-win64_release_1.3.0/src/learner.cc:1061: Starting in XGBoost 1.3.0, the default evaluation metric used with the objective 'binary:logistic' was changed from 'error' to 'logloss'. Explicitly set eval_metric if you'd like to restore the old behavior.\n",
      "[CV]  use_label_encoder=True, n_estimators=950, max_depth=35, learning_rate=0.375, total=  34.2s\n",
      "[CV] use_label_encoder=True, n_estimators=950, max_depth=35, learning_rate=0.375 \n",
      "[20:56:32] WARNING: C:/Users/Administrator/workspace/xgboost-win64_release_1.3.0/src/learner.cc:1061: Starting in XGBoost 1.3.0, the default evaluation metric used with the objective 'binary:logistic' was changed from 'error' to 'logloss'. Explicitly set eval_metric if you'd like to restore the old behavior.\n",
      "[CV]  use_label_encoder=True, n_estimators=950, max_depth=35, learning_rate=0.375, total=  29.4s\n",
      "[CV] use_label_encoder=True, n_estimators=950, max_depth=35, learning_rate=0.375 \n",
      "[20:57:02] WARNING: C:/Users/Administrator/workspace/xgboost-win64_release_1.3.0/src/learner.cc:1061: Starting in XGBoost 1.3.0, the default evaluation metric used with the objective 'binary:logistic' was changed from 'error' to 'logloss'. Explicitly set eval_metric if you'd like to restore the old behavior.\n",
      "[CV]  use_label_encoder=True, n_estimators=950, max_depth=35, learning_rate=0.375, total=  34.7s\n",
      "[CV] use_label_encoder=True, n_estimators=950, max_depth=35, learning_rate=0.375 \n",
      "[20:57:36] WARNING: C:/Users/Administrator/workspace/xgboost-win64_release_1.3.0/src/learner.cc:1061: Starting in XGBoost 1.3.0, the default evaluation metric used with the objective 'binary:logistic' was changed from 'error' to 'logloss'. Explicitly set eval_metric if you'd like to restore the old behavior.\n",
      "[CV]  use_label_encoder=True, n_estimators=950, max_depth=35, learning_rate=0.375, total=  33.1s\n",
      "[CV] use_label_encoder=True, n_estimators=950, max_depth=35, learning_rate=0.375 \n",
      "[20:58:09] WARNING: C:/Users/Administrator/workspace/xgboost-win64_release_1.3.0/src/learner.cc:1061: Starting in XGBoost 1.3.0, the default evaluation metric used with the objective 'binary:logistic' was changed from 'error' to 'logloss'. Explicitly set eval_metric if you'd like to restore the old behavior.\n"
     ]
    },
    {
     "name": "stdout",
     "output_type": "stream",
     "text": [
      "[CV]  use_label_encoder=True, n_estimators=950, max_depth=35, learning_rate=0.375, total=  30.1s\n",
      "[CV] use_label_encoder=True, n_estimators=950, max_depth=35, learning_rate=0.375 \n",
      "[20:58:40] WARNING: C:/Users/Administrator/workspace/xgboost-win64_release_1.3.0/src/learner.cc:1061: Starting in XGBoost 1.3.0, the default evaluation metric used with the objective 'binary:logistic' was changed from 'error' to 'logloss'. Explicitly set eval_metric if you'd like to restore the old behavior.\n",
      "[CV]  use_label_encoder=True, n_estimators=950, max_depth=35, learning_rate=0.375, total=  31.5s\n",
      "[CV] use_label_encoder=True, n_estimators=950, max_depth=35, learning_rate=0.375 \n",
      "[20:59:11] WARNING: C:/Users/Administrator/workspace/xgboost-win64_release_1.3.0/src/learner.cc:1061: Starting in XGBoost 1.3.0, the default evaluation metric used with the objective 'binary:logistic' was changed from 'error' to 'logloss'. Explicitly set eval_metric if you'd like to restore the old behavior.\n",
      "[CV]  use_label_encoder=True, n_estimators=950, max_depth=35, learning_rate=0.375, total=  32.5s\n",
      "[CV] use_label_encoder=True, n_estimators=950, max_depth=35, learning_rate=0.375 \n",
      "[20:59:44] WARNING: C:/Users/Administrator/workspace/xgboost-win64_release_1.3.0/src/learner.cc:1061: Starting in XGBoost 1.3.0, the default evaluation metric used with the objective 'binary:logistic' was changed from 'error' to 'logloss'. Explicitly set eval_metric if you'd like to restore the old behavior.\n",
      "[CV]  use_label_encoder=True, n_estimators=950, max_depth=35, learning_rate=0.375, total=  31.4s\n",
      "[CV] use_label_encoder=True, n_estimators=750, max_depth=75, learning_rate=0.1 \n",
      "[21:00:15] WARNING: C:/Users/Administrator/workspace/xgboost-win64_release_1.3.0/src/learner.cc:1061: Starting in XGBoost 1.3.0, the default evaluation metric used with the objective 'binary:logistic' was changed from 'error' to 'logloss'. Explicitly set eval_metric if you'd like to restore the old behavior.\n",
      "[CV]  use_label_encoder=True, n_estimators=750, max_depth=75, learning_rate=0.1, total= 1.0min\n",
      "[CV] use_label_encoder=True, n_estimators=750, max_depth=75, learning_rate=0.1 \n",
      "[21:01:15] WARNING: C:/Users/Administrator/workspace/xgboost-win64_release_1.3.0/src/learner.cc:1061: Starting in XGBoost 1.3.0, the default evaluation metric used with the objective 'binary:logistic' was changed from 'error' to 'logloss'. Explicitly set eval_metric if you'd like to restore the old behavior.\n",
      "[CV]  use_label_encoder=True, n_estimators=750, max_depth=75, learning_rate=0.1, total= 1.1min\n",
      "[CV] use_label_encoder=True, n_estimators=750, max_depth=75, learning_rate=0.1 \n",
      "[21:02:23] WARNING: C:/Users/Administrator/workspace/xgboost-win64_release_1.3.0/src/learner.cc:1061: Starting in XGBoost 1.3.0, the default evaluation metric used with the objective 'binary:logistic' was changed from 'error' to 'logloss'. Explicitly set eval_metric if you'd like to restore the old behavior.\n",
      "[CV]  use_label_encoder=True, n_estimators=750, max_depth=75, learning_rate=0.1, total=  57.0s\n",
      "[CV] use_label_encoder=True, n_estimators=750, max_depth=75, learning_rate=0.1 \n",
      "[21:03:20] WARNING: C:/Users/Administrator/workspace/xgboost-win64_release_1.3.0/src/learner.cc:1061: Starting in XGBoost 1.3.0, the default evaluation metric used with the objective 'binary:logistic' was changed from 'error' to 'logloss'. Explicitly set eval_metric if you'd like to restore the old behavior.\n",
      "[CV]  use_label_encoder=True, n_estimators=750, max_depth=75, learning_rate=0.1, total= 1.0min\n",
      "[CV] use_label_encoder=True, n_estimators=750, max_depth=75, learning_rate=0.1 \n",
      "[21:04:22] WARNING: C:/Users/Administrator/workspace/xgboost-win64_release_1.3.0/src/learner.cc:1061: Starting in XGBoost 1.3.0, the default evaluation metric used with the objective 'binary:logistic' was changed from 'error' to 'logloss'. Explicitly set eval_metric if you'd like to restore the old behavior.\n",
      "[CV]  use_label_encoder=True, n_estimators=750, max_depth=75, learning_rate=0.1, total= 1.3min\n",
      "[CV] use_label_encoder=True, n_estimators=750, max_depth=75, learning_rate=0.1 \n",
      "[21:05:41] WARNING: C:/Users/Administrator/workspace/xgboost-win64_release_1.3.0/src/learner.cc:1061: Starting in XGBoost 1.3.0, the default evaluation metric used with the objective 'binary:logistic' was changed from 'error' to 'logloss'. Explicitly set eval_metric if you'd like to restore the old behavior.\n",
      "[CV]  use_label_encoder=True, n_estimators=750, max_depth=75, learning_rate=0.1, total=  45.8s\n",
      "[CV] use_label_encoder=True, n_estimators=750, max_depth=75, learning_rate=0.1 \n",
      "[21:06:27] WARNING: C:/Users/Administrator/workspace/xgboost-win64_release_1.3.0/src/learner.cc:1061: Starting in XGBoost 1.3.0, the default evaluation metric used with the objective 'binary:logistic' was changed from 'error' to 'logloss'. Explicitly set eval_metric if you'd like to restore the old behavior.\n",
      "[CV]  use_label_encoder=True, n_estimators=750, max_depth=75, learning_rate=0.1, total= 1.3min\n",
      "[CV] use_label_encoder=True, n_estimators=750, max_depth=75, learning_rate=0.1 \n",
      "[21:07:43] WARNING: C:/Users/Administrator/workspace/xgboost-win64_release_1.3.0/src/learner.cc:1061: Starting in XGBoost 1.3.0, the default evaluation metric used with the objective 'binary:logistic' was changed from 'error' to 'logloss'. Explicitly set eval_metric if you'd like to restore the old behavior.\n",
      "[CV]  use_label_encoder=True, n_estimators=750, max_depth=75, learning_rate=0.1, total=  50.0s\n",
      "[CV] use_label_encoder=True, n_estimators=750, max_depth=75, learning_rate=0.1 \n",
      "[21:08:33] WARNING: C:/Users/Administrator/workspace/xgboost-win64_release_1.3.0/src/learner.cc:1061: Starting in XGBoost 1.3.0, the default evaluation metric used with the objective 'binary:logistic' was changed from 'error' to 'logloss'. Explicitly set eval_metric if you'd like to restore the old behavior.\n",
      "[CV]  use_label_encoder=True, n_estimators=750, max_depth=75, learning_rate=0.1, total=  52.3s\n",
      "[CV] use_label_encoder=True, n_estimators=750, max_depth=75, learning_rate=0.1 \n",
      "[21:09:25] WARNING: C:/Users/Administrator/workspace/xgboost-win64_release_1.3.0/src/learner.cc:1061: Starting in XGBoost 1.3.0, the default evaluation metric used with the objective 'binary:logistic' was changed from 'error' to 'logloss'. Explicitly set eval_metric if you'd like to restore the old behavior.\n",
      "[CV]  use_label_encoder=True, n_estimators=750, max_depth=75, learning_rate=0.1, total=  50.5s\n",
      "[21:10:16] WARNING: C:/Users/Administrator/workspace/xgboost-win64_release_1.3.0/src/learner.cc:1061: Starting in XGBoost 1.3.0, the default evaluation metric used with the objective 'binary:logistic' was changed from 'error' to 'logloss'. Explicitly set eval_metric if you'd like to restore the old behavior.\n"
     ]
    },
    {
     "name": "stderr",
     "output_type": "stream",
     "text": [
      "[Parallel(n_jobs=1)]: Done 100 out of 100 | elapsed: 32.7min finished\n"
     ]
    },
    {
     "data": {
      "text/plain": [
       "{'use_label_encoder': True,\n",
       " 'n_estimators': 750,\n",
       " 'max_depth': 75,\n",
       " 'learning_rate': 0.1}"
      ]
     },
     "execution_count": 65,
     "metadata": {},
     "output_type": "execute_result"
    }
   ],
   "source": [
    "xgbc = XGBClassifier()\n",
    "possible_parameter_values = {'n_estimators' : [int(x) for x in np.arange(start = 50, stop = 1001, step = 50)], \n",
    "                             'use_label_encoder' : [True, False], \n",
    "                             'max_depth' : [int(x) for x in np.arange(start = 5, stop = 101, step = 5)], \n",
    "                             'learning_rate' : [float(x)/1000 for x in np.arange(start = 1, stop = 1001, step = 1)]}\n",
    "xgbc_rscv = RandomizedSearchCV(estimator = xgbc, param_distributions = possible_parameter_values, cv = 10, scoring = 'accuracy', verbose = 2, random_state = 17, n_jobs = 1)\n",
    "xgbc_rscv.fit(X_train, y_train)\n",
    "xgbc_rscv.best_params_"
   ]
  },
  {
   "cell_type": "code",
   "execution_count": 66,
   "metadata": {},
   "outputs": [],
   "source": [
    "y_train_pred_xgbc = xgbc_rscv.predict(X_train)\n",
    "y_val_pred_xgbc = xgbc_rscv.predict(X_val)"
   ]
  },
  {
   "cell_type": "code",
   "execution_count": 67,
   "metadata": {},
   "outputs": [
    {
     "name": "stdout",
     "output_type": "stream",
     "text": [
      "Train accuracy:  1.0\n",
      "Validation accuracy:  0.9012085171686169\n",
      "Train f1_score:  1.0\n",
      "Validation f1_score:  0.7541766109785204\n"
     ]
    }
   ],
   "source": [
    "print('Train accuracy: ', accuracy_score(y_train, y_train_pred_xgbc))\n",
    "print('Validation accuracy: ', accuracy_score(y_val, y_val_pred_xgbc))\n",
    "print('Train f1_score: ', f1_score(y_train, y_train_pred_xgbc))\n",
    "print('Validation f1_score: ', f1_score(y_val, y_val_pred_xgbc))"
   ]
  },
  {
   "cell_type": "markdown",
   "metadata": {},
   "source": [
    "### Evaluating the Consistency of the Model with LogisticRegression()"
   ]
  },
  {
   "cell_type": "code",
   "execution_count": 69,
   "metadata": {},
   "outputs": [
    {
     "data": {
      "text/html": [
       "<div>\n",
       "<style scoped>\n",
       "    .dataframe tbody tr th:only-of-type {\n",
       "        vertical-align: middle;\n",
       "    }\n",
       "\n",
       "    .dataframe tbody tr th {\n",
       "        vertical-align: top;\n",
       "    }\n",
       "\n",
       "    .dataframe thead th {\n",
       "        text-align: right;\n",
       "    }\n",
       "</style>\n",
       "<table border=\"1\" class=\"dataframe\">\n",
       "  <thead>\n",
       "    <tr style=\"text-align: right;\">\n",
       "      <th></th>\n",
       "      <th>Train Accuracy</th>\n",
       "      <th>Validation Accuracy</th>\n",
       "      <th>Train f1</th>\n",
       "      <th>Validation f1</th>\n",
       "      <th>Difference(Accuracy)</th>\n",
       "      <th>Difference(f1)</th>\n",
       "    </tr>\n",
       "  </thead>\n",
       "  <tbody>\n",
       "    <tr>\n",
       "      <th>0</th>\n",
       "      <td>0.805813</td>\n",
       "      <td>0.808172</td>\n",
       "      <td>0.281200</td>\n",
       "      <td>0.291785</td>\n",
       "      <td>0.292774</td>\n",
       "      <td>3.764093</td>\n",
       "    </tr>\n",
       "    <tr>\n",
       "      <th>1</th>\n",
       "      <td>0.807614</td>\n",
       "      <td>0.795493</td>\n",
       "      <td>0.272501</td>\n",
       "      <td>0.287385</td>\n",
       "      <td>1.500868</td>\n",
       "      <td>5.462213</td>\n",
       "    </tr>\n",
       "    <tr>\n",
       "      <th>2</th>\n",
       "      <td>0.807029</td>\n",
       "      <td>0.804856</td>\n",
       "      <td>0.263233</td>\n",
       "      <td>0.254296</td>\n",
       "      <td>0.269291</td>\n",
       "      <td>3.395338</td>\n",
       "    </tr>\n",
       "    <tr>\n",
       "      <th>3</th>\n",
       "      <td>0.804871</td>\n",
       "      <td>0.822780</td>\n",
       "      <td>0.275982</td>\n",
       "      <td>0.301329</td>\n",
       "      <td>2.225061</td>\n",
       "      <td>9.184467</td>\n",
       "    </tr>\n",
       "    <tr>\n",
       "      <th>4</th>\n",
       "      <td>0.800703</td>\n",
       "      <td>0.824356</td>\n",
       "      <td>0.266379</td>\n",
       "      <td>0.311927</td>\n",
       "      <td>2.954080</td>\n",
       "      <td>17.098661</td>\n",
       "    </tr>\n",
       "    <tr>\n",
       "      <th>5</th>\n",
       "      <td>0.805328</td>\n",
       "      <td>0.802693</td>\n",
       "      <td>0.310881</td>\n",
       "      <td>0.290526</td>\n",
       "      <td>0.327154</td>\n",
       "      <td>6.547368</td>\n",
       "    </tr>\n",
       "    <tr>\n",
       "      <th>6</th>\n",
       "      <td>0.805855</td>\n",
       "      <td>0.806876</td>\n",
       "      <td>0.324634</td>\n",
       "      <td>0.326531</td>\n",
       "      <td>0.126689</td>\n",
       "      <td>0.584234</td>\n",
       "    </tr>\n",
       "    <tr>\n",
       "      <th>7</th>\n",
       "      <td>0.806038</td>\n",
       "      <td>0.817017</td>\n",
       "      <td>0.335423</td>\n",
       "      <td>0.358974</td>\n",
       "      <td>1.362089</td>\n",
       "      <td>7.021328</td>\n",
       "    </tr>\n",
       "    <tr>\n",
       "      <th>8</th>\n",
       "      <td>0.808407</td>\n",
       "      <td>0.796571</td>\n",
       "      <td>0.344423</td>\n",
       "      <td>0.315385</td>\n",
       "      <td>1.464086</td>\n",
       "      <td>8.430944</td>\n",
       "    </tr>\n",
       "    <tr>\n",
       "      <th>9</th>\n",
       "      <td>0.809439</td>\n",
       "      <td>0.805714</td>\n",
       "      <td>0.346012</td>\n",
       "      <td>0.352381</td>\n",
       "      <td>0.460121</td>\n",
       "      <td>1.840594</td>\n",
       "    </tr>\n",
       "  </tbody>\n",
       "</table>\n",
       "</div>"
      ],
      "text/plain": [
       "   Train Accuracy  Validation Accuracy  Train f1  Validation f1  \\\n",
       "0        0.805813             0.808172  0.281200       0.291785   \n",
       "1        0.807614             0.795493  0.272501       0.287385   \n",
       "2        0.807029             0.804856  0.263233       0.254296   \n",
       "3        0.804871             0.822780  0.275982       0.301329   \n",
       "4        0.800703             0.824356  0.266379       0.311927   \n",
       "5        0.805328             0.802693  0.310881       0.290526   \n",
       "6        0.805855             0.806876  0.324634       0.326531   \n",
       "7        0.806038             0.817017  0.335423       0.358974   \n",
       "8        0.808407             0.796571  0.344423       0.315385   \n",
       "9        0.809439             0.805714  0.346012       0.352381   \n",
       "\n",
       "   Difference(Accuracy)  Difference(f1)  \n",
       "0              0.292774        3.764093  \n",
       "1              1.500868        5.462213  \n",
       "2              0.269291        3.395338  \n",
       "3              2.225061        9.184467  \n",
       "4              2.954080       17.098661  \n",
       "5              0.327154        6.547368  \n",
       "6              0.126689        0.584234  \n",
       "7              1.362089        7.021328  \n",
       "8              1.464086        8.430944  \n",
       "9              0.460121        1.840594  "
      ]
     },
     "execution_count": 69,
     "metadata": {},
     "output_type": "execute_result"
    }
   ],
   "source": [
    "X = df[selected_features]\n",
    "y = df['loan_status']\n",
    "X_train, X_test, y_train, y_test = train_test_split(X, y, test_size = 0.2, random_state = 17)\n",
    "accuracy_train = []\n",
    "accuracy_val = []\n",
    "f1_train = []\n",
    "f1_val = []\n",
    "for i in range(0,10):\n",
    "    rs = random.randint(0, 100)\n",
    "    X_train, X_val, y_train, y_val = train_test_split(X_train, y_train, test_size = 0.2, random_state = rs)\n",
    "    test_model_lr = LogisticRegression()\n",
    "    test_model_lr.fit(X_train, y_train)\n",
    "    y_train_pred_tlr = test_model_lr.predict(X_train)\n",
    "    y_val_pred_tlr = test_model_lr.predict(X_val)\n",
    "    accuracy_train.append(accuracy_score(y_train, y_train_pred_tlr))\n",
    "    accuracy_val.append(accuracy_score(y_val, y_val_pred_tlr))\n",
    "    f1_train.append(f1_score(y_train, y_train_pred_tlr))\n",
    "    f1_val.append(f1_score(y_val, y_val_pred_tlr))\n",
    "data = {'Train Accuracy' : accuracy_train, 'Validation Accuracy' : accuracy_val, 'Train f1' : f1_train, 'Validation f1' : f1_val}\n",
    "data = pd.DataFrame(data)\n",
    "data['Difference(Accuracy)'] = ((np.abs(data['Train Accuracy'] - data['Validation Accuracy'])) * 100)/(data['Train Accuracy'])\n",
    "data['Difference(f1)'] = ((np.abs(data['Train f1'] - data['Validation f1'])) * 100)/(data['Train f1'])\n",
    "data"
   ]
  },
  {
   "cell_type": "markdown",
   "metadata": {},
   "source": [
    "### Evaluating the Consistency of the Model with DecisionTreeClassifier()"
   ]
  },
  {
   "cell_type": "code",
   "execution_count": 70,
   "metadata": {},
   "outputs": [
    {
     "data": {
      "text/html": [
       "<div>\n",
       "<style scoped>\n",
       "    .dataframe tbody tr th:only-of-type {\n",
       "        vertical-align: middle;\n",
       "    }\n",
       "\n",
       "    .dataframe tbody tr th {\n",
       "        vertical-align: top;\n",
       "    }\n",
       "\n",
       "    .dataframe thead th {\n",
       "        text-align: right;\n",
       "    }\n",
       "</style>\n",
       "<table border=\"1\" class=\"dataframe\">\n",
       "  <thead>\n",
       "    <tr style=\"text-align: right;\">\n",
       "      <th></th>\n",
       "      <th>Train Accuracy</th>\n",
       "      <th>Validation Accuracy</th>\n",
       "      <th>Train f1</th>\n",
       "      <th>Validation f1</th>\n",
       "      <th>Difference(Accuracy)</th>\n",
       "      <th>Difference(f1)</th>\n",
       "    </tr>\n",
       "  </thead>\n",
       "  <tbody>\n",
       "    <tr>\n",
       "      <th>0</th>\n",
       "      <td>0.889262</td>\n",
       "      <td>0.887781</td>\n",
       "      <td>0.690938</td>\n",
       "      <td>0.690967</td>\n",
       "      <td>0.166583</td>\n",
       "      <td>0.004114</td>\n",
       "    </tr>\n",
       "    <tr>\n",
       "      <th>1</th>\n",
       "      <td>0.884412</td>\n",
       "      <td>0.880844</td>\n",
       "      <td>0.683415</td>\n",
       "      <td>0.689956</td>\n",
       "      <td>0.403494</td>\n",
       "      <td>0.957089</td>\n",
       "    </tr>\n",
       "    <tr>\n",
       "      <th>2</th>\n",
       "      <td>0.883318</td>\n",
       "      <td>0.883993</td>\n",
       "      <td>0.678770</td>\n",
       "      <td>0.673968</td>\n",
       "      <td>0.076355</td>\n",
       "      <td>0.707513</td>\n",
       "    </tr>\n",
       "    <tr>\n",
       "      <th>3</th>\n",
       "      <td>0.884684</td>\n",
       "      <td>0.877108</td>\n",
       "      <td>0.684763</td>\n",
       "      <td>0.684008</td>\n",
       "      <td>0.856386</td>\n",
       "      <td>0.110318</td>\n",
       "    </tr>\n",
       "    <tr>\n",
       "      <th>4</th>\n",
       "      <td>0.884309</td>\n",
       "      <td>0.884778</td>\n",
       "      <td>0.673496</td>\n",
       "      <td>0.663934</td>\n",
       "      <td>0.052966</td>\n",
       "      <td>1.419746</td>\n",
       "    </tr>\n",
       "    <tr>\n",
       "      <th>5</th>\n",
       "      <td>0.879537</td>\n",
       "      <td>0.863583</td>\n",
       "      <td>0.654927</td>\n",
       "      <td>0.597582</td>\n",
       "      <td>1.813946</td>\n",
       "      <td>8.755880</td>\n",
       "    </tr>\n",
       "    <tr>\n",
       "      <th>6</th>\n",
       "      <td>0.880878</td>\n",
       "      <td>0.875640</td>\n",
       "      <td>0.656101</td>\n",
       "      <td>0.591346</td>\n",
       "      <td>0.594660</td>\n",
       "      <td>9.869705</td>\n",
       "    </tr>\n",
       "    <tr>\n",
       "      <th>7</th>\n",
       "      <td>0.875801</td>\n",
       "      <td>0.870082</td>\n",
       "      <td>0.675821</td>\n",
       "      <td>0.674312</td>\n",
       "      <td>0.652912</td>\n",
       "      <td>0.223279</td>\n",
       "    </tr>\n",
       "    <tr>\n",
       "      <th>8</th>\n",
       "      <td>0.871890</td>\n",
       "      <td>0.884571</td>\n",
       "      <td>0.643312</td>\n",
       "      <td>0.657627</td>\n",
       "      <td>1.454453</td>\n",
       "      <td>2.225206</td>\n",
       "    </tr>\n",
       "    <tr>\n",
       "      <th>9</th>\n",
       "      <td>0.870576</td>\n",
       "      <td>0.885714</td>\n",
       "      <td>0.639442</td>\n",
       "      <td>0.696970</td>\n",
       "      <td>1.738926</td>\n",
       "      <td>8.996507</td>\n",
       "    </tr>\n",
       "  </tbody>\n",
       "</table>\n",
       "</div>"
      ],
      "text/plain": [
       "   Train Accuracy  Validation Accuracy  Train f1  Validation f1  \\\n",
       "0        0.889262             0.887781  0.690938       0.690967   \n",
       "1        0.884412             0.880844  0.683415       0.689956   \n",
       "2        0.883318             0.883993  0.678770       0.673968   \n",
       "3        0.884684             0.877108  0.684763       0.684008   \n",
       "4        0.884309             0.884778  0.673496       0.663934   \n",
       "5        0.879537             0.863583  0.654927       0.597582   \n",
       "6        0.880878             0.875640  0.656101       0.591346   \n",
       "7        0.875801             0.870082  0.675821       0.674312   \n",
       "8        0.871890             0.884571  0.643312       0.657627   \n",
       "9        0.870576             0.885714  0.639442       0.696970   \n",
       "\n",
       "   Difference(Accuracy)  Difference(f1)  \n",
       "0              0.166583        0.004114  \n",
       "1              0.403494        0.957089  \n",
       "2              0.076355        0.707513  \n",
       "3              0.856386        0.110318  \n",
       "4              0.052966        1.419746  \n",
       "5              1.813946        8.755880  \n",
       "6              0.594660        9.869705  \n",
       "7              0.652912        0.223279  \n",
       "8              1.454453        2.225206  \n",
       "9              1.738926        8.996507  "
      ]
     },
     "execution_count": 70,
     "metadata": {},
     "output_type": "execute_result"
    }
   ],
   "source": [
    "X = df[selected_features]\n",
    "y = df['loan_status']\n",
    "X_train, X_test, y_train, y_test = train_test_split(X, y, test_size = 0.2, random_state = 17)\n",
    "accuracy_train = []\n",
    "accuracy_val = []\n",
    "f1_train = []\n",
    "f1_val = []\n",
    "for i in range(0,10):\n",
    "    rs = random.randint(0, 100)\n",
    "    X_train, X_val, y_train, y_val = train_test_split(X_train, y_train, test_size = 0.2, random_state = rs)\n",
    "    test_model_dtc = DecisionTreeClassifier(splitter = 'random', min_samples_split = 29, min_samples_leaf = 38, max_depth = 35, criterion = 'gini')\n",
    "    test_model_dtc.fit(X_train, y_train)\n",
    "    y_train_pred_tdtc = test_model_dtc.predict(X_train)\n",
    "    y_val_pred_tdtc = test_model_dtc.predict(X_val)\n",
    "    accuracy_train.append(accuracy_score(y_train, y_train_pred_tdtc))\n",
    "    accuracy_val.append(accuracy_score(y_val, y_val_pred_tdtc))\n",
    "    f1_train.append(f1_score(y_train, y_train_pred_tdtc))\n",
    "    f1_val.append(f1_score(y_val, y_val_pred_tdtc))\n",
    "data = {'Train Accuracy' : accuracy_train, 'Validation Accuracy' : accuracy_val, 'Train f1' : f1_train, 'Validation f1' : f1_val}\n",
    "data = pd.DataFrame(data)\n",
    "data['Difference(Accuracy)'] = ((np.abs(data['Train Accuracy'] - data['Validation Accuracy'])) * 100)/(data['Train Accuracy'])\n",
    "data['Difference(f1)'] = ((np.abs(data['Train f1'] - data['Validation f1'])) * 100)/(data['Train f1'])\n",
    "data"
   ]
  },
  {
   "cell_type": "markdown",
   "metadata": {},
   "source": [
    "### Evaluating the Consistency of the Model with RandomForestClassifier()"
   ]
  },
  {
   "cell_type": "code",
   "execution_count": 71,
   "metadata": {},
   "outputs": [
    {
     "data": {
      "text/html": [
       "<div>\n",
       "<style scoped>\n",
       "    .dataframe tbody tr th:only-of-type {\n",
       "        vertical-align: middle;\n",
       "    }\n",
       "\n",
       "    .dataframe tbody tr th {\n",
       "        vertical-align: top;\n",
       "    }\n",
       "\n",
       "    .dataframe thead th {\n",
       "        text-align: right;\n",
       "    }\n",
       "</style>\n",
       "<table border=\"1\" class=\"dataframe\">\n",
       "  <thead>\n",
       "    <tr style=\"text-align: right;\">\n",
       "      <th></th>\n",
       "      <th>Train Accuracy</th>\n",
       "      <th>Validation Accuracy</th>\n",
       "      <th>Train f1</th>\n",
       "      <th>Validation f1</th>\n",
       "      <th>Difference(Accuracy)</th>\n",
       "      <th>Difference(f1)</th>\n",
       "    </tr>\n",
       "  </thead>\n",
       "  <tbody>\n",
       "    <tr>\n",
       "      <th>0</th>\n",
       "      <td>0.921443</td>\n",
       "      <td>0.899674</td>\n",
       "      <td>0.785377</td>\n",
       "      <td>0.734113</td>\n",
       "      <td>2.362461</td>\n",
       "      <td>6.527371</td>\n",
       "    </tr>\n",
       "    <tr>\n",
       "      <th>1</th>\n",
       "      <td>0.920264</td>\n",
       "      <td>0.901223</td>\n",
       "      <td>0.783810</td>\n",
       "      <td>0.724230</td>\n",
       "      <td>2.069087</td>\n",
       "      <td>7.601316</td>\n",
       "    </tr>\n",
       "    <tr>\n",
       "      <th>2</th>\n",
       "      <td>0.921987</td>\n",
       "      <td>0.905875</td>\n",
       "      <td>0.791090</td>\n",
       "      <td>0.731624</td>\n",
       "      <td>1.747541</td>\n",
       "      <td>7.516944</td>\n",
       "    </tr>\n",
       "    <tr>\n",
       "      <th>3</th>\n",
       "      <td>0.918970</td>\n",
       "      <td>0.900712</td>\n",
       "      <td>0.784343</td>\n",
       "      <td>0.725957</td>\n",
       "      <td>1.986755</td>\n",
       "      <td>7.443999</td>\n",
       "    </tr>\n",
       "    <tr>\n",
       "      <th>4</th>\n",
       "      <td>0.916511</td>\n",
       "      <td>0.902576</td>\n",
       "      <td>0.777535</td>\n",
       "      <td>0.736709</td>\n",
       "      <td>1.520378</td>\n",
       "      <td>5.250726</td>\n",
       "    </tr>\n",
       "    <tr>\n",
       "      <th>5</th>\n",
       "      <td>0.917008</td>\n",
       "      <td>0.896370</td>\n",
       "      <td>0.775268</td>\n",
       "      <td>0.726430</td>\n",
       "      <td>2.250599</td>\n",
       "      <td>6.299485</td>\n",
       "    </tr>\n",
       "    <tr>\n",
       "      <th>6</th>\n",
       "      <td>0.917475</td>\n",
       "      <td>0.901975</td>\n",
       "      <td>0.780962</td>\n",
       "      <td>0.729839</td>\n",
       "      <td>1.689388</td>\n",
       "      <td>6.546150</td>\n",
       "    </tr>\n",
       "    <tr>\n",
       "      <th>7</th>\n",
       "      <td>0.912397</td>\n",
       "      <td>0.907594</td>\n",
       "      <td>0.769970</td>\n",
       "      <td>0.739018</td>\n",
       "      <td>0.526448</td>\n",
       "      <td>4.019882</td>\n",
       "    </tr>\n",
       "    <tr>\n",
       "      <th>8</th>\n",
       "      <td>0.914498</td>\n",
       "      <td>0.880000</td>\n",
       "      <td>0.773656</td>\n",
       "      <td>0.705882</td>\n",
       "      <td>3.772358</td>\n",
       "      <td>8.760216</td>\n",
       "    </tr>\n",
       "    <tr>\n",
       "      <th>9</th>\n",
       "      <td>0.913479</td>\n",
       "      <td>0.897143</td>\n",
       "      <td>0.771698</td>\n",
       "      <td>0.714286</td>\n",
       "      <td>1.788314</td>\n",
       "      <td>7.439749</td>\n",
       "    </tr>\n",
       "  </tbody>\n",
       "</table>\n",
       "</div>"
      ],
      "text/plain": [
       "   Train Accuracy  Validation Accuracy  Train f1  Validation f1  \\\n",
       "0        0.921443             0.899674  0.785377       0.734113   \n",
       "1        0.920264             0.901223  0.783810       0.724230   \n",
       "2        0.921987             0.905875  0.791090       0.731624   \n",
       "3        0.918970             0.900712  0.784343       0.725957   \n",
       "4        0.916511             0.902576  0.777535       0.736709   \n",
       "5        0.917008             0.896370  0.775268       0.726430   \n",
       "6        0.917475             0.901975  0.780962       0.729839   \n",
       "7        0.912397             0.907594  0.769970       0.739018   \n",
       "8        0.914498             0.880000  0.773656       0.705882   \n",
       "9        0.913479             0.897143  0.771698       0.714286   \n",
       "\n",
       "   Difference(Accuracy)  Difference(f1)  \n",
       "0              2.362461        6.527371  \n",
       "1              2.069087        7.601316  \n",
       "2              1.747541        7.516944  \n",
       "3              1.986755        7.443999  \n",
       "4              1.520378        5.250726  \n",
       "5              2.250599        6.299485  \n",
       "6              1.689388        6.546150  \n",
       "7              0.526448        4.019882  \n",
       "8              3.772358        8.760216  \n",
       "9              1.788314        7.439749  "
      ]
     },
     "execution_count": 71,
     "metadata": {},
     "output_type": "execute_result"
    }
   ],
   "source": [
    "X = df[selected_features]\n",
    "y = df['loan_status']\n",
    "X_train, X_test, y_train, y_test = train_test_split(X, y, test_size = 0.2, random_state = 17)\n",
    "accuracy_train = []\n",
    "accuracy_val = []\n",
    "f1_train = []\n",
    "f1_val = []\n",
    "for i in range(0,10):\n",
    "    rs = random.randint(0, 100)\n",
    "    X_train, X_val, y_train, y_val = train_test_split(X_train, y_train, test_size = 0.2, random_state = rs)\n",
    "    test_model_rfc = RandomForestClassifier(n_estimators = 500, min_samples_split = 26, min_samples_leaf = 5, max_depth = 45, criterion = 'gini')\n",
    "    test_model_rfc.fit(X_train, y_train)\n",
    "    y_train_pred_trfc = test_model_rfc.predict(X_train)\n",
    "    y_val_pred_trfc = test_model_rfc.predict(X_val)\n",
    "    accuracy_train.append(accuracy_score(y_train, y_train_pred_trfc))\n",
    "    accuracy_val.append(accuracy_score(y_val, y_val_pred_trfc))\n",
    "    f1_train.append(f1_score(y_train, y_train_pred_trfc))\n",
    "    f1_val.append(f1_score(y_val, y_val_pred_trfc))\n",
    "data = {'Train Accuracy' : accuracy_train, 'Validation Accuracy' : accuracy_val, 'Train f1' : f1_train, 'Validation f1' : f1_val}\n",
    "data = pd.DataFrame(data)\n",
    "data['Difference(Accuracy)'] = ((np.abs(data['Train Accuracy'] - data['Validation Accuracy'])) * 100)/(data['Train Accuracy'])\n",
    "data['Difference(f1)'] = ((np.abs(data['Train f1'] - data['Validation f1'])) * 100)/(data['Train f1'])\n",
    "data"
   ]
  },
  {
   "cell_type": "markdown",
   "metadata": {},
   "source": [
    "### Evaluating the Consistency of the Model with AdaBoostClassifier()"
   ]
  },
  {
   "cell_type": "code",
   "execution_count": 72,
   "metadata": {},
   "outputs": [
    {
     "data": {
      "text/html": [
       "<div>\n",
       "<style scoped>\n",
       "    .dataframe tbody tr th:only-of-type {\n",
       "        vertical-align: middle;\n",
       "    }\n",
       "\n",
       "    .dataframe tbody tr th {\n",
       "        vertical-align: top;\n",
       "    }\n",
       "\n",
       "    .dataframe thead th {\n",
       "        text-align: right;\n",
       "    }\n",
       "</style>\n",
       "<table border=\"1\" class=\"dataframe\">\n",
       "  <thead>\n",
       "    <tr style=\"text-align: right;\">\n",
       "      <th></th>\n",
       "      <th>Train Accuracy</th>\n",
       "      <th>Validation Accuracy</th>\n",
       "      <th>Train f1</th>\n",
       "      <th>Validation f1</th>\n",
       "      <th>Difference(Accuracy)</th>\n",
       "      <th>Difference(f1)</th>\n",
       "    </tr>\n",
       "  </thead>\n",
       "  <tbody>\n",
       "    <tr>\n",
       "      <th>0</th>\n",
       "      <td>0.880485</td>\n",
       "      <td>0.874736</td>\n",
       "      <td>0.697573</td>\n",
       "      <td>0.687410</td>\n",
       "      <td>0.652948</td>\n",
       "      <td>1.456847</td>\n",
       "    </tr>\n",
       "    <tr>\n",
       "      <th>1</th>\n",
       "      <td>0.879496</td>\n",
       "      <td>0.878926</td>\n",
       "      <td>0.692567</td>\n",
       "      <td>0.695966</td>\n",
       "      <td>0.064865</td>\n",
       "      <td>0.490892</td>\n",
       "    </tr>\n",
       "    <tr>\n",
       "      <th>2</th>\n",
       "      <td>0.878972</td>\n",
       "      <td>0.874101</td>\n",
       "      <td>0.691735</td>\n",
       "      <td>0.682300</td>\n",
       "      <td>0.554182</td>\n",
       "      <td>1.364036</td>\n",
       "    </tr>\n",
       "    <tr>\n",
       "      <th>3</th>\n",
       "      <td>0.881218</td>\n",
       "      <td>0.866991</td>\n",
       "      <td>0.691484</td>\n",
       "      <td>0.678733</td>\n",
       "      <td>1.614404</td>\n",
       "      <td>1.844027</td>\n",
       "    </tr>\n",
       "    <tr>\n",
       "      <th>4</th>\n",
       "      <td>0.881967</td>\n",
       "      <td>0.880094</td>\n",
       "      <td>0.691743</td>\n",
       "      <td>0.687042</td>\n",
       "      <td>0.212427</td>\n",
       "      <td>0.679668</td>\n",
       "    </tr>\n",
       "    <tr>\n",
       "      <th>5</th>\n",
       "      <td>0.879098</td>\n",
       "      <td>0.871194</td>\n",
       "      <td>0.687358</td>\n",
       "      <td>0.654088</td>\n",
       "      <td>0.899101</td>\n",
       "      <td>4.840274</td>\n",
       "    </tr>\n",
       "    <tr>\n",
       "      <th>6</th>\n",
       "      <td>0.880878</td>\n",
       "      <td>0.869056</td>\n",
       "      <td>0.695652</td>\n",
       "      <td>0.652427</td>\n",
       "      <td>1.342068</td>\n",
       "      <td>6.213592</td>\n",
       "    </tr>\n",
       "    <tr>\n",
       "      <th>7</th>\n",
       "      <td>0.884492</td>\n",
       "      <td>0.880146</td>\n",
       "      <td>0.705882</td>\n",
       "      <td>0.697460</td>\n",
       "      <td>0.491337</td>\n",
       "      <td>1.193226</td>\n",
       "    </tr>\n",
       "    <tr>\n",
       "      <th>8</th>\n",
       "      <td>0.883615</td>\n",
       "      <td>0.872000</td>\n",
       "      <td>0.706983</td>\n",
       "      <td>0.656442</td>\n",
       "      <td>1.314434</td>\n",
       "      <td>7.148926</td>\n",
       "    </tr>\n",
       "    <tr>\n",
       "      <th>9</th>\n",
       "      <td>0.879156</td>\n",
       "      <td>0.907143</td>\n",
       "      <td>0.692727</td>\n",
       "      <td>0.763636</td>\n",
       "      <td>3.183350</td>\n",
       "      <td>10.236220</td>\n",
       "    </tr>\n",
       "  </tbody>\n",
       "</table>\n",
       "</div>"
      ],
      "text/plain": [
       "   Train Accuracy  Validation Accuracy  Train f1  Validation f1  \\\n",
       "0        0.880485             0.874736  0.697573       0.687410   \n",
       "1        0.879496             0.878926  0.692567       0.695966   \n",
       "2        0.878972             0.874101  0.691735       0.682300   \n",
       "3        0.881218             0.866991  0.691484       0.678733   \n",
       "4        0.881967             0.880094  0.691743       0.687042   \n",
       "5        0.879098             0.871194  0.687358       0.654088   \n",
       "6        0.880878             0.869056  0.695652       0.652427   \n",
       "7        0.884492             0.880146  0.705882       0.697460   \n",
       "8        0.883615             0.872000  0.706983       0.656442   \n",
       "9        0.879156             0.907143  0.692727       0.763636   \n",
       "\n",
       "   Difference(Accuracy)  Difference(f1)  \n",
       "0              0.652948        1.456847  \n",
       "1              0.064865        0.490892  \n",
       "2              0.554182        1.364036  \n",
       "3              1.614404        1.844027  \n",
       "4              0.212427        0.679668  \n",
       "5              0.899101        4.840274  \n",
       "6              1.342068        6.213592  \n",
       "7              0.491337        1.193226  \n",
       "8              1.314434        7.148926  \n",
       "9              3.183350       10.236220  "
      ]
     },
     "execution_count": 72,
     "metadata": {},
     "output_type": "execute_result"
    }
   ],
   "source": [
    "X = df[selected_features]\n",
    "y = df['loan_status']\n",
    "X_train, X_test, y_train, y_test = train_test_split(X, y, test_size = 0.2, random_state = 17)\n",
    "accuracy_train = []\n",
    "accuracy_val = []\n",
    "f1_train = []\n",
    "f1_val = []\n",
    "for i in range(0,10):\n",
    "    rs = random.randint(0, 100)\n",
    "    X_train, X_val, y_train, y_val = train_test_split(X_train, y_train, test_size = 0.2, random_state = rs)\n",
    "    test_model_abc = AdaBoostClassifier(n_estimators = 200, learning_rate = 0.544)\n",
    "    test_model_abc.fit(X_train, y_train)\n",
    "    y_train_pred_tabc = test_model_abc.predict(X_train)\n",
    "    y_val_pred_tabc = test_model_abc.predict(X_val)\n",
    "    accuracy_train.append(accuracy_score(y_train, y_train_pred_tabc))\n",
    "    accuracy_val.append(accuracy_score(y_val, y_val_pred_tabc))\n",
    "    f1_train.append(f1_score(y_train, y_train_pred_tabc))\n",
    "    f1_val.append(f1_score(y_val, y_val_pred_tabc))\n",
    "data = {'Train Accuracy' : accuracy_train, 'Validation Accuracy' : accuracy_val, 'Train f1' : f1_train, 'Validation f1' : f1_val}\n",
    "data = pd.DataFrame(data)\n",
    "data['Difference(Accuracy)'] = ((np.abs(data['Train Accuracy'] - data['Validation Accuracy'])) * 100)/(data['Train Accuracy'])\n",
    "data['Difference(f1)'] = ((np.abs(data['Train f1'] - data['Validation f1'])) * 100)/(data['Train f1'])\n",
    "data"
   ]
  },
  {
   "cell_type": "markdown",
   "metadata": {},
   "source": [
    "### Evaluating the Consistency of the Model with KNeighborsClassifier()"
   ]
  },
  {
   "cell_type": "code",
   "execution_count": 73,
   "metadata": {},
   "outputs": [
    {
     "data": {
      "text/html": [
       "<div>\n",
       "<style scoped>\n",
       "    .dataframe tbody tr th:only-of-type {\n",
       "        vertical-align: middle;\n",
       "    }\n",
       "\n",
       "    .dataframe tbody tr th {\n",
       "        vertical-align: top;\n",
       "    }\n",
       "\n",
       "    .dataframe thead th {\n",
       "        text-align: right;\n",
       "    }\n",
       "</style>\n",
       "<table border=\"1\" class=\"dataframe\">\n",
       "  <thead>\n",
       "    <tr style=\"text-align: right;\">\n",
       "      <th></th>\n",
       "      <th>Train Accuracy</th>\n",
       "      <th>Validation Accuracy</th>\n",
       "      <th>Train f1</th>\n",
       "      <th>Validation f1</th>\n",
       "      <th>Difference(Accuracy)</th>\n",
       "      <th>Difference(f1)</th>\n",
       "    </tr>\n",
       "  </thead>\n",
       "  <tbody>\n",
       "    <tr>\n",
       "      <th>0</th>\n",
       "      <td>0.902786</td>\n",
       "      <td>0.835220</td>\n",
       "      <td>0.714708</td>\n",
       "      <td>0.500872</td>\n",
       "      <td>7.484250</td>\n",
       "      <td>29.919405</td>\n",
       "    </tr>\n",
       "    <tr>\n",
       "      <th>1</th>\n",
       "      <td>0.899940</td>\n",
       "      <td>0.823304</td>\n",
       "      <td>0.705072</td>\n",
       "      <td>0.454478</td>\n",
       "      <td>8.515710</td>\n",
       "      <td>35.541556</td>\n",
       "    </tr>\n",
       "    <tr>\n",
       "      <th>2</th>\n",
       "      <td>0.897107</td>\n",
       "      <td>0.824640</td>\n",
       "      <td>0.692497</td>\n",
       "      <td>0.496124</td>\n",
       "      <td>8.077855</td>\n",
       "      <td>28.357251</td>\n",
       "    </tr>\n",
       "    <tr>\n",
       "      <th>3</th>\n",
       "      <td>0.896393</td>\n",
       "      <td>0.817535</td>\n",
       "      <td>0.689675</td>\n",
       "      <td>0.448471</td>\n",
       "      <td>8.797341</td>\n",
       "      <td>34.973512</td>\n",
       "    </tr>\n",
       "    <tr>\n",
       "      <th>4</th>\n",
       "      <td>0.895433</td>\n",
       "      <td>0.825293</td>\n",
       "      <td>0.691324</td>\n",
       "      <td>0.427035</td>\n",
       "      <td>7.833137</td>\n",
       "      <td>38.229339</td>\n",
       "    </tr>\n",
       "    <tr>\n",
       "      <th>5</th>\n",
       "      <td>0.890662</td>\n",
       "      <td>0.819672</td>\n",
       "      <td>0.674510</td>\n",
       "      <td>0.448029</td>\n",
       "      <td>7.970419</td>\n",
       "      <td>33.577144</td>\n",
       "    </tr>\n",
       "    <tr>\n",
       "      <th>6</th>\n",
       "      <td>0.890027</td>\n",
       "      <td>0.809802</td>\n",
       "      <td>0.674607</td>\n",
       "      <td>0.424779</td>\n",
       "      <td>9.013762</td>\n",
       "      <td>37.033196</td>\n",
       "    </tr>\n",
       "    <tr>\n",
       "      <th>7</th>\n",
       "      <td>0.888381</td>\n",
       "      <td>0.811528</td>\n",
       "      <td>0.662983</td>\n",
       "      <td>0.449198</td>\n",
       "      <td>8.650875</td>\n",
       "      <td>32.245989</td>\n",
       "    </tr>\n",
       "    <tr>\n",
       "      <th>8</th>\n",
       "      <td>0.889620</td>\n",
       "      <td>0.781714</td>\n",
       "      <td>0.657194</td>\n",
       "      <td>0.356902</td>\n",
       "      <td>12.129384</td>\n",
       "      <td>45.692966</td>\n",
       "    </tr>\n",
       "    <tr>\n",
       "      <th>9</th>\n",
       "      <td>0.893815</td>\n",
       "      <td>0.798571</td>\n",
       "      <td>0.667413</td>\n",
       "      <td>0.394850</td>\n",
       "      <td>10.655829</td>\n",
       "      <td>40.838782</td>\n",
       "    </tr>\n",
       "  </tbody>\n",
       "</table>\n",
       "</div>"
      ],
      "text/plain": [
       "   Train Accuracy  Validation Accuracy  Train f1  Validation f1  \\\n",
       "0        0.902786             0.835220  0.714708       0.500872   \n",
       "1        0.899940             0.823304  0.705072       0.454478   \n",
       "2        0.897107             0.824640  0.692497       0.496124   \n",
       "3        0.896393             0.817535  0.689675       0.448471   \n",
       "4        0.895433             0.825293  0.691324       0.427035   \n",
       "5        0.890662             0.819672  0.674510       0.448029   \n",
       "6        0.890027             0.809802  0.674607       0.424779   \n",
       "7        0.888381             0.811528  0.662983       0.449198   \n",
       "8        0.889620             0.781714  0.657194       0.356902   \n",
       "9        0.893815             0.798571  0.667413       0.394850   \n",
       "\n",
       "   Difference(Accuracy)  Difference(f1)  \n",
       "0              7.484250       29.919405  \n",
       "1              8.515710       35.541556  \n",
       "2              8.077855       28.357251  \n",
       "3              8.797341       34.973512  \n",
       "4              7.833137       38.229339  \n",
       "5              7.970419       33.577144  \n",
       "6              9.013762       37.033196  \n",
       "7              8.650875       32.245989  \n",
       "8             12.129384       45.692966  \n",
       "9             10.655829       40.838782  "
      ]
     },
     "execution_count": 73,
     "metadata": {},
     "output_type": "execute_result"
    }
   ],
   "source": [
    "X = df[selected_features]\n",
    "y = df['loan_status']\n",
    "X_train, X_test, y_train, y_test = train_test_split(X, y, test_size = 0.2, random_state = 17)\n",
    "accuracy_train = []\n",
    "accuracy_val = []\n",
    "f1_train = []\n",
    "f1_val = []\n",
    "for i in range(0,10):\n",
    "    rs = random.randint(0, 100)\n",
    "    X_train, X_val, y_train, y_val = train_test_split(X_train, y_train, test_size = 0.2, random_state = rs)\n",
    "    test_model_knc = KNeighborsClassifier(weights = 'uniform', n_neighbors = 2)\n",
    "    test_model_knc.fit(X_train, y_train)\n",
    "    y_train_pred_tknc = test_model_knc.predict(X_train)\n",
    "    y_val_pred_tknc = test_model_knc.predict(X_val)\n",
    "    accuracy_train.append(accuracy_score(y_train, y_train_pred_tknc))\n",
    "    accuracy_val.append(accuracy_score(y_val, y_val_pred_tknc))\n",
    "    f1_train.append(f1_score(y_train, y_train_pred_tknc))\n",
    "    f1_val.append(f1_score(y_val, y_val_pred_tknc))\n",
    "data = {'Train Accuracy' : accuracy_train, 'Validation Accuracy' : accuracy_val, 'Train f1' : f1_train, 'Validation f1' : f1_val}\n",
    "data = pd.DataFrame(data)\n",
    "data['Difference(Accuracy)'] = ((np.abs(data['Train Accuracy'] - data['Validation Accuracy'])) * 100)/(data['Train Accuracy'])\n",
    "data['Difference(f1)'] = ((np.abs(data['Train f1'] - data['Validation f1'])) * 100)/(data['Train f1'])\n",
    "data"
   ]
  },
  {
   "cell_type": "markdown",
   "metadata": {},
   "source": [
    "### Evaluating the Consistency of the Model with XGBoostClassifier()"
   ]
  },
  {
   "cell_type": "code",
   "execution_count": 74,
   "metadata": {},
   "outputs": [
    {
     "name": "stdout",
     "output_type": "stream",
     "text": [
      "[21:19:54] WARNING: C:/Users/Administrator/workspace/xgboost-win64_release_1.3.0/src/learner.cc:1061: Starting in XGBoost 1.3.0, the default evaluation metric used with the objective 'binary:logistic' was changed from 'error' to 'logloss'. Explicitly set eval_metric if you'd like to restore the old behavior.\n",
      "[21:19:57] WARNING: C:/Users/Administrator/workspace/xgboost-win64_release_1.3.0/src/learner.cc:1061: Starting in XGBoost 1.3.0, the default evaluation metric used with the objective 'binary:logistic' was changed from 'error' to 'logloss'. Explicitly set eval_metric if you'd like to restore the old behavior.\n",
      "[21:19:59] WARNING: C:/Users/Administrator/workspace/xgboost-win64_release_1.3.0/src/learner.cc:1061: Starting in XGBoost 1.3.0, the default evaluation metric used with the objective 'binary:logistic' was changed from 'error' to 'logloss'. Explicitly set eval_metric if you'd like to restore the old behavior.\n",
      "[21:20:00] WARNING: C:/Users/Administrator/workspace/xgboost-win64_release_1.3.0/src/learner.cc:1061: Starting in XGBoost 1.3.0, the default evaluation metric used with the objective 'binary:logistic' was changed from 'error' to 'logloss'. Explicitly set eval_metric if you'd like to restore the old behavior.\n",
      "[21:20:02] WARNING: C:/Users/Administrator/workspace/xgboost-win64_release_1.3.0/src/learner.cc:1061: Starting in XGBoost 1.3.0, the default evaluation metric used with the objective 'binary:logistic' was changed from 'error' to 'logloss'. Explicitly set eval_metric if you'd like to restore the old behavior.\n",
      "[21:20:03] WARNING: C:/Users/Administrator/workspace/xgboost-win64_release_1.3.0/src/learner.cc:1061: Starting in XGBoost 1.3.0, the default evaluation metric used with the objective 'binary:logistic' was changed from 'error' to 'logloss'. Explicitly set eval_metric if you'd like to restore the old behavior.\n",
      "[21:20:03] WARNING: C:/Users/Administrator/workspace/xgboost-win64_release_1.3.0/src/learner.cc:1061: Starting in XGBoost 1.3.0, the default evaluation metric used with the objective 'binary:logistic' was changed from 'error' to 'logloss'. Explicitly set eval_metric if you'd like to restore the old behavior.\n",
      "[21:20:04] WARNING: C:/Users/Administrator/workspace/xgboost-win64_release_1.3.0/src/learner.cc:1061: Starting in XGBoost 1.3.0, the default evaluation metric used with the objective 'binary:logistic' was changed from 'error' to 'logloss'. Explicitly set eval_metric if you'd like to restore the old behavior.\n",
      "[21:20:05] WARNING: C:/Users/Administrator/workspace/xgboost-win64_release_1.3.0/src/learner.cc:1061: Starting in XGBoost 1.3.0, the default evaluation metric used with the objective 'binary:logistic' was changed from 'error' to 'logloss'. Explicitly set eval_metric if you'd like to restore the old behavior.\n",
      "[21:20:05] WARNING: C:/Users/Administrator/workspace/xgboost-win64_release_1.3.0/src/learner.cc:1061: Starting in XGBoost 1.3.0, the default evaluation metric used with the objective 'binary:logistic' was changed from 'error' to 'logloss'. Explicitly set eval_metric if you'd like to restore the old behavior.\n"
     ]
    },
    {
     "data": {
      "text/html": [
       "<div>\n",
       "<style scoped>\n",
       "    .dataframe tbody tr th:only-of-type {\n",
       "        vertical-align: middle;\n",
       "    }\n",
       "\n",
       "    .dataframe tbody tr th {\n",
       "        vertical-align: top;\n",
       "    }\n",
       "\n",
       "    .dataframe thead th {\n",
       "        text-align: right;\n",
       "    }\n",
       "</style>\n",
       "<table border=\"1\" class=\"dataframe\">\n",
       "  <thead>\n",
       "    <tr style=\"text-align: right;\">\n",
       "      <th></th>\n",
       "      <th>Train Accuracy</th>\n",
       "      <th>Validation Accuracy</th>\n",
       "      <th>Train f1</th>\n",
       "      <th>Validation f1</th>\n",
       "      <th>Difference(Accuracy)</th>\n",
       "      <th>Difference(f1)</th>\n",
       "    </tr>\n",
       "  </thead>\n",
       "  <tbody>\n",
       "    <tr>\n",
       "      <th>0</th>\n",
       "      <td>0.999952</td>\n",
       "      <td>0.902359</td>\n",
       "      <td>0.999891</td>\n",
       "      <td>0.751828</td>\n",
       "      <td>9.759724</td>\n",
       "      <td>24.808953</td>\n",
       "    </tr>\n",
       "    <tr>\n",
       "      <th>1</th>\n",
       "      <td>0.999940</td>\n",
       "      <td>0.902182</td>\n",
       "      <td>0.999864</td>\n",
       "      <td>0.743073</td>\n",
       "      <td>9.776418</td>\n",
       "      <td>25.682616</td>\n",
       "    </tr>\n",
       "    <tr>\n",
       "      <th>2</th>\n",
       "      <td>0.999925</td>\n",
       "      <td>0.889988</td>\n",
       "      <td>0.999827</td>\n",
       "      <td>0.742817</td>\n",
       "      <td>10.994529</td>\n",
       "      <td>25.705439</td>\n",
       "    </tr>\n",
       "    <tr>\n",
       "      <th>3</th>\n",
       "      <td>1.000000</td>\n",
       "      <td>0.903709</td>\n",
       "      <td>1.000000</td>\n",
       "      <td>0.745796</td>\n",
       "      <td>9.629075</td>\n",
       "      <td>25.420376</td>\n",
       "    </tr>\n",
       "    <tr>\n",
       "      <th>4</th>\n",
       "      <td>1.000000</td>\n",
       "      <td>0.891335</td>\n",
       "      <td>1.000000</td>\n",
       "      <td>0.719128</td>\n",
       "      <td>10.866511</td>\n",
       "      <td>28.087167</td>\n",
       "    </tr>\n",
       "    <tr>\n",
       "      <th>5</th>\n",
       "      <td>1.000000</td>\n",
       "      <td>0.885831</td>\n",
       "      <td>1.000000</td>\n",
       "      <td>0.727273</td>\n",
       "      <td>11.416862</td>\n",
       "      <td>27.272727</td>\n",
       "    </tr>\n",
       "    <tr>\n",
       "      <th>6</th>\n",
       "      <td>1.000000</td>\n",
       "      <td>0.895391</td>\n",
       "      <td>1.000000</td>\n",
       "      <td>0.725528</td>\n",
       "      <td>10.460863</td>\n",
       "      <td>27.447217</td>\n",
       "    </tr>\n",
       "    <tr>\n",
       "      <th>7</th>\n",
       "      <td>1.000000</td>\n",
       "      <td>0.889296</td>\n",
       "      <td>1.000000</td>\n",
       "      <td>0.704156</td>\n",
       "      <td>11.070448</td>\n",
       "      <td>29.584352</td>\n",
       "    </tr>\n",
       "    <tr>\n",
       "      <th>8</th>\n",
       "      <td>1.000000</td>\n",
       "      <td>0.900571</td>\n",
       "      <td>1.000000</td>\n",
       "      <td>0.735562</td>\n",
       "      <td>9.942857</td>\n",
       "      <td>26.443769</td>\n",
       "    </tr>\n",
       "    <tr>\n",
       "      <th>9</th>\n",
       "      <td>1.000000</td>\n",
       "      <td>0.880000</td>\n",
       "      <td>1.000000</td>\n",
       "      <td>0.693431</td>\n",
       "      <td>12.000000</td>\n",
       "      <td>30.656934</td>\n",
       "    </tr>\n",
       "  </tbody>\n",
       "</table>\n",
       "</div>"
      ],
      "text/plain": [
       "   Train Accuracy  Validation Accuracy  Train f1  Validation f1  \\\n",
       "0        0.999952             0.902359  0.999891       0.751828   \n",
       "1        0.999940             0.902182  0.999864       0.743073   \n",
       "2        0.999925             0.889988  0.999827       0.742817   \n",
       "3        1.000000             0.903709  1.000000       0.745796   \n",
       "4        1.000000             0.891335  1.000000       0.719128   \n",
       "5        1.000000             0.885831  1.000000       0.727273   \n",
       "6        1.000000             0.895391  1.000000       0.725528   \n",
       "7        1.000000             0.889296  1.000000       0.704156   \n",
       "8        1.000000             0.900571  1.000000       0.735562   \n",
       "9        1.000000             0.880000  1.000000       0.693431   \n",
       "\n",
       "   Difference(Accuracy)  Difference(f1)  \n",
       "0              9.759724       24.808953  \n",
       "1              9.776418       25.682616  \n",
       "2             10.994529       25.705439  \n",
       "3              9.629075       25.420376  \n",
       "4             10.866511       28.087167  \n",
       "5             11.416862       27.272727  \n",
       "6             10.460863       27.447217  \n",
       "7             11.070448       29.584352  \n",
       "8              9.942857       26.443769  \n",
       "9             12.000000       30.656934  "
      ]
     },
     "execution_count": 74,
     "metadata": {},
     "output_type": "execute_result"
    }
   ],
   "source": [
    "X = df[selected_features]\n",
    "y = df['loan_status']\n",
    "X_train, X_test, y_train, y_test = train_test_split(X, y, test_size = 0.2, random_state = 17)\n",
    "accuracy_train = []\n",
    "accuracy_val = []\n",
    "f1_train = []\n",
    "f1_val = []\n",
    "for i in range(0,10):\n",
    "    rs = random.randint(0, 100)\n",
    "    X_train, X_val, y_train, y_val = train_test_split(X_train, y_train, test_size = 0.2, random_state = rs)\n",
    "    test_model_xgbc = XGBClassifier(use_label_encoder = False, n_estimators = 50, max_depth = 35, learning_rate = 0.737)\n",
    "    test_model_xgbc.fit(X_train, y_train)\n",
    "    y_train_pred_txgbc = test_model_xgbc.predict(X_train)\n",
    "    y_val_pred_txgbc = test_model_xgbc.predict(X_val)\n",
    "    accuracy_train.append(accuracy_score(y_train, y_train_pred_txgbc))\n",
    "    accuracy_val.append(accuracy_score(y_val, y_val_pred_txgbc))\n",
    "    f1_train.append(f1_score(y_train, y_train_pred_txgbc))\n",
    "    f1_val.append(f1_score(y_val, y_val_pred_txgbc))\n",
    "data = {'Train Accuracy' : accuracy_train, 'Validation Accuracy' : accuracy_val, 'Train f1' : f1_train, 'Validation f1' : f1_val}\n",
    "data = pd.DataFrame(data)\n",
    "data['Difference(Accuracy)'] = ((np.abs(data['Train Accuracy'] - data['Validation Accuracy'])) * 100)/(data['Train Accuracy'])\n",
    "data['Difference(f1)'] = ((np.abs(data['Train f1'] - data['Validation f1'])) * 100)/(data['Train f1'])\n",
    "data"
   ]
  },
  {
   "cell_type": "markdown",
   "metadata": {},
   "source": [
    "### KMeans()"
   ]
  },
  {
   "cell_type": "code",
   "execution_count": 75,
   "metadata": {},
   "outputs": [],
   "source": [
    "X = df[selected_features]\n",
    "y = df['loan_status']\n",
    "kmc = KMeans(n_clusters = 2)\n",
    "kmc.fit_predict(X)\n",
    "X['cluster'] = pd.Series(kmc.labels_)"
   ]
  },
  {
   "cell_type": "code",
   "execution_count": 76,
   "metadata": {},
   "outputs": [
    {
     "name": "stdout",
     "output_type": "stream",
     "text": [
      "Accuracy:  0.39829962247935913\n",
      "f1_score:  0.3962426855558978\n"
     ]
    }
   ],
   "source": [
    "print('Accuracy: ', accuracy_score(y, X['cluster']))\n",
    "print('f1_score: ', f1_score(y, X['cluster']))"
   ]
  },
  {
   "cell_type": "markdown",
   "metadata": {},
   "source": [
    "### Final Prediction"
   ]
  },
  {
   "cell_type": "code",
   "execution_count": 77,
   "metadata": {},
   "outputs": [
    {
     "data": {
      "text/plain": [
       "array([1, 0, 0, ..., 0, 0, 0], dtype=int64)"
      ]
     },
     "execution_count": 77,
     "metadata": {},
     "output_type": "execute_result"
    }
   ],
   "source": [
    "prediction = test_model_rfc.predict(X_test)\n",
    "prediction"
   ]
  },
  {
   "cell_type": "code",
   "execution_count": 78,
   "metadata": {},
   "outputs": [
    {
     "name": "stdout",
     "output_type": "stream",
     "text": [
      "Test accuracy:  0.8962712904710757\n",
      "Test f1 score:  0.7145270270270271\n"
     ]
    }
   ],
   "source": [
    "print('Test accuracy: ', accuracy_score(y_test, prediction))\n",
    "print('Test f1 score: ', f1_score(y_test, prediction))"
   ]
  },
  {
   "cell_type": "markdown",
   "metadata": {},
   "source": [
    "### Exporting Predictions to CSV"
   ]
  },
  {
   "cell_type": "code",
   "execution_count": 79,
   "metadata": {},
   "outputs": [],
   "source": [
    "prediction = pd.DataFrame((prediction))\n",
    "prediction.to_csv('Prediction.csv')"
   ]
  },
  {
   "cell_type": "markdown",
   "metadata": {},
   "source": [
    "### Pickle"
   ]
  },
  {
   "cell_type": "code",
   "execution_count": 80,
   "metadata": {},
   "outputs": [],
   "source": [
    "file = open(r'C:\\\\Users\\\\Brajesh Mohapatra\\\\Python\\\\Probability of Default Prediction\\\\probability_default_prediction.pkl', 'wb')\n",
    "pickle.dump(test_model_rfc, file)"
   ]
  }
 ],
 "metadata": {
  "kernelspec": {
   "display_name": "Python 3",
   "language": "python",
   "name": "python3"
  },
  "language_info": {
   "codemirror_mode": {
    "name": "ipython",
    "version": 3
   },
   "file_extension": ".py",
   "mimetype": "text/x-python",
   "name": "python",
   "nbconvert_exporter": "python",
   "pygments_lexer": "ipython3",
   "version": "3.8.5"
  }
 },
 "nbformat": 4,
 "nbformat_minor": 4
}
